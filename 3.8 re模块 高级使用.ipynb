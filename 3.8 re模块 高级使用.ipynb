{
 "cells": [
  {
   "cell_type": "markdown",
   "metadata": {},
   "source": [
    "### search 函数 \n"
   ]
  },
  {
   "cell_type": "code",
   "execution_count": null,
   "metadata": {},
   "outputs": [],
   "source": [
    "# 导包\n",
    "import re\n",
    "# re.match() 是用来在字符串开头进行匹配，要求模式从目标字符串的开头开始匹配。如果目标字符串的开头不满足模式要求，就无法匹配成功。\n",
    "ret = re.match('\\d+','阅读次数为 9999 次')\n",
    "print(ret)\n",
    "# 输出: None\n",
    "\n",
    "\n",
    "# re.search() 函数在给定的文本中搜索匹配指定模式的内容。当在文本中找到与模式匹配的部分时，它会返回一个匹配对象；否则返回 None。\n",
    "ret = re.search('\\d+','阅读次数为 999 次')\n",
    "print(ret)\n",
    "# 输出: <re.Match object; span=(6, 9), match='999'"
   ]
  },
  {
   "cell_type": "markdown",
   "metadata": {},
   "source": [
    "### findall 函数 "
   ]
  },
  {
   "cell_type": "code",
   "execution_count": 10,
   "metadata": {},
   "outputs": [
    {
     "name": "stdout",
     "output_type": "stream",
     "text": [
      "[('awhahlf@163.com', '163'), ('aaaa____@126.com', '126'), ('aaaa____@163.com', '163')]\n",
      "<class 'list'>\n",
      "\n",
      "['awhahlf@163.com', 'test10086@qq.com', 'aaaa____@126.com', 'aaaa____@163.com']\n",
      "<class 'list'>\n"
     ]
    }
   ],
   "source": [
    "import re\n",
    "\n",
    "emails = '''\n",
    "awhahlf@163.com\n",
    "affafafafaaaaaaaaaaaaaaaa@163.com\n",
    "afa_@163.com\n",
    "225afafaf@163.com\n",
    "test10086@qq.com\n",
    "aaaa____@126.com\n",
    "aaaa____@163.com\n",
    "'''\n",
    "\n",
    "# 使用 findall() 方法查找符合模式的全部匹配项\n",
    "result = re.findall('(^[a-zA-Z]\\w{5,17}@(163|126)\\.com$)', emails, re.MULTILINE)\n",
    "print(result)  # 输出: [('awhahlf@163.com', '163'), ('aaaa____@126.com', '126'), ('aaaa____@163.com', '163')]\n",
    "print(type(result))  # 输出: <class 'list'>\n",
    "print()\n",
    "\n",
    "# 使用 compile() 方法创建正则表达式对象，然后使用 findall() 方法进行匹配\n",
    "pattern = re.compile('(^[a-zA-Z]\\w{5,17}@[a-zA-Z0-9]+\\.[a-zA-Z]{2,}$)', re.MULTILINE)\n",
    "ret = pattern.findall(emails)\n",
    "print(ret)\n",
    "print(type(ret))  # 输出: <class 'list'>\n",
    "\n"
   ]
  },
  {
   "cell_type": "markdown",
   "metadata": {},
   "source": [
    "### sub 函数"
   ]
  },
  {
   "cell_type": "code",
   "execution_count": 13,
   "metadata": {},
   "outputs": [
    {
     "name": "stdout",
     "output_type": "stream",
     "text": [
      "The quick brown cat jumps over the lazy dog.\n"
     ]
    }
   ],
   "source": [
    "import re\n",
    "\n",
    "text = \"The quick brown fox jumps over the lazy dog.\"\n",
    "new_text = re.sub(r'fox', 'cat', text)  # 将字符串中的 'fox' 替换为 'cat'\n",
    "print(new_text)\n",
    "# Output: \"The quick brown cat jumps over the lazy dog.\""
   ]
  },
  {
   "cell_type": "code",
   "execution_count": 14,
   "metadata": {},
   "outputs": [
    {
     "name": "stdout",
     "output_type": "stream",
     "text": [
      "Numbers: 2 4 6 8 10\n"
     ]
    }
   ],
   "source": [
    "import re\n",
    "\n",
    "def double(match):\n",
    "    value = int(match.group())\n",
    "    return str(value * 2)\n",
    "\n",
    "text = \"Numbers: 1 2 3 4 5\"\n",
    "result = re.sub(r'\\d+', double, text)  # 将匹配的数字字符串翻倍\n",
    "print(result)\n",
    "# Output: \"Numbers: 2 4 6 8 10\"\n"
   ]
  },
  {
   "cell_type": "code",
   "execution_count": 18,
   "metadata": {},
   "outputs": [
    {
     "name": "stdout",
     "output_type": "stream",
     "text": [
      "python = 189\n",
      "python = 189\n"
     ]
    }
   ],
   "source": [
    "import re \n",
    "\n",
    "# 需求: 匹配一个数字，把匹配结果的数字加1 返回\n",
    "ret = re.sub(r'\\d+', '189', 'python = 188')\n",
    "print(ret)\n",
    "\n",
    "\n",
    "def add(result): # result 是指匹配对象\n",
    "    str_num = result.group() # 获取匹配结果\n",
    "    num = int(str_num) + 1\n",
    "    return str(num)\n",
    "\n",
    "ret1 = re.sub(r'\\d+', add, 'python = 188')\n",
    "print(ret1)"
   ]
  },
  {
   "cell_type": "markdown",
   "metadata": {},
   "source": [
    "### split 函数"
   ]
  },
  {
   "cell_type": "code",
   "execution_count": 19,
   "metadata": {},
   "outputs": [
    {
     "name": "stdout",
     "output_type": "stream",
     "text": [
      "['Hello', 'world', 'this', 'is', 'a', 'sample', 'text']\n"
     ]
    }
   ],
   "source": [
    "import re\n",
    "\n",
    "text = \"Hello,world|this-is.a_sample;text\"\n",
    "parts = re.split(r'[,|.;_\\-\\s]', text)  # 使用正则表达式模式分割字符串\n",
    "print(parts)\n",
    "# Output: ['Hello', 'world', 'this', 'is', 'a', 'sample', 'text']\n"
   ]
  },
  {
   "cell_type": "code",
   "execution_count": 21,
   "metadata": {},
   "outputs": [
    {
     "name": "stdout",
     "output_type": "stream",
     "text": [
      "['hello', 'world', 'beijing', '']\n",
      "<class 'list'>\n"
     ]
    }
   ],
   "source": [
    "import re \n",
    "\n",
    "txt = 'hello, world, beijing.'\n",
    "part = re.split(r'\\W+', txt)\n",
    "print(part)\n",
    "# [output: ['hello', 'world', 'beijing', '']\n",
    "\n",
    "print(type(part))\n",
    "# output: <class 'list'>"
   ]
  },
  {
   "cell_type": "code",
   "execution_count": 22,
   "metadata": {},
   "outputs": [
    {
     "name": "stdout",
     "output_type": "stream",
     "text": [
      "['info', 'xiaoZhang', '33', 'shandong']\n"
     ]
    }
   ],
   "source": [
    "# 需求：切割字符串“info:xiaoZhang 33 shandong”\n",
    "\n",
    "import re \n",
    "\n",
    "info = \"info:xiaoZhang 33 shandong\"\n",
    "\n",
    "result= re.split(r':| ', info)\n",
    "print(result)"
   ]
  },
  {
   "cell_type": "markdown",
   "metadata": {},
   "source": [
    "### 练习\n",
    "<pre>\n",
    "1、验证账号是否合法(字母开头，允许5-16字节，允许字母数字下划线)。\n",
    "2、验证密码是否合法(以字母开头，长度在6~18之间，只能包含字母、数字和下划线)\n",
    "3、匹配是否全是汉字：\n",
    "4、验证日期格式（2020-09-10）\n",
    "5、验证身份证号码。\n",
    "</pre>"
   ]
  },
  {
   "cell_type": "code",
   "execution_count": 24,
   "metadata": {},
   "outputs": [
    {
     "name": "stdout",
     "output_type": "stream",
     "text": [
      "账号 'user123' 合法\n",
      "账号 'user_name' 合法\n",
      "账号 'user' 不合法\n",
      "账号 '123username' 不合法\n",
      "账号 'user@name' 不合法\n",
      "账号 'user-name' 不合法\n",
      "账号 'user__name' 合法\n",
      "账号 'User123' 合法\n"
     ]
    }
   ],
   "source": [
    "# 1、验证账号是否合法(字母开头，允许5-16字节，允许字母数字下划线)。\n",
    "import re \n",
    "\n",
    "def check_account(account):\n",
    "    pattern = re.compile(r'^[a-zA-Z]\\w{4,15}$')\n",
    "    return bool(pattern.match(account))\n",
    "\n",
    "# 测试用例\n",
    "usernames = [\n",
    "    \"user123\",  # 合法账号\n",
    "    \"user_name\",  # 合法账号\n",
    "    \"user\",  # 不合法账号，少于5个字符\n",
    "    \"123username\",  # 不合法账号，以数字开头\n",
    "    \"user@name\",  # 不合法账号，包含特殊字符@\n",
    "    \"user-name\",  # 不合法账号，包含特殊字符-\n",
    "    \"user__name\",  # 合法账号\n",
    "    \"User123\",  # 合法账号\n",
    "]\n",
    "\n",
    "for username in usernames:\n",
    "    if check_account(username):\n",
    "        print(f\"账号 '{username}' 合法\")\n",
    "    else:\n",
    "        print(f\"账号 '{username}' 不合法\")"
   ]
  },
  {
   "cell_type": "code",
   "execution_count": 25,
   "metadata": {},
   "outputs": [
    {
     "name": "stdout",
     "output_type": "stream",
     "text": [
      "密码 'Password123' 合法\n",
      "密码 'pass_word_456' 合法\n",
      "密码 '12345' 不合法\n",
      "密码 'p@ssword' 不合法\n",
      "密码 'password123_' 合法\n",
      "密码 'Pass' 不合法\n",
      "密码 'Password123_' 合法\n",
      "密码 'Password_With_Very_Long_Name_123' 不合法\n"
     ]
    }
   ],
   "source": [
    "# 2、验证密码是否合法(以字母开头，长度在6~18之间，只能包含字母、数字和下划线)\n",
    "\n",
    "import re\n",
    "\n",
    "def validate_password(password):\n",
    "    pattern = re.compile(r'^[a-zA-Z]\\w{5,17}$')\n",
    "    return bool(pattern.match(password))\n",
    "\n",
    "# 测试用例\n",
    "passwords = [\n",
    "    \"Password123\",  # 合法密码\n",
    "    \"pass_word_456\",  # 合法密码\n",
    "    \"12345\",  # 不合法密码，少于6个字符\n",
    "    \"p@ssword\",  # 不合法密码，包含特殊字符@\n",
    "    \"password123_\",  # 合法密码\n",
    "    \"Pass\",  # 不合法密码，少于6个字符\n",
    "    \"Password123_\",  # 不合法密码，超过18个字符\n",
    "    \"Password_With_Very_Long_Name_123\"  # 不合法密码，超过18个字符\n",
    "]\n",
    "\n",
    "for password in passwords:\n",
    "    if validate_password(password):\n",
    "        print(f\"密码 '{password}' 合法\")\n",
    "    else:\n",
    "        print(f\"密码 '{password}' 不合法\")\n",
    "\n"
   ]
  },
  {
   "cell_type": "code",
   "execution_count": 26,
   "metadata": {},
   "outputs": [
    {
     "name": "stdout",
     "output_type": "stream",
     "text": [
      "文本 '中国' 全部是汉字\n",
      "文本 'Hello' 不是全部汉字\n",
      "文本 '你好世界' 全部是汉字\n",
      "文本 '123456' 不是全部汉字\n",
      "文本 '汉字123' 不是全部汉字\n"
     ]
    }
   ],
   "source": [
    "# 3、匹配是否全是汉字：\n",
    "import re\n",
    "\n",
    "def validate_chinese(text):\n",
    "    pattern = re.compile(r'^[\\u4e00-\\u9fff]+$')\n",
    "    return bool(pattern.match(text))\n",
    "\n",
    "# 测试用例\n",
    "texts = [\n",
    "    \"中国\",  # 全部是汉字\n",
    "    \"Hello\",  # 不是全部汉字\n",
    "    \"你好世界\",  # 全部是汉字\n",
    "    \"123456\",  # 不是全部汉字\n",
    "    \"汉字123\",  # 不是全部汉字\n",
    "]\n",
    "\n",
    "for text in texts:\n",
    "    if validate_chinese(text):\n",
    "        print(f\"文本 '{text}' 全部是汉字\")\n",
    "    else:\n",
    "        print(f\"文本 '{text}' 不是全部汉字\")\n"
   ]
  },
  {
   "cell_type": "code",
   "execution_count": 27,
   "metadata": {},
   "outputs": [
    {
     "name": "stdout",
     "output_type": "stream",
     "text": [
      "日期 '2020-09-10' 符合格式\n",
      "日期 '2020/09/10' 不符合格式\n",
      "日期 '20-09-10' 不符合格式\n",
      "日期 '2020-9-10' 不符合格式\n",
      "日期 '2020-09-5' 不符合格式\n",
      "日期 '2020-09-10  ' 不符合格式\n"
     ]
    }
   ],
   "source": [
    "# 4、验证日期格式（2020-09-10）\n",
    "import re\n",
    "\n",
    "def validate_date(date):\n",
    "    pattern = re.compile(r'^\\d{4}-\\d{2}-\\d{2}$')\n",
    "    return bool(pattern.match(date))\n",
    "\n",
    "# 测试用例\n",
    "dates = [\n",
    "    \"2020-09-10\",  # 合法日期格式\n",
    "    \"2020/09/10\",  # 不合法日期格式\n",
    "    \"20-09-10\",    # 不合法日期格式，年份不足四位\n",
    "    \"2020-9-10\",   # 不合法日期格式，月份不足两位\n",
    "    \"2020-09-5\",   # 不合法日期格式，日期不足两位\n",
    "    \"2020-09-10  \",  # 不合法日期格式，有额外空格\n",
    "]\n",
    "\n",
    "for date in dates:\n",
    "    if validate_date(date):\n",
    "        print(f\"日期 '{date}' 符合格式\")\n",
    "    else:\n",
    "        print(f\"日期 '{date}' 不符合格式\")\n"
   ]
  },
  {
   "cell_type": "code",
   "execution_count": 28,
   "metadata": {},
   "outputs": [
    {
     "name": "stdout",
     "output_type": "stream",
     "text": [
      "身份证号码 '110101199003077657' 符合格式\n",
      "身份证号码 '510104199305201234' 符合格式\n",
      "身份证号码 '330326199011267327' 符合格式\n",
      "身份证号码 '33032619901126732X' 符合格式\n",
      "身份证号码 '33032619901126732x' 符合格式\n",
      "身份证号码 '33032619901126732Y' 不符合格式\n",
      "身份证号码 '3303261990112673278' 不符合格式\n",
      "身份证号码 '3303261990112673' 不符合格式\n"
     ]
    }
   ],
   "source": [
    "# 5、验证身份证号码。\n",
    "import re\n",
    "\n",
    "def validate_id_number(id_number):\n",
    "    pattern = re.compile(r'^\\d{17}[\\dXx]$')  # [\\dXx]：匹配一个数字字符或者字母 X（大小写不敏感）\n",
    "    return bool(pattern.match(id_number))\n",
    "\n",
    "# 测试用例\n",
    "id_numbers = [\n",
    "    \"110101199003077657\",  # 合法身份证号码\n",
    "    \"510104199305201234\",  # 合法身份证号码\n",
    "    \"330326199011267327\",  # 合法身份证号码\n",
    "    \"33032619901126732X\",  # 合法身份证号码，最后一位为X\n",
    "    \"33032619901126732x\",  # 合法身份证号码，最后一位为x\n",
    "    \"33032619901126732Y\",  # 不合法身份证号码，最后一位不是数字或X\n",
    "    \"3303261990112673278\",  # 不合法身份证号码，超过18位\n",
    "    \"3303261990112673\",  # 不合法身份证号码，不足18位\n",
    "]\n",
    "\n",
    "for id_number in id_numbers:\n",
    "    if validate_id_number(id_number):\n",
    "        print(f\"身份证号码 '{id_number}' 符合格式\")\n",
    "    else:\n",
    "        print(f\"身份证号码 '{id_number}' 不符合格式\")\n",
    "\n"
   ]
  }
 ],
 "metadata": {
  "kernelspec": {
   "display_name": "venv",
   "language": "python",
   "name": "python3"
  },
  "language_info": {
   "codemirror_mode": {
    "name": "ipython",
    "version": 3
   },
   "file_extension": ".py",
   "mimetype": "text/x-python",
   "name": "python",
   "nbconvert_exporter": "python",
   "pygments_lexer": "ipython3",
   "version": "3.9.13"
  }
 },
 "nbformat": 4,
 "nbformat_minor": 2
}
