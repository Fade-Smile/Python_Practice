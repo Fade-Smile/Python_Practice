{
 "cells": [
  {
   "cell_type": "markdown",
   "metadata": {},
   "source": [
    "### 偏函数"
   ]
  },
  {
   "cell_type": "code",
   "execution_count": 7,
   "metadata": {},
   "outputs": [],
   "source": [
    "def multiply(x, y):\n",
    "    return x * y"
   ]
  },
  {
   "cell_type": "code",
   "execution_count": 8,
   "metadata": {},
   "outputs": [
    {
     "name": "stdout",
     "output_type": "stream",
     "text": [
      "10\n"
     ]
    }
   ],
   "source": [
    "from functools import partial\n",
    "\n",
    "# 创建一个新函数，固定其中一个参数为2\n",
    "double = partial(multiply, 2)\n",
    "\n",
    "# 调用新函数\n",
    "result = double(5)  # 相当于调用 multiply(2, 5)\n",
    "print(result)  # 输出结果为 10\n"
   ]
  },
  {
   "cell_type": "code",
   "execution_count": 10,
   "metadata": {},
   "outputs": [
    {
     "name": "stdout",
     "output_type": "stream",
     "text": [
      "12\n"
     ]
    }
   ],
   "source": [
    "from functools import partial\n",
    "\n",
    "# 创建一个新函数，将函数 multiply 的第一个参数默认值设置为3\n",
    "multiply_by_3 = partial(multiply, 3)\n",
    "\n",
    "# 调用新函数\n",
    "result = multiply_by_3(4)  # 相当于调用 multiply(3, 4)\n",
    "print(result)  # 输出结果为 12"
   ]
  },
  {
   "cell_type": "code",
   "execution_count": 1,
   "metadata": {},
   "outputs": [
    {
     "name": "stdout",
     "output_type": "stream",
     "text": [
      "2的平方: 4\n",
      "2的立方: 8\n"
     ]
    }
   ],
   "source": [
    "from functools import partial\n",
    "\n",
    "# 原始函数\n",
    "def power(base, exponent):\n",
    "    return base ** exponent\n",
    "\n",
    "# 创建偏函数，固定base参数为2\n",
    "square = partial(power, 2)\n",
    "\n",
    "# 使用偏函数计算2的平方和立方\n",
    "result_square = square(2)  # 等同于调用 power(2, 2)\n",
    "result_cube = square(3)    # 等同于调用 power(2, 3)\n",
    "\n",
    "print(\"2的平方:\", result_square)  # 输出：2的平方: 4\n",
    "print(\"2的立方:\", result_cube)    # 输出：2的立方: 8"
   ]
  },
  {
   "cell_type": "code",
   "execution_count": 6,
   "metadata": {},
   "outputs": [
    {
     "name": "stdout",
     "output_type": "stream",
     "text": [
      "123\n",
      "291\n",
      "11\n",
      "64\n"
     ]
    }
   ],
   "source": [
    "import functools\n",
    "\n",
    "print(int('123'))   # 默认是按照 十进制\n",
    "\n",
    "print(int('123', base=16)) # 十六进制\n",
    "\n",
    "def int_2(num, base=2):  # 该函数的作用是 把 十进制 数字转换成 二进制\n",
    "    return int(num, base)\n",
    "\n",
    "print(int_2('1011'))\n",
    "\n",
    "\n",
    "int_2 = functools.partial(int, base=2) # 偏函数, 这里被固定住的是 base=2\n",
    "\n",
    "print(int_2('1000000'))"
   ]
  }
 ],
 "metadata": {
  "kernelspec": {
   "display_name": "venv",
   "language": "python",
   "name": "python3"
  },
  "language_info": {
   "codemirror_mode": {
    "name": "ipython",
    "version": 3
   },
   "file_extension": ".py",
   "mimetype": "text/x-python",
   "name": "python",
   "nbconvert_exporter": "python",
   "pygments_lexer": "ipython3",
   "version": "3.9.13"
  }
 },
 "nbformat": 4,
 "nbformat_minor": 2
}
