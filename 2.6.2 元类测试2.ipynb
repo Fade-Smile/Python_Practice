{
 "cells": [
  {
   "cell_type": "markdown",
   "metadata": {},
   "source": [
    "### 写法一: 通过函数替代元类"
   ]
  },
  {
   "cell_type": "code",
   "execution_count": 1,
   "metadata": {},
   "outputs": [
    {
     "name": "stdout",
     "output_type": "stream",
     "text": [
      "False\n",
      "True\n",
      "True\n"
     ]
    }
   ],
   "source": [
    "def upper_case_attr(class_name, class_parents, class_attrs):\n",
    "    # 要求: 交量任意一个类所有的属性，把非私有的属性名字改成大写的\n",
    "\n",
    "    # 定义一个字典来保存改完名字之后的属性集合\n",
    "    new_attrs = {}\n",
    "    # 遍历所有的属性\n",
    "    for name, value in class_attrs.items():\n",
    "        if not name.startswith('__'):\n",
    "            # 把非私有的属性名字改成大写的\n",
    "            new_attrs[name.upper()] = value\n",
    "\n",
    "    # 直接调用 type 来创建一个类\n",
    "    return type(class_name, class_parents, new_attrs)\n",
    "\n",
    "\n",
    "# 测试\n",
    "class Emp(object, metaclass= upper_case_attr):\n",
    "    name = 'rose'\n",
    "    salary = 5000\n",
    "\n",
    "if __name__ == '__main__':\n",
    "    print(hasattr(Emp, 'name'))  #判断Emp类中是否有名字为name\n",
    "    print(hasattr(Emp, 'NAME'))  #判断Emp类中是否有名字为NAME\n",
    "    print(hasattr(Emp, 'SALARY'))  #判断Emp类中是否有名字为 SALARY\n"
   ]
  },
  {
   "cell_type": "markdown",
   "metadata": {},
   "source": [
    "### 写法二: 定义一个元类"
   ]
  },
  {
   "cell_type": "code",
   "execution_count": 2,
   "metadata": {},
   "outputs": [
    {
     "name": "stdout",
     "output_type": "stream",
     "text": [
      "False\n",
      "True\n",
      "True\n"
     ]
    }
   ],
   "source": [
    "class UpperMetaclass(type):\n",
    "    # __new_是在_init__之前被调用的特殊方法\n",
    "    # _new__是用来创建对象并返回之的方法\n",
    "    # 而_init__只是用来将传入的参数初始化给对象\n",
    "    # 你很少用到__new__，除非你希望能够控制对象的创建\n",
    "    #这里，创建的对象是类，我们希望能够自定义它，所以我们这里改写__new\n",
    "    #如果你希望的话，你也可以在__init_中做些事情\n",
    "    # 还有一些高级的用法会涉及到改写_call__特殊方法，但是我们这里不用\n",
    "    def __new__(cls, class_name, class_parents, class_attrs):\n",
    "         # 要求: 交量任意一个类所有的属性，把非私有的属性名字改成大写的\n",
    "\n",
    "        # 定义一个字典来保存改完名字之后的属性集合\n",
    "        new_attrs = {}\n",
    "        # 遍历所有的属性\n",
    "        for name, value in class_attrs.items():\n",
    "            if not name.startswith('__'):\n",
    "                # 把非私有的属性名字改成大写的\n",
    "                new_attrs[name.upper()] = value\n",
    "\n",
    "        # 方法1: 通过\"type\"来做类对象的创建\n",
    "        # return type(future_class_name, future_class_parents, newAttr)\n",
    "\n",
    "        # 方法2: 复用type.__new__方法\n",
    "        #这就是基本的O0P编程，没什么魔法\n",
    "        # return type.__new__(cls, future_class_name, future_class_parents, newAttr)\n",
    "\n",
    "        # 方法3: 使用super方法\n",
    "        return super(UpperMetaclass, cls).__new__(cls, class_name,class_parents, new_attrs)\n",
    "\n",
    "\n",
    "\n",
    "# 测试\n",
    "class Emp(object, metaclass= UpperMetaclass):\n",
    "    name = 'rose'\n",
    "    salary = 5000\n",
    "\n",
    "if __name__ == '__main__':\n",
    "\n",
    "    print(hasattr(Emp, 'name'))  #判断Emp类中是否有名字为name\n",
    "    # 输出: False\n",
    "    \n",
    "    print(hasattr(Emp, 'NAME'))  #判断Emp类中是否有名字为NAME\n",
    "    # 输出: True\n",
    "    \n",
    "    print(hasattr(Emp, 'SALARY'))  #判断Emp类中是否有名字为 SALARY\n",
    "    # 输出: True\n"
   ]
  }
 ],
 "metadata": {
  "kernelspec": {
   "display_name": "venv",
   "language": "python",
   "name": "python3"
  },
  "language_info": {
   "codemirror_mode": {
    "name": "ipython",
    "version": 3
   },
   "file_extension": ".py",
   "mimetype": "text/x-python",
   "name": "python",
   "nbconvert_exporter": "python",
   "pygments_lexer": "ipython3",
   "version": "3.9.13"
  }
 },
 "nbformat": 4,
 "nbformat_minor": 2
}
