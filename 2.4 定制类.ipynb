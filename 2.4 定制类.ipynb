{
 "cells": [
  {
   "cell_type": "markdown",
   "metadata": {},
   "source": [
    "### 定制类"
   ]
  },
  {
   "cell_type": "code",
   "execution_count": 1,
   "metadata": {},
   "outputs": [
    {
     "name": "stdout",
     "output_type": "stream",
     "text": [
      "Person's name is Alice\n",
      "Person('Alice')\n",
      "Alice\n"
     ]
    }
   ],
   "source": [
    "# __str__ 和 __repr__ 方法\n",
    "class Person:\n",
    "    def __init__(self, name):\n",
    "        self.name = name\n",
    "\n",
    "    def __str__(self):\n",
    "        return f\"Person's name is {self.name}\"\n",
    "\n",
    "    def __repr__(self):\n",
    "        return f\"Person('{self.name}')\"\n",
    "\n",
    "p = Person('Alice')\n",
    "print(str(p))  # 调用 __str__ 方法\n",
    "print(repr(p))  # 调用 __repr__ 方法\n",
    "\n",
    "# 可以通过 eval() 函数使用 __repr__ 返回的字符串重新创建对象\n",
    "new_p = eval(repr(p))\n",
    "print(new_p.name)  # 输出 'Alice'"
   ]
  },
  {
   "cell_type": "code",
   "execution_count": 2,
   "metadata": {},
   "outputs": [
    {
     "name": "stdout",
     "output_type": "stream",
     "text": [
      "Person object (name: Bob)\n",
      "1\n",
      "1\n",
      "2\n",
      "3\n",
      "5\n",
      "8\n",
      "13\n",
      "21\n",
      "34\n",
      "55\n",
      "89\n",
      "144\n",
      "233\n",
      "377\n",
      "610\n",
      "987\n"
     ]
    }
   ],
   "source": [
    "# __iter__ 和 __next__ 方法\n",
    "class Person(object):\n",
    "\n",
    "    def __init__(self, xname):\n",
    "        self.name = xname\n",
    "\n",
    "        # 斐波拉契数列前两个值是固定的\n",
    "        self.a, self.b = 0, 1\n",
    "    \n",
    "    # 重写__str__方法： 用于定制对象的描述信息\n",
    "    def __str__(self):\n",
    "        return 'Person object (name: %s)' % self.name\n",
    "    \n",
    "    # person默认不是可迭代对象,变成一个可迭代对象，必须返回一个送代器\n",
    "    def __iter__(self):  # 生成一个斐波拉数列\n",
    "        return self\n",
    "    \n",
    "    # person就变成一个迭代器\n",
    "    def __next__(self):\n",
    "        self.a, self.b = self.b, self.a + self.b  # 计算下一个值\n",
    "        if self.a > 1000:   # 如果出现一个大于1000的数值， 就退出循环的条件\n",
    "            raise StopIteration()\n",
    "        return self.a  # 返回下一个值\n",
    "    \n",
    "\n",
    "if __name__ == '__main__':\n",
    "    p = Person('Bob')\n",
    "    print(p)   # 若没重写 __str__函数 会打印对象的内存地址\n",
    "    # <__main__.Person object at 0x0000015E17D87A00>\n",
    "\n",
    "    # __str__ 重写之后 打印结果：Person object (name: Bob)\n",
    "\n",
    "for n in p:\n",
    "    print(n)"
   ]
  },
  {
   "cell_type": "code",
   "execution_count": 3,
   "metadata": {},
   "outputs": [
    {
     "ename": "TypeError",
     "evalue": "'Person' object is not subscriptable",
     "output_type": "error",
     "traceback": [
      "\u001b[1;31m---------------------------------------------------------------------------\u001b[0m",
      "\u001b[1;31mTypeError\u001b[0m                                 Traceback (most recent call last)",
      "\u001b[1;32md:\\Learning-Material\\Python高级编程\\2.4 定制类.ipynb 单元格 4\u001b[0m line \u001b[0;36m2\n\u001b[0;32m      <a href='vscode-notebook-cell:/d%3A/Learning-Material/Python%E9%AB%98%E7%BA%A7%E7%BC%96%E7%A8%8B/2.4%20%E5%AE%9A%E5%88%B6%E7%B1%BB.ipynb#W4sZmlsZQ%3D%3D?line=0'>1</a>\u001b[0m \u001b[39m# TypeError: 'Person' object is not subscriptable\u001b[39;00m\n\u001b[1;32m----> <a href='vscode-notebook-cell:/d%3A/Learning-Material/Python%E9%AB%98%E7%BA%A7%E7%BC%96%E7%A8%8B/2.4%20%E5%AE%9A%E5%88%B6%E7%B1%BB.ipynb#W4sZmlsZQ%3D%3D?line=1'>2</a>\u001b[0m \u001b[39mprint\u001b[39m(p[\u001b[39m6\u001b[39;49m])\n",
      "\u001b[1;31mTypeError\u001b[0m: 'Person' object is not subscriptable"
     ]
    }
   ],
   "source": [
    "# TypeError: 'Person' object is not subscriptable\n",
    "print(p[6])"
   ]
  },
  {
   "cell_type": "code",
   "execution_count": 4,
   "metadata": {},
   "outputs": [
    {
     "name": "stdout",
     "output_type": "stream",
     "text": [
      "下标为5的值是: 8\n"
     ]
    }
   ],
   "source": [
    "# __getitem__ 方法： 列表:下标\n",
    "class Person(object):\n",
    "\n",
    "    def __init__(self, xname):\n",
    "        self.name = xname\n",
    "\n",
    "    \n",
    "    # 重写__getitem__方法： 用于获取类的属性\n",
    "    def __getitem__(self, item):  # item能是一个下标\n",
    "        a, b = 1, 1\n",
    "        for x in range(item):\n",
    "            a, b = b, a + b\n",
    "        return a\n",
    "        \n",
    "\n",
    "if __name__ == '__main__':\n",
    "    p = Person('Bob')\n",
    "   \n",
    "    # p 有的类似于一个List，在List还可以切片\n",
    "    print(\"下标为5的值是:\",p[5])\n",
    "    # print(\"下标为5-10的值是:\", p[5:10])"
   ]
  },
  {
   "cell_type": "code",
   "execution_count": 5,
   "metadata": {},
   "outputs": [
    {
     "name": "stdout",
     "output_type": "stream",
     "text": [
      "下标为5的值是: 8\n",
      "下标为5-10的值是: [8, 13, 21, 34, 55]\n"
     ]
    }
   ],
   "source": [
    "# __getitem__ 方法： 列表:切片\n",
    "class Person(object):\n",
    "\n",
    "    def __init__(self, xname):\n",
    "        self.name = xname\n",
    "    \n",
    "    # 重写__getitem__方法： 用于获取类的属性\n",
    "    def __getitem__(self, item):  # item可能是一个下标， 还有可能是一个切片（范围）\n",
    "        if isinstance(item, int): # item 是一个下标\n",
    "            a, b = 1, 1\n",
    "            for x in range(item):\n",
    "                a,b = b, a+b\n",
    "            return a\n",
    "        elif isinstance(item, slice): # item 是一个切片\n",
    "            start = item.start\n",
    "            stop = item.stop\n",
    "            if start is None:\n",
    "                start = 0    # start 如果是None，默认为0\n",
    "            a, b = 1, 1\n",
    "            L = []\n",
    "            for x in range(stop):\n",
    "                if x >= start:\n",
    "                    L.append(a)\n",
    "                a, b = b, a+b\n",
    "            return L\n",
    "\n",
    "\n",
    "if __name__ == '__main__':\n",
    "    p = Person('Bob')\n",
    "   \n",
    "    # p 有的类似于一个List，在List还可以切片\n",
    "    print(\"下标为5的值是:\",p[5])\n",
    "    print(\"下标为5-10的值是:\", p[5:10])"
   ]
  },
  {
   "cell_type": "code",
   "execution_count": 6,
   "metadata": {},
   "outputs": [
    {
     "ename": "AttributeError",
     "evalue": "'Person' object has no attribute 'age'",
     "output_type": "error",
     "traceback": [
      "\u001b[1;31m---------------------------------------------------------------------------\u001b[0m",
      "\u001b[1;31mAttributeError\u001b[0m                            Traceback (most recent call last)",
      "\u001b[1;32md:\\Learning-Material\\Python高级编程\\2.4 定制类.ipynb 单元格 7\u001b[0m line \u001b[0;36m1\n\u001b[0;32m     <a href='vscode-notebook-cell:/d%3A/Learning-Material/Python%E9%AB%98%E7%BA%A7%E7%BC%96%E7%A8%8B/2.4%20%E5%AE%9A%E5%88%B6%E7%B1%BB.ipynb#W6sZmlsZQ%3D%3D?line=10'>11</a>\u001b[0m \u001b[39mif\u001b[39;00m \u001b[39m__name__\u001b[39m \u001b[39m==\u001b[39m \u001b[39m'\u001b[39m\u001b[39m__main__\u001b[39m\u001b[39m'\u001b[39m:\n\u001b[0;32m     <a href='vscode-notebook-cell:/d%3A/Learning-Material/Python%E9%AB%98%E7%BA%A7%E7%BC%96%E7%A8%8B/2.4%20%E5%AE%9A%E5%88%B6%E7%B1%BB.ipynb#W6sZmlsZQ%3D%3D?line=11'>12</a>\u001b[0m     p \u001b[39m=\u001b[39m Person(\u001b[39m'\u001b[39m\u001b[39mBob\u001b[39m\u001b[39m'\u001b[39m)\n\u001b[1;32m---> <a href='vscode-notebook-cell:/d%3A/Learning-Material/Python%E9%AB%98%E7%BA%A7%E7%BC%96%E7%A8%8B/2.4%20%E5%AE%9A%E5%88%B6%E7%B1%BB.ipynb#W6sZmlsZQ%3D%3D?line=13'>14</a>\u001b[0m     \u001b[39mprint\u001b[39m(p\u001b[39m.\u001b[39;49mage)\n\u001b[0;32m     <a href='vscode-notebook-cell:/d%3A/Learning-Material/Python%E9%AB%98%E7%BA%A7%E7%BC%96%E7%A8%8B/2.4%20%E5%AE%9A%E5%88%B6%E7%B1%BB.ipynb#W6sZmlsZQ%3D%3D?line=14'>15</a>\u001b[0m     \u001b[39mprint\u001b[39m(p\u001b[39m.\u001b[39meat())\n",
      "\u001b[1;31mAttributeError\u001b[0m: 'Person' object has no attribute 'age'"
     ]
    }
   ],
   "source": [
    "# AttributeError: 'Person' object has no attribute 'age'\n",
    "\n",
    "class Person(object):\n",
    "\n",
    "    def __init__(self, xname):\n",
    "        self.name = xname\n",
    "    \n",
    "\n",
    "if __name__ == '__main__':\n",
    "    p = Person('Bob')\n",
    "   \n",
    "    print(p.age)\n",
    "    print(p.eat())"
   ]
  },
  {
   "cell_type": "code",
   "execution_count": 7,
   "metadata": {},
   "outputs": [
    {
     "name": "stdout",
     "output_type": "stream",
     "text": [
      "25\n",
      "eat函数执行\n",
      "Person 类没有这个属性 'sleep'\n"
     ]
    }
   ],
   "source": [
    "# __getattr__\n",
    "\n",
    "class Person(object):\n",
    "\n",
    "    def __init__(self, xname):\n",
    "        self.name = xname\n",
    "\n",
    "    # 当访问person对象中不存在的属性和函数的时候会抛出AttributeError，如果不想看到这个error 则需要重写 __getattr__函数\n",
    "    def __getattr__(self, item):\n",
    "        if item == 'age':\n",
    "            return 25\n",
    "        elif item == 'eat':\n",
    "            return lambda : print('eat函数执行')\n",
    "        else:\n",
    "            # 如果上面都没有，那么就抛出异常\n",
    "            return lambda : print(\"Person 类没有这个属性 '%s'\" % item)\n",
    "            # raise AttributeError(\"Person 类没有这个属性 '%s'\" % item)\n",
    "\n",
    "\n",
    "\n",
    "if __name__ == '__main__':\n",
    "    p = Person('Bob')\n",
    "    \n",
    "    print(p.age)\n",
    "    p.eat()\n",
    "    p.sleep()"
   ]
  },
  {
   "cell_type": "code",
   "execution_count": 8,
   "metadata": {},
   "outputs": [
    {
     "ename": "TypeError",
     "evalue": "'Person' object is not callable",
     "output_type": "error",
     "traceback": [
      "\u001b[1;31m---------------------------------------------------------------------------\u001b[0m",
      "\u001b[1;31mTypeError\u001b[0m                                 Traceback (most recent call last)",
      "\u001b[1;32md:\\Learning-Material\\Python高级编程\\2.4 定制类.ipynb 单元格 9\u001b[0m line \u001b[0;36m9\n\u001b[0;32m      <a href='vscode-notebook-cell:/d%3A/Learning-Material/Python%E9%AB%98%E7%BA%A7%E7%BC%96%E7%A8%8B/2.4%20%E5%AE%9A%E5%88%B6%E7%B1%BB.ipynb#X13sZmlsZQ%3D%3D?line=6'>7</a>\u001b[0m \u001b[39mif\u001b[39;00m \u001b[39m__name__\u001b[39m \u001b[39m==\u001b[39m \u001b[39m'\u001b[39m\u001b[39m__main__\u001b[39m\u001b[39m'\u001b[39m:\n\u001b[0;32m      <a href='vscode-notebook-cell:/d%3A/Learning-Material/Python%E9%AB%98%E7%BA%A7%E7%BC%96%E7%A8%8B/2.4%20%E5%AE%9A%E5%88%B6%E7%B1%BB.ipynb#X13sZmlsZQ%3D%3D?line=7'>8</a>\u001b[0m     p \u001b[39m=\u001b[39m Person(\u001b[39m'\u001b[39m\u001b[39mBob\u001b[39m\u001b[39m'\u001b[39m)\n\u001b[1;32m----> <a href='vscode-notebook-cell:/d%3A/Learning-Material/Python%E9%AB%98%E7%BA%A7%E7%BC%96%E7%A8%8B/2.4%20%E5%AE%9A%E5%88%B6%E7%B1%BB.ipynb#X13sZmlsZQ%3D%3D?line=8'>9</a>\u001b[0m     p()\n",
      "\u001b[1;31mTypeError\u001b[0m: 'Person' object is not callable"
     ]
    }
   ],
   "source": [
    "# TypeError: 'Person' object is not callable\n",
    "class Person(object):\n",
    "\n",
    "    def __init__(self, xname):\n",
    "        self.name = xname\n",
    "\n",
    "if __name__ == '__main__':\n",
    "    p = Person('Bob')\n",
    "    p()"
   ]
  },
  {
   "cell_type": "code",
   "execution_count": 9,
   "metadata": {},
   "outputs": [
    {
     "name": "stdout",
     "output_type": "stream",
     "text": [
      "Person 对象可以调用\n"
     ]
    }
   ],
   "source": [
    "# __call__\n",
    "class Person(object):\n",
    "\n",
    "    def __init__(self, xname):\n",
    "        self.name = xname\n",
    "    \n",
    "    def __call__(self, *arg, **kwargs):\n",
    "        print('Person 对象可以调用')\n",
    "\n",
    "if __name__ == '__main__':\n",
    "    p = Person('Bob')\n",
    "    p()  #把person对象当成一个函数，直接调用，person对象 == 一个函数"
   ]
  },
  {
   "cell_type": "code",
   "execution_count": 14,
   "metadata": {},
   "outputs": [
    {
     "data": {
      "text/plain": [
       "True"
      ]
     },
     "execution_count": 14,
     "metadata": {},
     "output_type": "execute_result"
    }
   ],
   "source": [
    "callable(p)  #判断出来p对象，是不是可以调用的对象 (函数)"
   ]
  },
  {
   "cell_type": "code",
   "execution_count": 12,
   "metadata": {},
   "outputs": [
    {
     "name": "stdout",
     "output_type": "stream",
     "text": [
      "True\n",
      "True\n",
      "False\n"
     ]
    }
   ],
   "source": [
    "def my_function():\n",
    "    pass\n",
    "\n",
    "class MyClass:\n",
    "    def __call__(self):\n",
    "        pass\n",
    "\n",
    "obj = MyClass()\n",
    "\n",
    "print(callable(my_function))  # 输出 True，my_function 是可调用对象\n",
    "print(callable(obj))          # 输出 True，obj 是可调用对象，因为 MyClass 实现了 __call__ 方法\n",
    "print(callable(5))            # 输出 False，整数 5 是不可调用对象\n"
   ]
  }
 ],
 "metadata": {
  "kernelspec": {
   "display_name": "venv",
   "language": "python",
   "name": "python3"
  },
  "language_info": {
   "codemirror_mode": {
    "name": "ipython",
    "version": 3
   },
   "file_extension": ".py",
   "mimetype": "text/x-python",
   "name": "python",
   "nbconvert_exporter": "python",
   "pygments_lexer": "ipython3",
   "version": "3.9.13"
  }
 },
 "nbformat": 4,
 "nbformat_minor": 2
}
