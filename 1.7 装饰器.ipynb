{
 "cells": [
  {
   "cell_type": "markdown",
   "metadata": {},
   "source": [
    "### 1. 装饰器"
   ]
  },
  {
   "cell_type": "code",
   "execution_count": 1,
   "metadata": {},
   "outputs": [
    {
     "name": "stdout",
     "output_type": "stream",
     "text": [
      "Do something before the function is called.\n",
      "Hello!\n",
      "Do something after the function is called.\n"
     ]
    }
   ],
   "source": [
    "# 定义装饰器\n",
    "def my_decorator(func):\n",
    "    def wrapper():\n",
    "        print(\"Do something before the function is called.\")\n",
    "        func()  # 执行传入的函数\n",
    "        print(\"Do something after the function is called.\")\n",
    "    return wrapper\n",
    "# 应用装饰器\n",
    "@my_decorator\n",
    "def say_hello():\n",
    "    print(\"Hello!\")\n",
    "    \n",
    "# 调用函数\n",
    "say_hello()  # 输出装饰器增加的功能和原函数的输出内容"
   ]
  },
  {
   "cell_type": "code",
   "execution_count": 2,
   "metadata": {},
   "outputs": [
    {
     "name": "stdout",
     "output_type": "stream",
     "text": [
      "Cook Automatically\n",
      "We are eating\n",
      "Do the washing up\n"
     ]
    }
   ],
   "source": [
    "def eat():\n",
    "    print(\"We are eating\")\n",
    "\n",
    "def test1(func):\n",
    "    def test2():\n",
    "        print(\"Cook Automatically\")\n",
    "        func()\n",
    "        print('Do the washing up')\n",
    "    return test2\n",
    "\n",
    "eat = test1(eat)\n",
    "eat()\n"
   ]
  },
  {
   "cell_type": "code",
   "execution_count": 3,
   "metadata": {},
   "outputs": [
    {
     "name": "stdout",
     "output_type": "stream",
     "text": [
      "Cook Automatically\n",
      "We are eating\n",
      "Do the washing up\n"
     ]
    }
   ],
   "source": [
    "def test1(func):  # 定义一个额外功能（装饰器）\n",
    "    def test2():\n",
    "        print(\"Cook Automatically\")\n",
    "        func()\n",
    "        print('Do the washing up')\n",
    "    return test2\n",
    "\n",
    "@test1    # 装饰器\n",
    "def eat():\n",
    "    print(\"We are eating\")\n",
    "\n",
    "eat()\n"
   ]
  },
  {
   "cell_type": "code",
   "execution_count": 4,
   "metadata": {},
   "outputs": [
    {
     "name": "stdout",
     "output_type": "stream",
     "text": [
      "test2\n"
     ]
    }
   ],
   "source": [
    "print(eat.__name__)"
   ]
  },
  {
   "cell_type": "code",
   "execution_count": 7,
   "metadata": {},
   "outputs": [
    {
     "name": "stdout",
     "output_type": "stream",
     "text": [
      "Cook Automatically\n",
      "We are eating\n",
      "Do the washing up\n",
      "eat\n"
     ]
    }
   ],
   "source": [
    "from functools import wraps\n",
    "\n",
    "def test1(func):  # 定义一个额外功能（装饰器）\n",
    "    @wraps(func)  # 保留原函数的元信息，如函数名，参数等\n",
    "    \n",
    "    def test2():\n",
    "        print(\"Cook Automatically\")\n",
    "        func()\n",
    "        print('Do the washing up')\n",
    "    return test2\n",
    "\n",
    "@test1    # 装饰器\n",
    "def eat():\n",
    "    print(\"We are eating\")\n",
    "\n",
    "eat()\n",
    "\n",
    "print(eat.__name__)"
   ]
  },
  {
   "cell_type": "markdown",
   "metadata": {},
   "source": [
    "### 2. 打印日志功能"
   ]
  },
  {
   "cell_type": "code",
   "execution_count": 12,
   "metadata": {},
   "outputs": [
    {
     "name": "stdout",
     "output_type": "stream",
     "text": [
      "[info] ---- Time: 10:45:13\n",
      "I am working\n"
     ]
    }
   ],
   "source": [
    "from functools import wraps\n",
    "import time\n",
    "\n",
    "def logger(func):\n",
    "    @wraps(func)\n",
    "    def write_log():\n",
    "        print(\"[info] ---- Time: {}\".format(time.strftime('%H:%M:%S', time.localtime())))\n",
    "        func()\n",
    "    return write_log\n",
    "\n",
    "\n",
    "@ logger   # 使用装饰器来给所有的vork增加记买日志的功能\n",
    "def work():\n",
    "    print(\"I am working\")\n",
    "\n",
    "work()"
   ]
  },
  {
   "cell_type": "markdown",
   "metadata": {},
   "source": [
    "### 3. 带参数的装饰器"
   ]
  },
  {
   "cell_type": "code",
   "execution_count": 13,
   "metadata": {},
   "outputs": [
    {
     "ename": "TypeError",
     "evalue": "write_log() takes 0 positional arguments but 1 was given",
     "output_type": "error",
     "traceback": [
      "\u001b[1;31m---------------------------------------------------------------------------\u001b[0m",
      "\u001b[1;31mTypeError\u001b[0m                                 Traceback (most recent call last)",
      "\u001b[1;32md:\\Learning-Material\\Python高级编程\\1.7 装饰器.ipynb 单元格 10\u001b[0m line \u001b[0;36m5\n\u001b[0;32m      <a href='vscode-notebook-cell:/d%3A/Learning-Material/Python%E9%AB%98%E7%BA%A7%E7%BC%96%E7%A8%8B/1.7%20%E8%A3%85%E9%A5%B0%E5%99%A8.ipynb#X12sZmlsZQ%3D%3D?line=0'>1</a>\u001b[0m \u001b[39m@\u001b[39m logger\n\u001b[0;32m      <a href='vscode-notebook-cell:/d%3A/Learning-Material/Python%E9%AB%98%E7%BA%A7%E7%BC%96%E7%A8%8B/1.7%20%E8%A3%85%E9%A5%B0%E5%99%A8.ipynb#X12sZmlsZQ%3D%3D?line=1'>2</a>\u001b[0m \u001b[39mdef\u001b[39;00m \u001b[39mwork_2\u001b[39m(name):\n\u001b[0;32m      <a href='vscode-notebook-cell:/d%3A/Learning-Material/Python%E9%AB%98%E7%BA%A7%E7%BC%96%E7%A8%8B/1.7%20%E8%A3%85%E9%A5%B0%E5%99%A8.ipynb#X12sZmlsZQ%3D%3D?line=2'>3</a>\u001b[0m     \u001b[39mprint\u001b[39m(\u001b[39m'\u001b[39m\u001b[39m%s\u001b[39;00m\u001b[39m 在工作\u001b[39m\u001b[39m'\u001b[39m\u001b[39m%\u001b[39mname)\n\u001b[1;32m----> <a href='vscode-notebook-cell:/d%3A/Learning-Material/Python%E9%AB%98%E7%BA%A7%E7%BC%96%E7%A8%8B/1.7%20%E8%A3%85%E9%A5%B0%E5%99%A8.ipynb#X12sZmlsZQ%3D%3D?line=4'>5</a>\u001b[0m work_2(\u001b[39m'\u001b[39;49m\u001b[39m小明\u001b[39;49m\u001b[39m'\u001b[39;49m)\n",
      "\u001b[1;31mTypeError\u001b[0m: write_log() takes 0 positional arguments but 1 was given"
     ]
    }
   ],
   "source": [
    "from functools import wraps\n",
    "import time\n",
    "\n",
    "def logger(func):\n",
    "    @wraps(func)\n",
    "    def write_log():\n",
    "        print(\"[info] ---- Time: {}\".format(time.strftime('%H:%M:%S', time.localtime())))\n",
    "        func()\n",
    "    return write_log\n",
    "\n",
    "\n",
    "@ logger\n",
    "def work_2(name):  # 1、 当前 word2 函数可能有多个参数 2、自定义日志文件的名字和位置， 记录日志的级别\n",
    "    print('%s 在工作'%name)\n",
    "\n",
    "work_2('小明')"
   ]
  },
  {
   "cell_type": "code",
   "execution_count": 15,
   "metadata": {},
   "outputs": [
    {
     "name": "stdout",
     "output_type": "stream",
     "text": [
      "[info] ---- Time: 11:13:26\n",
      "小明 和 小白 在工作\n"
     ]
    }
   ],
   "source": [
    "from functools import wraps\n",
    "import time\n",
    "\n",
    "def logger(func):\n",
    "    @wraps(func)\n",
    "    def write_log(*args, **kwargs):\n",
    "        print(\"[info] ---- Time: {}\".format(time.strftime('%H:%M:%S', time.localtime())))\n",
    "        func(*args, **kwargs)\n",
    "    return write_log\n",
    "\n",
    "\n",
    "@ logger\n",
    "def work_2(name, name2):  # 1、 当前 word2 函数可能有多个参数 2、自定义日志文件的名字和位置， 记录日志的级别\n",
    "    print('%s 和 %s 在工作'%(name, name2))\n",
    "\n",
    "work_2('小明', '小白')"
   ]
  },
  {
   "cell_type": "code",
   "execution_count": 18,
   "metadata": {},
   "outputs": [
    {
     "name": "stdout",
     "output_type": "stream",
     "text": [
      "[info] ---- Time: 11:21:08\n",
      "I am working\n",
      "[info] ---- Time: 11:21:08\n",
      "小明 和 小白 在工作\n"
     ]
    }
   ],
   "source": [
    "from functools import wraps\n",
    "import time\n",
    "\n",
    "def main_logger(log_file='out.log'):\n",
    "    def logger(func):\n",
    "        @wraps(func)\n",
    "        def write_log(*args, **kwargs):\n",
    "            log_string = func.__name__ + ' called'\n",
    "            log = \"[info] ---- Time: {}\".format(time.strftime('%H:%M:%S', time.localtime()))\n",
    "            print(log)\n",
    "\n",
    "            with open(log_file, 'a') as f:\n",
    "                f.write(log_string + '\\n')\n",
    "                f.write(log + '\\n')\n",
    "\n",
    "            func(*args, **kwargs)\n",
    "        return write_log\n",
    "    return logger\n",
    "\n",
    "@ main_logger()   # 使用装饰器来给所有的vork增加记买日志的功能\n",
    "def work():\n",
    "    print(\"I am working\")\n",
    "\n",
    "@ main_logger('work2.log')\n",
    "def work_2(name, name2):  # 1、 当前 word2 函数可能有多个参数 2、自定义日志文件的名字和位置， 记录日志的级别\n",
    "    print('%s 和 %s 在工作'%(name, name2))\n",
    "\n",
    "work()\n",
    "work_2('小明', '小白')\n"
   ]
  },
  {
   "cell_type": "code",
   "execution_count": 19,
   "metadata": {},
   "outputs": [
    {
     "name": "stdout",
     "output_type": "stream",
     "text": [
      "[INFO] ---- Time: 11:27:52\n",
      "I am working\n",
      "[WARMING] ---- Time: 11:27:52\n",
      "小明 和 小白 在工作\n"
     ]
    }
   ],
   "source": [
    "from functools import wraps\n",
    "import time\n",
    "\n",
    "\n",
    "class Logs(object):\n",
    "    \n",
    "    def __init__(self, log_file='out.log', level ='INFO'):\n",
    "        self.log_file = log_file\n",
    "        self.level = level\n",
    "\n",
    "    def __call__(self, func):          # 定义装饰器， 需要有一个接收函数\n",
    "        @wraps(func)\n",
    "        def write_log(*args, **kwargs):\n",
    "            log_string = func.__name__ + ' called'\n",
    "            log = \"[{}] ---- Time: {}\".format(self.level, time.strftime('%H:%M:%S', time.localtime()))\n",
    "            print(log)\n",
    "\n",
    "            with open(self.log_file, 'a') as f:\n",
    "                f.write(log_string + '\\n')\n",
    "                f.write(log + '\\n')\n",
    "\n",
    "            func(*args, **kwargs)\n",
    "        return write_log\n",
    "\n",
    "\n",
    "\n",
    "@Logs()   # 使用装饰器来给所有的vork增加记买日志的功能\n",
    "def work():\n",
    "    print(\"I am working\")\n",
    "\n",
    "@Logs('work2.log', level='WARMING')\n",
    "def work_2(name, name2):  # 1、 当前 word2 函数可能有多个参数 2、自定义日志文件的名字和位置， 记录日志的级别\n",
    "    print('%s 和 %s 在工作'%(name, name2))\n",
    "\n",
    "work()\n",
    "work_2('小明', '小白')"
   ]
  }
 ],
 "metadata": {
  "kernelspec": {
   "display_name": "venv",
   "language": "python",
   "name": "python3"
  },
  "language_info": {
   "codemirror_mode": {
    "name": "ipython",
    "version": 3
   },
   "file_extension": ".py",
   "mimetype": "text/x-python",
   "name": "python",
   "nbconvert_exporter": "python",
   "pygments_lexer": "ipython3",
   "version": "3.9.13"
  }
 },
 "nbformat": 4,
 "nbformat_minor": 2
}
