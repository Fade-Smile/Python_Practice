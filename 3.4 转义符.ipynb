{
 "cells": [
  {
   "cell_type": "markdown",
   "metadata": {},
   "source": [
    "### 3.4 转义符"
   ]
  },
  {
   "cell_type": "code",
   "execution_count": 7,
   "metadata": {},
   "outputs": [
    {
     "name": "stdout",
     "output_type": "stream",
     "text": [
      "C:\\a\\b\\c\n",
      "C:\\\n",
      "C:\\\n"
     ]
    }
   ],
   "source": [
    "path = 'C:\\\\a\\\\b\\\\c' # 文件路径\n",
    "\n",
    "print(path)\n",
    "\n",
    "import re \n",
    "\n",
    "print(re.match('C:\\\\\\\\', path).group())\n",
    "\n",
    "# 字符串前面使用r，代表python 中的原生字符串\n",
    "match = re.match(r'([A-Za-z]):\\\\', path)\n",
    "print(match.group()) "
   ]
  }
 ],
 "metadata": {
  "kernelspec": {
   "display_name": "venv",
   "language": "python",
   "name": "python3"
  },
  "language_info": {
   "codemirror_mode": {
    "name": "ipython",
    "version": 3
   },
   "file_extension": ".py",
   "mimetype": "text/x-python",
   "name": "python",
   "nbconvert_exporter": "python",
   "pygments_lexer": "ipython3",
   "version": "3.9.13"
  }
 },
 "nbformat": 4,
 "nbformat_minor": 2
}
