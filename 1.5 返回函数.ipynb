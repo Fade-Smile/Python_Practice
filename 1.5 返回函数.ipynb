{
 "cells": [
  {
   "cell_type": "code",
   "execution_count": 1,
   "metadata": {},
   "outputs": [
    {
     "name": "stdout",
     "output_type": "stream",
     "text": [
      "Hello from outer function!\n"
     ]
    }
   ],
   "source": [
    "def outer_function():\n",
    "    message = \"Hello from outer function!\"\n",
    "\n",
    "    # 定义一个内部函数\n",
    "    def inner_function():\n",
    "        print(message)  # 内部函数访问外部函数的变量\n",
    "\n",
    "    # 返回内部函数\n",
    "    return inner_function\n",
    "\n",
    "# 调用外部函数，获取返回的内部函数\n",
    "my_function = outer_function()\n",
    "\n",
    "# 调用返回的内部函数\n",
    "my_function()  # 输出 \"Hello from outer function!\""
   ]
  },
  {
   "cell_type": "code",
   "execution_count": 7,
   "metadata": {},
   "outputs": [
    {
     "name": "stdout",
     "output_type": "stream",
     "text": [
      "<function get_sum.<locals>.tt at 0x0000021F5D039A60>\n",
      "21\n",
      "************************************\n",
      "21\n"
     ]
    }
   ],
   "source": [
    "def get_sum(*args):\n",
    "    def tt():  # 定义函数\n",
    "        sum = 0\n",
    "        for n in args:\n",
    "            sum += n\n",
    "        return sum\n",
    "    return tt  # 返回函数\n",
    "\n",
    "f1 = get_sum(1, 2, 3, 4, 5, 6)\n",
    "print(f1)\n",
    "print(f1())\n",
    "\n",
    "print('************************************')\n",
    "f1 = get_sum(1, 2, 3, 4, 5, 6)()\n",
    "print(f1)"
   ]
  },
  {
   "cell_type": "code",
   "execution_count": 12,
   "metadata": {},
   "outputs": [
    {
     "name": "stdout",
     "output_type": "stream",
     "text": [
      "2\n",
      "<function my_filter.<locals>.<lambda> at 0x0000021F5E436310>\n",
      "3\n",
      "<function my_filter.<locals>.<lambda> at 0x0000021F5E4360D0>\n",
      "5\n",
      "<function my_filter.<locals>.<lambda> at 0x0000021F5E420AF0>\n",
      "7\n",
      "<function my_filter.<locals>.<lambda> at 0x0000021F5E420940>\n",
      "11\n",
      "<function my_filter.<locals>.<lambda> at 0x0000021F5E420E50>\n",
      "13\n",
      "<function my_filter.<locals>.<lambda> at 0x0000021F5E420040>\n",
      "17\n",
      "<function my_filter.<locals>.<lambda> at 0x0000021F5E4200D0>\n",
      "19\n",
      "<function my_filter.<locals>.<lambda> at 0x0000021F5E420B80>\n",
      "23\n",
      "<function my_filter.<locals>.<lambda> at 0x0000021F5E420550>\n",
      "29\n",
      "<function my_filter.<locals>.<lambda> at 0x0000021F5E420790>\n",
      "31\n",
      "<function my_filter.<locals>.<lambda> at 0x0000021F5E420D30>\n",
      "37\n",
      "<function my_filter.<locals>.<lambda> at 0x0000021F5E4205E0>\n",
      "41\n",
      "<function my_filter.<locals>.<lambda> at 0x0000021F5E420C10>\n",
      "43\n",
      "<function my_filter.<locals>.<lambda> at 0x0000021F5E420EE0>\n",
      "47\n",
      "<function my_filter.<locals>.<lambda> at 0x0000021F5E420310>\n",
      "53\n",
      "<function my_filter.<locals>.<lambda> at 0x0000021F5E4204C0>\n",
      "59\n",
      "<function my_filter.<locals>.<lambda> at 0x0000021F5E420280>\n",
      "61\n",
      "<function my_filter.<locals>.<lambda> at 0x0000021F5E445040>\n",
      "67\n",
      "<function my_filter.<locals>.<lambda> at 0x0000021F5E4450D0>\n",
      "71\n",
      "<function my_filter.<locals>.<lambda> at 0x0000021F5E445160>\n",
      "73\n",
      "<function my_filter.<locals>.<lambda> at 0x0000021F5E4451F0>\n",
      "79\n",
      "<function my_filter.<locals>.<lambda> at 0x0000021F5E445280>\n",
      "83\n",
      "<function my_filter.<locals>.<lambda> at 0x0000021F5E445310>\n",
      "89\n",
      "<function my_filter.<locals>.<lambda> at 0x0000021F5E4453A0>\n",
      "97\n",
      "<function my_filter.<locals>.<lambda> at 0x0000021F5E445430>\n"
     ]
    }
   ],
   "source": [
    "# 需求: 获取所有的质数\n",
    "# 打印出小于100的所有质数\n",
    "# 1. 质数: 只能被1和自身整除的数， 最小的质数是 2\n",
    "# 2. 偶数（2 和 0 除外）都不是质数， 只有 1后奇数才有可能是质数\n",
    "# 3. 思路： 先得到所有大于 1 的奇数 --> 生成器, 再把生成器中的所有元素做过滤操作， 去掉小于元素本身的质数\n",
    "#\n",
    "\n",
    "def odd_num():   # 得到所有大于1 奇数生成器\n",
    "    n = 1\n",
    "    while True:\n",
    "        n += 2\n",
    "        yield n   # 这里的 n 获取到的就是大于 1 的所有奇数\n",
    "\n",
    "def my_filter(num):  # 判断是否能够整除的函数, num 代表 从一个生成器拿到的一个数字（质数）, 过滤掉可以被整除的num\n",
    "    return lambda x: x % num > 0  # x 代表从生成器中拿到的一个数字， num小于当前x的一个质数 [注:% 取余数]\n",
    "\n",
    "# 创建一个质数的生成器， 最小的质数是2\n",
    "def is_prime():\n",
    "    yield 2\n",
    "    g = odd_num()   # 获取所有大于1的奇数\n",
    "    while True:\n",
    "        x = next(g)  # 从生成器中获取下一个奇数\n",
    "        g = filter(my_filter(x), g)   #  过滤之后再赋值给 g\n",
    "        yield x\n",
    "\n",
    "for n in is_prime():\n",
    "    if n < 100:\n",
    "        print(n)\n",
    "    else:\n",
    "        break\n",
    "\n",
    "\n",
    "\n",
    "# g1 = odd_num()\n",
    "# print(next(g1))\n",
    "# print(next(g1))\n",
    "# print(next(g1))\n",
    "# print(next(g1))\n",
    "# print(next(g1))\n",
    "    "
   ]
  }
 ],
 "metadata": {
  "kernelspec": {
   "display_name": "venv",
   "language": "python",
   "name": "python3"
  },
  "language_info": {
   "codemirror_mode": {
    "name": "ipython",
    "version": 3
   },
   "file_extension": ".py",
   "mimetype": "text/x-python",
   "name": "python",
   "nbconvert_exporter": "python",
   "pygments_lexer": "ipython3",
   "version": "3.9.13"
  }
 },
 "nbformat": 4,
 "nbformat_minor": 2
}
