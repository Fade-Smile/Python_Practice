{
 "cells": [
  {
   "cell_type": "markdown",
   "metadata": {},
   "source": [
    "### . 匹配任意单个字符（不包括转行符）"
   ]
  },
  {
   "cell_type": "code",
   "execution_count": 1,
   "metadata": {},
   "outputs": [
    {
     "name": "stdout",
     "output_type": "stream",
     "text": [
      "a\n",
      "_\n",
      "1\n",
      "b\n"
     ]
    },
    {
     "ename": "AttributeError",
     "evalue": "'NoneType' object has no attribute 'group'",
     "output_type": "error",
     "traceback": [
      "\u001b[1;31m---------------------------------------------------------------------------\u001b[0m",
      "\u001b[1;31mAttributeError\u001b[0m                            Traceback (most recent call last)",
      "\u001b[1;32md:\\Learning-Material\\Python高级编程\\3.3 正则表达式写法.ipynb 单元格 2\u001b[0m line \u001b[0;36m2\n\u001b[0;32m     <a href='vscode-notebook-cell:/d%3A/Learning-Material/Python%E9%AB%98%E7%BA%A7%E7%BC%96%E7%A8%8B/3.3%20%E6%AD%A3%E5%88%99%E8%A1%A8%E8%BE%BE%E5%BC%8F%E5%86%99%E6%B3%95.ipynb#W0sZmlsZQ%3D%3D?line=16'>17</a>\u001b[0m \u001b[39m# 输出: 1\u001b[39;00m\n\u001b[0;32m     <a href='vscode-notebook-cell:/d%3A/Learning-Material/Python%E9%AB%98%E7%BA%A7%E7%BC%96%E7%A8%8B/3.3%20%E6%AD%A3%E5%88%99%E8%A1%A8%E8%BE%BE%E5%BC%8F%E5%86%99%E6%B3%95.ipynb#W0sZmlsZQ%3D%3D?line=17'>18</a>\u001b[0m \n\u001b[0;32m     <a href='vscode-notebook-cell:/d%3A/Learning-Material/Python%E9%AB%98%E7%BA%A7%E7%BC%96%E7%A8%8B/3.3%20%E6%AD%A3%E5%88%99%E8%A1%A8%E8%BE%BE%E5%BC%8F%E5%86%99%E6%B3%95.ipynb#W0sZmlsZQ%3D%3D?line=18'>19</a>\u001b[0m \u001b[39m# 只有匹配到'\\n'时候提示None，说明，匹配任意字符 (不包括换行符)\u001b[39;00m\n\u001b[0;32m     <a href='vscode-notebook-cell:/d%3A/Learning-Material/Python%E9%AB%98%E7%BA%A7%E7%BC%96%E7%A8%8B/3.3%20%E6%AD%A3%E5%88%99%E8%A1%A8%E8%BE%BE%E5%BC%8F%E5%86%99%E6%B3%95.ipynb#W0sZmlsZQ%3D%3D?line=19'>20</a>\u001b[0m four \u001b[39m=\u001b[39m \u001b[39m'\u001b[39m\u001b[39m\\n\u001b[39;00m\u001b[39m'\u001b[39m\n\u001b[1;32m---> <a href='vscode-notebook-cell:/d%3A/Learning-Material/Python%E9%AB%98%E7%BA%A7%E7%BC%96%E7%A8%8B/3.3%20%E6%AD%A3%E5%88%99%E8%A1%A8%E8%BE%BE%E5%BC%8F%E5%86%99%E6%B3%95.ipynb#W0sZmlsZQ%3D%3D?line=20'>21</a>\u001b[0m \u001b[39mprint\u001b[39m(re\u001b[39m.\u001b[39;49mmatch(\u001b[39m'\u001b[39;49m\u001b[39m.\u001b[39;49m\u001b[39m'\u001b[39;49m, four)\u001b[39m.\u001b[39;49mgroup())\n\u001b[0;32m     <a href='vscode-notebook-cell:/d%3A/Learning-Material/Python%E9%AB%98%E7%BA%A7%E7%BC%96%E7%A8%8B/3.3%20%E6%AD%A3%E5%88%99%E8%A1%A8%E8%BE%BE%E5%BC%8F%E5%86%99%E6%B3%95.ipynb#W0sZmlsZQ%3D%3D?line=21'>22</a>\u001b[0m \u001b[39m# 输出: AttributeError: 'NoneType' object has no attribute 'group'\u001b[39;00m\n",
      "\u001b[1;31mAttributeError\u001b[0m: 'NoneType' object has no attribute 'group'"
     ]
    }
   ],
   "source": [
    "import re\n",
    "\n",
    "one = 'a'\n",
    "print(re.match('.', 'a').group())\n",
    "# 输出: a\n",
    "\n",
    "two = '_'\n",
    "print(re.match('.', two).group())\n",
    "# 输出: _\n",
    "\n",
    "three = '1'\n",
    "print(re.match('.', three).group())\n",
    "# 输出: 1\n",
    "\n",
    "five = 'bss'\n",
    "print(re.match('.', five).group())\n",
    "# 输出: 1\n",
    "\n",
    "# 只有匹配到'\\n'时候提示None，说明，匹配任意字符 (不包括换行符)\n",
    "four = '\\n'\n",
    "print(re.match('.', four).group())\n",
    "# 输出: AttributeError: 'NoneType' object has no attribute 'group'\n"
   ]
  },
  {
   "cell_type": "markdown",
   "metadata": {},
   "source": [
    "### [] 用法"
   ]
  },
  {
   "cell_type": "code",
   "execution_count": 2,
   "metadata": {},
   "outputs": [
    {
     "name": "stdout",
     "output_type": "stream",
     "text": [
      "h\n",
      "H\n",
      "h\n",
      "H\n",
      "5\n",
      "5\n"
     ]
    },
    {
     "ename": "AttributeError",
     "evalue": "'NoneType' object has no attribute 'group'",
     "output_type": "error",
     "traceback": [
      "\u001b[1;31m---------------------------------------------------------------------------\u001b[0m",
      "\u001b[1;31mAttributeError\u001b[0m                            Traceback (most recent call last)",
      "\u001b[1;32md:\\Learning-Material\\Python高级编程\\3.3 正则表达式写法.ipynb 单元格 4\u001b[0m line \u001b[0;36m2\n\u001b[0;32m     <a href='vscode-notebook-cell:/d%3A/Learning-Material/Python%E9%AB%98%E7%BA%A7%E7%BC%96%E7%A8%8B/3.3%20%E6%AD%A3%E5%88%99%E8%A1%A8%E8%BE%BE%E5%BC%8F%E5%86%99%E6%B3%95.ipynb#W2sZmlsZQ%3D%3D?line=19'>20</a>\u001b[0m \u001b[39mprint\u001b[39m(re\u001b[39m.\u001b[39mmatch(\u001b[39m'\u001b[39m\u001b[39m[0-9]\u001b[39m\u001b[39m'\u001b[39m, c)\u001b[39m.\u001b[39mgroup())\n\u001b[0;32m     <a href='vscode-notebook-cell:/d%3A/Learning-Material/Python%E9%AB%98%E7%BA%A7%E7%BC%96%E7%A8%8B/3.3%20%E6%AD%A3%E5%88%99%E8%A1%A8%E8%BE%BE%E5%BC%8F%E5%86%99%E6%B3%95.ipynb#W2sZmlsZQ%3D%3D?line=20'>21</a>\u001b[0m \u001b[39m# 输出: 5\u001b[39;00m\n\u001b[1;32m---> <a href='vscode-notebook-cell:/d%3A/Learning-Material/Python%E9%AB%98%E7%BA%A7%E7%BC%96%E7%A8%8B/3.3%20%E6%AD%A3%E5%88%99%E8%A1%A8%E8%BE%BE%E5%BC%8F%E5%86%99%E6%B3%95.ipynb#W2sZmlsZQ%3D%3D?line=22'>23</a>\u001b[0m \u001b[39mprint\u001b[39m(re\u001b[39m.\u001b[39;49mmatch(\u001b[39m'\u001b[39;49m\u001b[39m[0-9]\u001b[39;49m\u001b[39m'\u001b[39;49m, a)\u001b[39m.\u001b[39;49mgroup())\n\u001b[0;32m     <a href='vscode-notebook-cell:/d%3A/Learning-Material/Python%E9%AB%98%E7%BA%A7%E7%BC%96%E7%A8%8B/3.3%20%E6%AD%A3%E5%88%99%E8%A1%A8%E8%BE%BE%E5%BC%8F%E5%86%99%E6%B3%95.ipynb#W2sZmlsZQ%3D%3D?line=23'>24</a>\u001b[0m \u001b[39m# 输出： AttributeError: 'NoneType' object has no attribute 'group'\u001b[39;00m\n",
      "\u001b[1;31mAttributeError\u001b[0m: 'NoneType' object has no attribute 'group'"
     ]
    }
   ],
   "source": [
    "# [] 用法\n",
    "import re\n",
    "\n",
    "a = 'hello world!'\n",
    "print(re.match('h', a).group())\n",
    "# 输出: h\n",
    "\n",
    "b = 'Hello world!'\n",
    "print(re.match('H', b).group())\n",
    "# 输出: H\n",
    "\n",
    "print(re.match('[hH]', a).group()) \n",
    "# 输出: h\n",
    "print(re.match('[hH]', b).group()) \n",
    "# 输出: H\n",
    "\n",
    "c = '5d dragon'\n",
    "print(re.match('[0123456789]', c).group())\n",
    "# 输出: 5\n",
    "print(re.match('[0-9]', c).group())\n",
    "# 输出: 5\n",
    "\n",
    "print(re.match('[0-9]', a).group())\n",
    "# 输出： AttributeError: 'NoneType' object has no attribute 'group'"
   ]
  },
  {
   "cell_type": "markdown",
   "metadata": {},
   "source": [
    "### '\\d'用法"
   ]
  },
  {
   "cell_type": "code",
   "execution_count": 3,
   "metadata": {},
   "outputs": [
    {
     "name": "stdout",
     "output_type": "stream",
     "text": [
      "<re.Match object; span=(0, 4), match='嫦娥1号'>\n",
      "<re.Match object; span=(0, 4), match='嫦娥8号'>\n",
      "<re.Match object; span=(0, 4), match='嫦娥1号'>\n",
      "None\n"
     ]
    }
   ],
   "source": [
    "# \\d 用法\n",
    "import re\n",
    "\n",
    "d = '嫦娥1号发射成功'\n",
    "e = '嫦娥8号发射成功'\n",
    "f = '嫦娥十号发射成功'\n",
    "\n",
    "print(re.match('嫦娥1号', d))\n",
    "# 输出: <re.Match object; span=(0, 8), match='嫦娥1号'>\n",
    "\n",
    "print(re.match('嫦娥8号', e))\n",
    "# 输出: <re.Match object; span=(0, 8), match='嫦娥8号'>\n",
    "\n",
    "print(re.match('嫦娥\\d号', d))\n",
    "# 输出: <re.Match object; span=(0, 8), match='嫦娥1号'>\n",
    "\n",
    "# 这里匹配中文的数字，非数字类型，返回了None\n",
    "print(re.match('嫦娥\\d号', f))\n",
    "# 输出: None\n"
   ]
  },
  {
   "cell_type": "code",
   "execution_count": 1,
   "metadata": {},
   "outputs": [
    {
     "name": "stdout",
     "output_type": "stream",
     "text": [
      "Digits found: ['4', '2', '2', '0']\n",
      "Non-digits found: ['T', 'h', 'e', ' ', 'n', 'u', 'm', 'b', 'e', 'r', ' ', ' ', 'i', 's', ' ', 'g', 'r', 'e', 'a', 't', 'e', 'r', ' ', 't', 'h', 'a', 'n', ' ']\n"
     ]
    }
   ],
   "source": [
    "import re\n",
    "\n",
    "text = \"The number 42 is greater than 20\"\n",
    "\n",
    "# 匹配数字字符 (\\d)\n",
    "matches_digit = re.findall(r'\\d', text)\n",
    "print(\"Digits found:\", matches_digit)  # Output: ['4', '2', '2', '0']\n",
    "\n",
    "# 匹配非数字字符 (\\D)\n",
    "matches_non_digit = re.findall(r'\\D', text)\n",
    "print(\"Non-digits found:\", matches_non_digit)  # Output: ['T', 'h', 'e', ' ', 'n', 'u', 'm', 'b', 'e', 'r', ' ', ' ', 'i', 's', ' ', 'g', 'r', 'e', 'a', 't', 'e', 'r', ' ', 't', 'h', 'a', 'n', ' ', '']\n"
   ]
  },
  {
   "cell_type": "markdown",
   "metadata": {},
   "source": [
    "### '\\s' 和 '\\S'"
   ]
  },
  {
   "cell_type": "code",
   "execution_count": 2,
   "metadata": {},
   "outputs": [
    {
     "name": "stdout",
     "output_type": "stream",
     "text": [
      "Matches for \\s: ['\\t', '\\n', ' ']\n",
      "Matches for \\S: ['H', 'e', 'l', 'l', 'o', 'W', 'o', 'r', 'l', 'd', 'P', 'y', 't', 'h', 'o', 'n', 'R', 'e', 'g', 'e', 'x']\n"
     ]
    }
   ],
   "source": [
    "import re\n",
    "\n",
    "text = \"Hello\\tWorld\\nPython Regex\"\n",
    "\n",
    "# 匹配空白字符 (\\s)\n",
    "matches = re.findall(r'\\s', text)\n",
    "print(\"Matches for \\\\s:\", matches)  # Output: ['\\t', '\\n', ' ']\n",
    "\n",
    "# 匹配非空白字符 (\\S)\n",
    "matches = re.findall(r'\\S', text)\n",
    "print(\"Matches for \\\\S:\", matches)  # Output: ['H', 'e', 'l', 'l', 'o', 'W', 'o', 'r', 'l', 'd', 'P', 'y', 't', 'h', 'o', 'n', 'R', 'e', 'g', 'e', 'x']\n"
   ]
  },
  {
   "cell_type": "markdown",
   "metadata": {},
   "source": [
    "### '\\w' 和 '\\W'"
   ]
  },
  {
   "cell_type": "code",
   "execution_count": 3,
   "metadata": {},
   "outputs": [
    {
     "name": "stdout",
     "output_type": "stream",
     "text": [
      "Matches for \\w: ['T', 'h', 'e', 'c', 'a', 't', 'j', 'u', 'm', 'p', 'e', 'd', 'o', 'v', 'e', 'r', 't', 'h', 'e', 'm', 'o', 'o', 'n']\n",
      "Matches for \\W: [' ', ' ', ' ', ' ', ' ', '.']\n"
     ]
    }
   ],
   "source": [
    "import re\n",
    "\n",
    "text = \"The cat jumped over the moon.\"\n",
    "\n",
    "# 匹配所有单词字符\n",
    "matches_w = re.findall(r'\\w', text)\n",
    "print(\"Matches for \\\\w:\", matches_w)  \n",
    "# Output: ['T', 'h', 'e', 'c', 'a', 't', 'j', 'u', 'm', 'p', 'e', 'd', 'o', 'v', 'e', 'r', 't', 'h', 'e', 'm', 'o', 'o', 'n']\n",
    "\n",
    "# 匹配所有非单词字符\n",
    "matches_W = re.findall(r'\\W', text)\n",
    "print(\"Matches for \\\\W:\", matches_W)  \n",
    "# Output: [' ', ' ', ' ', ' ', ' ', '.', ' ']\n"
   ]
  }
 ],
 "metadata": {
  "kernelspec": {
   "display_name": "venv",
   "language": "python",
   "name": "python3"
  },
  "language_info": {
   "codemirror_mode": {
    "name": "ipython",
    "version": 3
   },
   "file_extension": ".py",
   "mimetype": "text/x-python",
   "name": "python",
   "nbconvert_exporter": "python",
   "pygments_lexer": "ipython3",
   "version": "3.9.13"
  }
 },
 "nbformat": 4,
 "nbformat_minor": 2
}
