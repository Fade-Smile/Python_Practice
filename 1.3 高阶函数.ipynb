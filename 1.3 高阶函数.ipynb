{
 "cells": [
  {
   "cell_type": "markdown",
   "metadata": {},
   "source": [
    "<pre>\n",
    "高阶函数（Higher-order function）是指能够接收其他函数作为参数，或者能够返回一个函数作为结果的函数。\n",
    "在许多编程语言中，函数被视为一等公民，这意味着它们可以被像变量一样进行传递、赋值和操作。\n",
    "\n",
    "在函数式编程范式中，高阶函数是一个重要的概念。它允许程序员将函数作为参数传递给其他函数，或者从函数中返回另一个函数。\n",
    "这种灵活性使得可以使用更简洁、更抽象的方式来表达和操作代码，提高代码的可读性和可维护性。\n",
    "\n",
    "在使用高阶函数时，常见的一些操作包括：\n",
    "\n",
    "1.将函数作为参数传递给其他函数。\n",
    "2.在函数中返回另一个函数。\n",
    "3.在函数内部定义或使用其他函数。\n",
    "</pre>"
   ]
  },
  {
   "cell_type": "code",
   "execution_count": 1,
   "metadata": {},
   "outputs": [
    {
     "name": "stdout",
     "output_type": "stream",
     "text": [
      "8\n"
     ]
    }
   ],
   "source": [
    "# 示例：接受函数作为参数的高阶函数\n",
    "def apply_operation(func, x, y):\n",
    "    return func(x, y)\n",
    "\n",
    "def add(a, b):\n",
    "    return a + b\n",
    "\n",
    "result = apply_operation(add, 3, 5)  # 使用 add 函数作为参数传递给 apply_operation 函数\n",
    "print(result)  # 输出：8\n"
   ]
  },
  {
   "cell_type": "code",
   "execution_count": 2,
   "metadata": {},
   "outputs": [
    {
     "name": "stdout",
     "output_type": "stream",
     "text": [
      "Hello, Alice\n"
     ]
    }
   ],
   "source": [
    "# 示例：返回函数作为结果的高阶函数\n",
    "def greet(name):\n",
    "    def get_message():\n",
    "        return \"Hello, \"\n",
    "\n",
    "    def print_name():\n",
    "        return name\n",
    "\n",
    "    result = get_message() + print_name()\n",
    "    return result\n",
    "\n",
    "message = greet(\"Alice\")  # 返回一个基于输入参数的函数\n",
    "print(message)  # 输出：Hello, Alice\n"
   ]
  },
  {
   "cell_type": "code",
   "execution_count": 9,
   "metadata": {},
   "outputs": [
    {
     "name": "stdout",
     "output_type": "stream",
     "text": [
      "9\n",
      "<built-in function abs>\n",
      "<built-in function abs>\n",
      "2\n",
      "5\n"
     ]
    }
   ],
   "source": [
    "print(abs(-9))\n",
    "print(abs)\n",
    "\n",
    "f = abs\n",
    "print(f)\n",
    "print(f(-2))\n",
    "\n",
    "i = abs(-5)\n",
    "print(i)"
   ]
  },
  {
   "cell_type": "code",
   "execution_count": 10,
   "metadata": {},
   "outputs": [
    {
     "name": "stdout",
     "output_type": "stream",
     "text": [
      "9\n"
     ]
    }
   ],
   "source": [
    "import builtins\n",
    "i = builtins.abs(-9)\n",
    "print(i)"
   ]
  },
  {
   "cell_type": "code",
   "execution_count": 12,
   "metadata": {},
   "outputs": [
    {
     "name": "stdout",
     "output_type": "stream",
     "text": [
      "[1, 2, 6, 24, 120, 720, 5040]\n"
     ]
    }
   ],
   "source": [
    "# 定义一个函数，传入一个列表[1,2,3,4,5,6,7]，返回一个新的列表 [每个数字的阶乘] [1!, 2!]\n",
    "# 已经存在一个阶乘函数，\n",
    "\n",
    "def fun(num):  # 计算一个数字的阶乘\n",
    "    if num == 1:\n",
    "        return 1\n",
    "    else:\n",
    "        return num * fun(num - 1)\n",
    "\n",
    "# fun2 是高阶函数，它的参数中，第二个参数是函数本身\n",
    "def fun2(list, func):\n",
    "    new_lst = []\n",
    "    for x in list:\n",
    "        new_lst.append(func(x))\n",
    "    return new_lst\n",
    "\n",
    "\n",
    "list1 = [1, 2, 3, 4, 5, 6, 7]\n",
    "print(fun2(list1, fun))\n"
   ]
  },
  {
   "cell_type": "code",
   "execution_count": null,
   "metadata": {},
   "outputs": [],
   "source": []
  }
 ],
 "metadata": {
  "kernelspec": {
   "display_name": "venv",
   "language": "python",
   "name": "python3"
  },
  "language_info": {
   "codemirror_mode": {
    "name": "ipython",
    "version": 3
   },
   "file_extension": ".py",
   "mimetype": "text/x-python",
   "name": "python",
   "nbconvert_exporter": "python",
   "pygments_lexer": "ipython3",
   "version": "3.9.13"
  }
 },
 "nbformat": 4,
 "nbformat_minor": 2
}
