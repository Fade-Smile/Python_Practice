{
 "cells": [
  {
   "cell_type": "markdown",
   "metadata": {},
   "source": [
    "### 闭包\n",
    "\n",
    "概念： 一个函数定义中引入了函数定义以外的变量， 并且该函数可以在其定义环境外被执行， 这样的函数叫做闭包"
   ]
  },
  {
   "cell_type": "code",
   "execution_count": 7,
   "metadata": {},
   "outputs": [
    {
     "name": "stdout",
     "output_type": "stream",
     "text": [
      "<function outer_func_a.<locals>.inner_func_b at 0x000001EE75119A60>\n",
      "\n",
      "inner_func_b的参数是: 20, outer_func_a的参数是: 10\n",
      "30\n",
      "\n",
      "inner_func_b的参数是: 90, outer_func_a的参数是: 10\n",
      "100\n"
     ]
    }
   ],
   "source": [
    "# 1 闭包的定义\n",
    "def outer_func_a (num_a):  # 高阶函数, 返回一个函数\n",
    "    \n",
    "    def inner_func_b (num_b):\n",
    "        print(\"inner_func_b的参数是: {0}, outer_func_a的参数是: {1}\".format(num_b, num_a))\n",
    "        return num_a + num_b\n",
    "    return inner_func_b\n",
    "\n",
    "result = outer_func_a(10)  # 返回的是inner_func_b的内存地址, 这个10是传给outer_func_a的\n",
    "print(result)\n",
    "print()\n",
    "print(result(20)) # 这个20是传给inner_func_b的\n",
    "print()\n",
    "print(result(90)) # 这个90是传给inner_func_b的\n",
    "\n",
    "# inner_func_b 就是闭包"
   ]
  },
  {
   "cell_type": "markdown",
   "metadata": {},
   "source": [
    "### 闭包的应用"
   ]
  },
  {
   "cell_type": "code",
   "execution_count": 12,
   "metadata": {},
   "outputs": [
    {
     "name": "stdout",
     "output_type": "stream",
     "text": [
      "<function create_line.<locals>.line at 0x000001EE75119700>\n",
      "<function create_line.<locals>.line at 0x000001EE751199D0>\n",
      "12\n",
      "5.5\n"
     ]
    }
   ],
   "source": [
    "# 2 闭包的应用\n",
    "def create_line(a, b):\n",
    "    def line(x):\n",
    "        return a*x + b\n",
    "    return line\n",
    "\n",
    "# 得到一个一元线性函数\n",
    "l1 = create_line(2, 2)\n",
    "l2 = create_line(1.5, -2)\n",
    "\n",
    "print(l1)\n",
    "print(l2)\n",
    "\n",
    "# 计算 在线 1 的函数中， 当 x = 5 时， y 的值\n",
    "print(l1(5))\n",
    "\n",
    "# 计算 在线 2 的函数中， 当 x = 5 时， y 的值\n",
    "print(l2(5))"
   ]
  },
  {
   "cell_type": "code",
   "execution_count": 15,
   "metadata": {},
   "outputs": [
    {
     "ename": "UnboundLocalError",
     "evalue": "local variable 'count' referenced before assignment",
     "output_type": "error",
     "traceback": [
      "\u001b[1;31m---------------------------------------------------------------------------\u001b[0m",
      "\u001b[1;31mUnboundLocalError\u001b[0m                         Traceback (most recent call last)",
      "\u001b[1;32md:\\Learning-Material\\Python高级编程\\06-闭包.ipynb 单元格 5\u001b[0m line \u001b[0;36m9\n\u001b[0;32m      <a href='vscode-notebook-cell:/d%3A/Learning-Material/Python%E9%AB%98%E7%BA%A7%E7%BC%96%E7%A8%8B/06-%E9%97%AD%E5%8C%85.ipynb#W4sZmlsZQ%3D%3D?line=5'>6</a>\u001b[0m     \u001b[39mreturn\u001b[39;00m add\n\u001b[0;32m      <a href='vscode-notebook-cell:/d%3A/Learning-Material/Python%E9%AB%98%E7%BA%A7%E7%BC%96%E7%A8%8B/06-%E9%97%AD%E5%8C%85.ipynb#W4sZmlsZQ%3D%3D?line=7'>8</a>\u001b[0m a \u001b[39m=\u001b[39m test1()\n\u001b[1;32m----> <a href='vscode-notebook-cell:/d%3A/Learning-Material/Python%E9%AB%98%E7%BA%A7%E7%BC%96%E7%A8%8B/06-%E9%97%AD%E5%8C%85.ipynb#W4sZmlsZQ%3D%3D?line=8'>9</a>\u001b[0m a()\n",
      "\u001b[1;32md:\\Learning-Material\\Python高级编程\\06-闭包.ipynb 单元格 5\u001b[0m line \u001b[0;36m4\n\u001b[0;32m      <a href='vscode-notebook-cell:/d%3A/Learning-Material/Python%E9%AB%98%E7%BA%A7%E7%BC%96%E7%A8%8B/06-%E9%97%AD%E5%8C%85.ipynb#W4sZmlsZQ%3D%3D?line=2'>3</a>\u001b[0m \u001b[39mdef\u001b[39;00m \u001b[39madd\u001b[39m():\n\u001b[1;32m----> <a href='vscode-notebook-cell:/d%3A/Learning-Material/Python%E9%AB%98%E7%BA%A7%E7%BC%96%E7%A8%8B/06-%E9%97%AD%E5%8C%85.ipynb#W4sZmlsZQ%3D%3D?line=3'>4</a>\u001b[0m     \u001b[39mprint\u001b[39m(count)\n\u001b[0;32m      <a href='vscode-notebook-cell:/d%3A/Learning-Material/Python%E9%AB%98%E7%BA%A7%E7%BC%96%E7%A8%8B/06-%E9%97%AD%E5%8C%85.ipynb#W4sZmlsZQ%3D%3D?line=4'>5</a>\u001b[0m     count \u001b[39m+\u001b[39m\u001b[39m=\u001b[39m \u001b[39m1\u001b[39m\n",
      "\u001b[1;31mUnboundLocalError\u001b[0m: local variable 'count' referenced before assignment"
     ]
    }
   ],
   "source": [
    "def test1():\n",
    "    count = 1\n",
    "    def add():\n",
    "        print(count)\n",
    "        count += 1\n",
    "    return add\n",
    "\n",
    "a = test1()\n",
    "a()"
   ]
  },
  {
   "cell_type": "code",
   "execution_count": 19,
   "metadata": {},
   "outputs": [
    {
     "name": "stdout",
     "output_type": "stream",
     "text": [
      "1\n"
     ]
    },
    {
     "data": {
      "text/plain": [
       "2"
      ]
     },
     "execution_count": 19,
     "metadata": {},
     "output_type": "execute_result"
    }
   ],
   "source": [
    "# 3 闭包里面修改外部变量的值\n",
    "def test1():\n",
    "    # count 其实不是局部变量，介于全局变量和局部变量之间的一种变量, nonlocal标识\n",
    "    count = 1\n",
    "    def add():\n",
    "        # 谁用谁添加nonlocal 标识\n",
    "        nonlocal count\n",
    "        print(count)\n",
    "        count += 1\n",
    "        return count\n",
    "    return add\n",
    "\n",
    "a = test1()\n",
    "a()"
   ]
  },
  {
   "cell_type": "code",
   "execution_count": 26,
   "metadata": {},
   "outputs": [
    {
     "name": "stdout",
     "output_type": "stream",
     "text": [
      "9 9 9\n"
     ]
    }
   ],
   "source": [
    "# 4 闭包的陷阱\n",
    "def fun_a():\n",
    "    fun_list = []\n",
    "    for i in range(1, 4):\n",
    "        def fun_b():\n",
    "            return i ** 2\n",
    "        \n",
    "        fun_list.append(fun_b)\n",
    "    return fun_list\n",
    "\n",
    "f1, f2, f3 = fun_a()\n",
    "print(f1(), f2(), f3())\n"
   ]
  },
  {
   "cell_type": "code",
   "execution_count": 30,
   "metadata": {},
   "outputs": [
    {
     "name": "stdout",
     "output_type": "stream",
     "text": [
      "1 4 9\n"
     ]
    }
   ],
   "source": [
    "# 4 闭包的陷阱--改进版本\n",
    "def fun_a():\n",
    "    fun_list = []\n",
    "    for i in range(1, 4):\n",
    "        def fun_b(_i = i):\n",
    "            return _i ** 2\n",
    "        \n",
    "        fun_list.append(fun_b)\n",
    "    return fun_list\n",
    "\n",
    "f1, f2, f3 = fun_a()\n",
    "print(f1(), f2(), f3())"
   ]
  }
 ],
 "metadata": {
  "kernelspec": {
   "display_name": "venv",
   "language": "python",
   "name": "python3"
  },
  "language_info": {
   "codemirror_mode": {
    "name": "ipython",
    "version": 3
   },
   "file_extension": ".py",
   "mimetype": "text/x-python",
   "name": "python",
   "nbconvert_exporter": "python",
   "pygments_lexer": "ipython3",
   "version": "3.9.13"
  }
 },
 "nbformat": 4,
 "nbformat_minor": 2
}
