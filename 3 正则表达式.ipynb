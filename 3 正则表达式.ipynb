{
 "cells": [
  {
   "cell_type": "code",
   "execution_count": 1,
   "metadata": {},
   "outputs": [
    {
     "name": "stdout",
     "output_type": "stream",
     "text": [
      "Emails: ['example@email.com']\n",
      "Phone Numbers: ['123-456-7890']\n"
     ]
    }
   ],
   "source": [
    "import re\n",
    "\n",
    "text = \"Hello, my email is example@email.com and my phone number is 123-456-7890.\"\n",
    "\n",
    "# 匹配邮箱\n",
    "email_pattern = r'\\b[A-Za-z0-9._%+-]+@[A-Za-z0-9.-]+\\.[A-Z|a-z]{2,}\\b'\n",
    "emails = re.findall(email_pattern, text)\n",
    "print(\"Emails:\", emails)\n",
    "\n",
    "# 匹配电话号码\n",
    "phone_pattern = r'\\b\\d{3}-\\d{3}-\\d{4}\\b'\n",
    "phones = re.findall(phone_pattern, text)\n",
    "print(\"Phone Numbers:\", phones)"
   ]
  },
  {
   "cell_type": "code",
   "execution_count": 2,
   "metadata": {},
   "outputs": [
    {
     "name": "stdout",
     "output_type": "stream",
     "text": [
      "Email found: example@email.com\n",
      "Phone Numbers: ['123-456-7890']\n",
      "Updated Text: Hello, my email is example@example.com and my phone number is 123-456-7890.\n"
     ]
    }
   ],
   "source": [
    "import re\n",
    "\n",
    "text = \"Hello, my email is example@email.com and my phone number is 123-456-7890.\"\n",
    "\n",
    "email_pattern = r'\\b[A-Za-z0-9._%+-]+@[A-Za-z0-9.-]+\\.[A-Z|a-z]{2,}\\b'\n",
    "phone_pattern = r'\\b\\d{3}-\\d{3}-\\d{4}\\b'\n",
    "\n",
    "# 使用 re.search() 查找匹配的内容\n",
    "email_match = re.search(email_pattern, text)\n",
    "if email_match:\n",
    "    print(\"Email found:\", email_match.group())  # 输出找到的邮箱地址\n",
    "\n",
    "# 使用 re.findall() 查找所有匹配的内容\n",
    "phones = re.findall(phone_pattern, text)\n",
    "print(\"Phone Numbers:\", phones)\n",
    "\n",
    "# 使用 re.sub() 替换匹配的内容\n",
    "updated_text = re.sub(email_pattern, 'example@example.com', text)\n",
    "print(\"Updated Text:\", updated_text)"
   ]
  }
 ],
 "metadata": {
  "kernelspec": {
   "display_name": "venv",
   "language": "python",
   "name": "python3"
  },
  "language_info": {
   "codemirror_mode": {
    "name": "ipython",
    "version": 3
   },
   "file_extension": ".py",
   "mimetype": "text/x-python",
   "name": "python",
   "nbconvert_exporter": "python",
   "pygments_lexer": "ipython3",
   "version": "3.9.13"
  }
 },
 "nbformat": 4,
 "nbformat_minor": 2
}
