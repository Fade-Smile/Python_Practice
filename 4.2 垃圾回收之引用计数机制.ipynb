{
 "cells": [
  {
   "cell_type": "markdown",
   "metadata": {},
   "source": [
    "### 引用计数增加/减少"
   ]
  },
  {
   "cell_type": "code",
   "execution_count": 1,
   "metadata": {},
   "outputs": [
    {
     "name": "stdout",
     "output_type": "stream",
     "text": [
      "当前的对象已经被创建， 占用的内存地址为: 0x1c6025edf10\n",
      "当前对象的引用计数为: 2\n",
      "当前对象的引用计数为: 3\n",
      "当前对象的引用计数为: 4\n",
      "**************************************************************************************\n",
      "当前对象的引用计数为: 4\n",
      "当前对象的引用计数为: 3\n",
      "当前对象的引用计数为: 2\n"
     ]
    }
   ],
   "source": [
    "import sys \n",
    "\n",
    "class TestObject(object):\n",
    "    def __init__(self):\n",
    "        print(\"当前的对象已经被创建， 占用的内存地址为: %s\" %hex(id(self)))\n",
    "\n",
    "\n",
    "a = TestObject() # a、创建对象\n",
    "print(\"当前对象的引用计数为: %s\" %sys.getrefcount(a))\n",
    "\n",
    "b = a  # b、另外变量也指向当前对象\n",
    "print(\"当前对象的引用计数为: %s\" %sys.getrefcount(a))\n",
    "\n",
    "list1 = []\n",
    "list1.append(a)  # c、 作为容器对象的一个元素\n",
    "print(\"当前对象的引用计数为: %s\" %sys.getrefcount(a))  # d、作为参数提供给函数：test(x)\n",
    "\n",
    "print('**************************************************************************************')\n",
    "\n",
    "# del a   # a、 变量被显式的销毁\n",
    "print(\"当前对象的引用计数为: %s\" %sys.getrefcount(b))\n",
    "\n",
    "b = 1000   # b、对象的另外一个变量重新赋值\n",
    "print(\"当前对象的引用计数为: %s\" %sys.getrefcount(a))\n",
    "\n",
    "list1.remove(a) # c、从容器中移除\n",
    "print(\"当前对象的引用计数为: %s\" %sys.getrefcount(a))"
   ]
  },
  {
   "cell_type": "code",
   "execution_count": 2,
   "metadata": {},
   "outputs": [
    {
     "name": "stdout",
     "output_type": "stream",
     "text": [
      "当前的对象已经被创建， 占用的内存地址为: 0x1c60263cf70\n",
      "当前对象的引用计数为: 2\n"
     ]
    },
    {
     "ename": "NameError",
     "evalue": "name 'a' is not defined",
     "output_type": "error",
     "traceback": [
      "\u001b[1;31m---------------------------------------------------------------------------\u001b[0m",
      "\u001b[1;31mNameError\u001b[0m                                 Traceback (most recent call last)",
      "\u001b[1;32md:\\Learning-Material\\Python高级编程\\4.2 垃圾回收之引用计数机制.ipynb 单元格 3\u001b[0m line \u001b[0;36m1\n\u001b[0;32m      <a href='vscode-notebook-cell:/d%3A/Learning-Material/Python%E9%AB%98%E7%BA%A7%E7%BC%96%E7%A8%8B/4.2%20%E5%9E%83%E5%9C%BE%E5%9B%9E%E6%94%B6%E4%B9%8B%E5%BC%95%E7%94%A8%E8%AE%A1%E6%95%B0%E6%9C%BA%E5%88%B6.ipynb#W4sZmlsZQ%3D%3D?line=8'>9</a>\u001b[0m \u001b[39mprint\u001b[39m(\u001b[39m\"\u001b[39m\u001b[39m当前对象的引用计数为: \u001b[39m\u001b[39m%s\u001b[39;00m\u001b[39m\"\u001b[39m \u001b[39m%\u001b[39msys\u001b[39m.\u001b[39mgetrefcount(a))\n\u001b[0;32m     <a href='vscode-notebook-cell:/d%3A/Learning-Material/Python%E9%AB%98%E7%BA%A7%E7%BC%96%E7%A8%8B/4.2%20%E5%9E%83%E5%9C%BE%E5%9B%9E%E6%94%B6%E4%B9%8B%E5%BC%95%E7%94%A8%E8%AE%A1%E6%95%B0%E6%9C%BA%E5%88%B6.ipynb#W4sZmlsZQ%3D%3D?line=10'>11</a>\u001b[0m \u001b[39mdel\u001b[39;00m a\n\u001b[1;32m---> <a href='vscode-notebook-cell:/d%3A/Learning-Material/Python%E9%AB%98%E7%BA%A7%E7%BC%96%E7%A8%8B/4.2%20%E5%9E%83%E5%9C%BE%E5%9B%9E%E6%94%B6%E4%B9%8B%E5%BC%95%E7%94%A8%E8%AE%A1%E6%95%B0%E6%9C%BA%E5%88%B6.ipynb#W4sZmlsZQ%3D%3D?line=11'>12</a>\u001b[0m \u001b[39mprint\u001b[39m(\u001b[39m\"\u001b[39m\u001b[39m当前对象的引用计数为: \u001b[39m\u001b[39m%s\u001b[39;00m\u001b[39m\"\u001b[39m \u001b[39m%\u001b[39msys\u001b[39m.\u001b[39mgetrefcount(a))\n",
      "\u001b[1;31mNameError\u001b[0m: name 'a' is not defined"
     ]
    }
   ],
   "source": [
    "import sys \n",
    "\n",
    "class TestObject(object):\n",
    "    def __init__(self):\n",
    "        print(\"当前的对象已经被创建， 占用的内存地址为: %s\" %hex(id(self)))\n",
    "\n",
    "\n",
    "a = TestObject() # a、创建对象\n",
    "print(\"当前对象的引用计数为: %s\" %sys.getrefcount(a))\n",
    "\n",
    "del a\n",
    "print(\"当前对象的引用计数为: %s\" %sys.getrefcount(a))"
   ]
  }
 ],
 "metadata": {
  "kernelspec": {
   "display_name": "venv",
   "language": "python",
   "name": "python3"
  },
  "language_info": {
   "codemirror_mode": {
    "name": "ipython",
    "version": 3
   },
   "file_extension": ".py",
   "mimetype": "text/x-python",
   "name": "python",
   "nbconvert_exporter": "python",
   "pygments_lexer": "ipython3",
   "version": "3.9.13"
  }
 },
 "nbformat": 4,
 "nbformat_minor": 2
}
