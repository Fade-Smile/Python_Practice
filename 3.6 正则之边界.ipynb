{
 "cells": [
  {
   "cell_type": "markdown",
   "metadata": {},
   "source": [
    "### '^' 用法"
   ]
  },
  {
   "cell_type": "code",
   "execution_count": 30,
   "metadata": {},
   "outputs": [
    {
     "name": "stdout",
     "output_type": "stream",
     "text": [
      "start\n",
      "Non-digits: ['s', 't', 'a', 'r', 't', ' ', 'm', 'i', 'd', 'd', 'l', 'e', ' ', 'e', 'n', 'd']\n",
      "<class 'list'>\n"
     ]
    }
   ],
   "source": [
    "import re\n",
    "\n",
    "text = \"start middle end\"\n",
    "\n",
    "# 匹配以 \"start\" 开头的字符串\n",
    "match_start = re.search(r'^start', text)\n",
    "print(match_start.group() if match_start else \"No match found\")  # Output: start\n",
    "\n",
    "# 匹配不是数字的任何字符\n",
    "non_digits = re.findall(r'[^0-9]', text)\n",
    "print(\"Non-digits:\", non_digits)  # Output: ['s', 't', 'a', 'r', 't', ' ', 'm', 'i', 'd', 'd', 'l', 'e', ' ', 'e', 'n', 'd']\n",
    "\n",
    "print(type(non_digits))"
   ]
  },
  {
   "cell_type": "code",
   "execution_count": 1,
   "metadata": {},
   "outputs": [
    {
     "name": "stdout",
     "output_type": "stream",
     "text": [
      "awhahlf@163.com\n",
      "None\n",
      "aaaa____@163.com\n"
     ]
    }
   ],
   "source": [
    "import re\n",
    "# 用法1: 限定开头\n",
    "\n",
    "emails = '''\n",
    "  awhahlf@163.com\n",
    "affafafafaaaaaaaaaaaaaaaa@163.com\n",
    "afa_@163.com\n",
    "225afafaf@163.com\n",
    "aaaa____@qq.com\n",
    "aaaa____@163.com\n",
    "'''\n",
    "\n",
    "# 生成正则表达式，一个是带 ^ ，一个不带\n",
    "pattern1 = r\"[a-zA-Z][\\w_]{5,17}@163.com\"\n",
    "pattern2 = r\"^[a-zA-Z][\\w_]{5,17}@163.com\"\n",
    "\n",
    "# #生成三个正则对象，第一个是 正常写入的正则表达式，第二个是带 人 限定的表达式，第三个是带 人 限定的表达式且支持换行匹配\n",
    "single_line1 = re.compile(pattern1)\n",
    "single_line2 = re.compile(pattern2)\n",
    "multiline = re.compile(pattern2, re.MULTILINE) # re.MULTILINE 是正则表达式中的一个标志， 使上面的 emails 变成多行模式\n",
    "\n",
    "# 使用三个已经生成好的匹配字符\n",
    "ret1 = re.search(single_line1, emails)\n",
    "ret2 = re.search(single_line2, emails)\n",
    "ret3 = re.search(multiline, emails)\n",
    "\n",
    "#第一种不带人匹配发现立即匹配到，第二行的邮箱\n",
    "print(ret1.group())\n",
    "# 输出: afafaf@163.com\n",
    "\n",
    "#第二种带 匹配发现没有匹配到，我们看到匹配限定，不换行第一行匹配\n",
    "print(ret2)\n",
    "# 输出: None\n",
    "\n",
    "# 第二种带匹配发现没有匹配到，我们看到匹配限定支持换行使用了re.MULTILINE，换行匹配查到了afa_@163.com# re.MULTILINE支持换行后接字符，不能再接空格字符等\n",
    "print(ret3.group())\n",
    "# 输出: aaaa____@163.com\n"
   ]
  },
  {
   "cell_type": "code",
   "execution_count": 2,
   "metadata": {},
   "outputs": [
    {
     "name": "stdout",
     "output_type": "stream",
     "text": [
      "awhahlf@163.com\n",
      "None\n"
     ]
    }
   ],
   "source": [
    "import re\n",
    "\n",
    "tel1 = 'awhahlf@163.com, affafafafaaaaaaaaaaaaaaaa@163.com, afa_@163.com'\n",
    "tel2 = ' awhahlf@163.com, affafafafaaaaaaaaaaaaaaaa@163.com, afa_@163.com'\n",
    "\n",
    "# 第一行不存在空格，我们使用相同的表达式，匹配到了第一行，第一个字符\n",
    "ret = re.search(\"^[a-zA-Z][\\w_]{5,17}@163\\.com\", tel1)\n",
    "print(ret.group())\n",
    "# 输出: awhahlf@163.com\n",
    "\n",
    "# 但是当我们第一行存在空格，我们使用相同的表达式，匹配不到对应的内容，返回来一个空\n",
    "ret = re.search(\"^[a-zA-Z][\\w_]{5,17}@163\\.com\", tel2)\n",
    "print(ret)\n",
    "# 输出: None"
   ]
  },
  {
   "cell_type": "code",
   "execution_count": 3,
   "metadata": {},
   "outputs": [
    {
     "name": "stdout",
     "output_type": "stream",
     "text": [
      "None\n",
      "1\n"
     ]
    }
   ],
   "source": [
    "# 用法二 : 取反\n",
    "# 导包\n",
    "import re\n",
    "\n",
    "# 需要筛选的字符\n",
    "tel = '123789'\n",
    "# 使用字符,直接取反，可以很直接的看到\n",
    "ret = re.search(\"[^0-9]\", tel)\n",
    "print(ret)\n",
    "# 输出: None\n",
    "\n",
    "# 但是将 ^ 从中括号中拿出来就是取出对应的开头匹配的值\n",
    "ret = re.search(\"^[0-9]\", tel)\n",
    "print(ret.group())\n",
    "# 输出: 1"
   ]
  },
  {
   "cell_type": "markdown",
   "metadata": {},
   "source": [
    "### '$' 用法"
   ]
  },
  {
   "cell_type": "code",
   "execution_count": 31,
   "metadata": {},
   "outputs": [
    {
     "name": "stdout",
     "output_type": "stream",
     "text": [
      "Match found at the end of the string: World\n"
     ]
    }
   ],
   "source": [
    "import re\n",
    "\n",
    "text = \"Hello World\"\n",
    "\n",
    "# 匹配以 \"World\" 结尾的字符串\n",
    "match = re.search(r\"World$\", text)\n",
    "\n",
    "if match:\n",
    "    print(\"Match found at the end of the string:\", match.group())\n",
    "else:\n",
    "    print(\"No match found\")\n"
   ]
  },
  {
   "cell_type": "code",
   "execution_count": 32,
   "metadata": {},
   "outputs": [
    {
     "name": "stdout",
     "output_type": "stream",
     "text": [
      "Match found at the end of the string: 3\n"
     ]
    }
   ],
   "source": [
    "import re\n",
    "\n",
    "text = \"abc123\"\n",
    "\n",
    "# 匹配以数字结尾的字符串\n",
    "match = re.search(r\"\\d$\", text)\n",
    "\n",
    "if match:\n",
    "    print(\"Match found at the end of the string:\", match.group())\n",
    "else:\n",
    "    print(\"No match found\")\n"
   ]
  },
  {
   "cell_type": "code",
   "execution_count": 4,
   "metadata": {},
   "outputs": [
    {
     "name": "stdout",
     "output_type": "stream",
     "text": [
      "xiaoWang@163.com\n",
      "xiaoWang@163.com\n"
     ]
    },
    {
     "ename": "AttributeError",
     "evalue": "'NoneType' object has no attribute 'group'",
     "output_type": "error",
     "traceback": [
      "\u001b[1;31m---------------------------------------------------------------------------\u001b[0m",
      "\u001b[1;31mAttributeError\u001b[0m                            Traceback (most recent call last)",
      "\u001b[1;32md:\\Learning-Material\\Python高级编程\\3.6 正则之边界.ipynb 单元格 6\u001b[0m line \u001b[0;36m1\n\u001b[0;32m     <a href='vscode-notebook-cell:/d%3A/Learning-Material/Python%E9%AB%98%E7%BA%A7%E7%BC%96%E7%A8%8B/3.6%20%E6%AD%A3%E5%88%99%E4%B9%8B%E8%BE%B9%E7%95%8C.ipynb#W5sZmlsZQ%3D%3D?line=12'>13</a>\u001b[0m \u001b[39m# 输出:'xiaoWang@163.com'\u001b[39;00m\n\u001b[0;32m     <a href='vscode-notebook-cell:/d%3A/Learning-Material/Python%E9%AB%98%E7%BA%A7%E7%BC%96%E7%A8%8B/3.6%20%E6%AD%A3%E5%88%99%E4%B9%8B%E8%BE%B9%E7%95%8C.ipynb#W5sZmlsZQ%3D%3D?line=13'>14</a>\u001b[0m \n\u001b[0;32m     <a href='vscode-notebook-cell:/d%3A/Learning-Material/Python%E9%AB%98%E7%BA%A7%E7%BC%96%E7%A8%8B/3.6%20%E6%AD%A3%E5%88%99%E4%B9%8B%E8%BE%B9%E7%95%8C.ipynb#W5sZmlsZQ%3D%3D?line=14'>15</a>\u001b[0m \u001b[39m# 通过$来确定末尾\u001b[39;00m\n\u001b[0;32m     <a href='vscode-notebook-cell:/d%3A/Learning-Material/Python%E9%AB%98%E7%BA%A7%E7%BC%96%E7%A8%8B/3.6%20%E6%AD%A3%E5%88%99%E4%B9%8B%E8%BE%B9%E7%95%8C.ipynb#W5sZmlsZQ%3D%3D?line=15'>16</a>\u001b[0m ret \u001b[39m=\u001b[39m re\u001b[39m.\u001b[39mmatch(\u001b[39m\"\u001b[39m\u001b[39m[a-zA-Z][\u001b[39m\u001b[39m\\\u001b[39m\u001b[39mw_]\u001b[39m\u001b[39m{\u001b[39m\u001b[39m5,17}@163\u001b[39m\u001b[39m\\\u001b[39m\u001b[39m.com$\u001b[39m\u001b[39m\"\u001b[39m, \u001b[39m\"\u001b[39m\u001b[39mxiaoWang@163.comheihei\u001b[39m\u001b[39m\"\u001b[39m)\n\u001b[1;32m---> <a href='vscode-notebook-cell:/d%3A/Learning-Material/Python%E9%AB%98%E7%BA%A7%E7%BC%96%E7%A8%8B/3.6%20%E6%AD%A3%E5%88%99%E4%B9%8B%E8%BE%B9%E7%95%8C.ipynb#W5sZmlsZQ%3D%3D?line=16'>17</a>\u001b[0m ret\u001b[39m.\u001b[39;49mgroup()\n\u001b[0;32m     <a href='vscode-notebook-cell:/d%3A/Learning-Material/Python%E9%AB%98%E7%BA%A7%E7%BC%96%E7%A8%8B/3.6%20%E6%AD%A3%E5%88%99%E4%B9%8B%E8%BE%B9%E7%95%8C.ipynb#W5sZmlsZQ%3D%3D?line=17'>18</a>\u001b[0m \u001b[39m# 输出: AttributeError: 'NoneType' object has no attribute 'group'\u001b[39;00m\n",
      "\u001b[1;31mAttributeError\u001b[0m: 'NoneType' object has no attribute 'group'"
     ]
    }
   ],
   "source": [
    "# '$' 用法\n",
    "\n",
    "# 导包\n",
    "import re\n",
    "# 我们将匹配后缀信息，此时我们没有进行限定结尾\n",
    "ret = re.match(\"[a-zA-Z][\\w_]{5,17}@163\\.com\", \"xiaoWang@163.com\")\n",
    "print(ret.group())\n",
    "# 输出: 'xiaoWang@163.com'\n",
    "\n",
    "# 继续匹配后缀为163.comheihei，这个如果是后缀增加，那我们在筛选的时候就会存在一些问题，因为实际上域名就已经不对了。\n",
    "ret = re.match(\"[a-zA-Z][\\w_]{5,17}@163\\.com\", \"xiaoWang@163.comheihei\")\n",
    "print(ret.group())\n",
    "# 输出:'xiaoWang@163.com'\n",
    "\n",
    "# 通过$来确定末尾\n",
    "ret = re.match(\"[a-zA-Z][\\w_]{5,17}@163\\.com$\", \"xiaoWang@163.comheihei\")\n",
    "ret.group()\n",
    "# 输出: AttributeError: 'NoneType' object has no attribute 'group'\n"
   ]
  },
  {
   "cell_type": "code",
   "execution_count": 12,
   "metadata": {},
   "outputs": [
    {
     "name": "stdout",
     "output_type": "stream",
     "text": [
      "aaaa____@163.com\n",
      "bbb___@163.com\n"
     ]
    }
   ],
   "source": [
    "import re\n",
    "emails2 = '''\n",
    "  awhahlf@163.com\n",
    "affafafafaaaaaaaaaaaaaaaa@163.com\n",
    "afa_@163.com\n",
    "225afafaf@163.com\n",
    "aaaa____@qq.com\n",
    "aaaa____@163.comabc\n",
    "bbb___@163.com\n",
    "'''\n",
    "\n",
    "# 这里出错了： 忽略了163.com后面的abc\n",
    "print(re.search(\"^[a-zA-Z][\\w_]{5,17}@163.com\", emails2,re.MULTILINE).group())\n",
    "# 输出: aaaa____@163.com\n",
    "\n",
    "# pattern = r'\\b[a-zA-Z]\\w{5,17}@163\\.com\\b'\n",
    "# match = re.search(pattern, emails2, re.MULTILINE)\n",
    "# print(match.group())\n",
    "\n",
    "\n",
    "\n",
    "# 下面是添加 '$' 后的结果\n",
    "print(re.search(\"^[a-zA-Z][\\w_]{5,17}@163.com$\", emails2,re.MULTILINE).group())\n",
    "# 输出: bbb___163.com"
   ]
  },
  {
   "cell_type": "markdown",
   "metadata": {},
   "source": [
    "### '\\b' 用法"
   ]
  },
  {
   "cell_type": "code",
   "execution_count": 14,
   "metadata": {},
   "outputs": [
    {
     "name": "stdout",
     "output_type": "stream",
     "text": [
      "ho ver\n"
     ]
    },
    {
     "ename": "AttributeError",
     "evalue": "'NoneType' object has no attribute 'group'",
     "output_type": "error",
     "traceback": [
      "\u001b[1;31m---------------------------------------------------------------------------\u001b[0m",
      "\u001b[1;31mAttributeError\u001b[0m                            Traceback (most recent call last)",
      "\u001b[1;32md:\\Learning-Material\\Python高级编程\\3.6 正则之边界.ipynb 单元格 9\u001b[0m line \u001b[0;36m1\n\u001b[0;32m      <a href='vscode-notebook-cell:/d%3A/Learning-Material/Python%E9%AB%98%E7%BA%A7%E7%BC%96%E7%A8%8B/3.6%20%E6%AD%A3%E5%88%99%E4%B9%8B%E8%BE%B9%E7%95%8C.ipynb#X12sZmlsZQ%3D%3D?line=4'>5</a>\u001b[0m \u001b[39mprint\u001b[39m(re\u001b[39m.\u001b[39mmatch(\u001b[39mr\u001b[39m\u001b[39m\"\u001b[39m\u001b[39m.*\u001b[39m\u001b[39m\\\u001b[39m\u001b[39mbver\u001b[39m\u001b[39m\\\u001b[39m\u001b[39mb\u001b[39m\u001b[39m\"\u001b[39m, \u001b[39m\"\u001b[39m\u001b[39mho ver abc\u001b[39m\u001b[39m\"\u001b[39m)\u001b[39m.\u001b[39mgroup())\n\u001b[0;32m      <a href='vscode-notebook-cell:/d%3A/Learning-Material/Python%E9%AB%98%E7%BA%A7%E7%BC%96%E7%A8%8B/3.6%20%E6%AD%A3%E5%88%99%E4%B9%8B%E8%BE%B9%E7%95%8C.ipynb#X12sZmlsZQ%3D%3D?line=5'>6</a>\u001b[0m \u001b[39m# 输出: 'ho ver'\u001b[39;00m\n\u001b[0;32m      <a href='vscode-notebook-cell:/d%3A/Learning-Material/Python%E9%AB%98%E7%BA%A7%E7%BC%96%E7%A8%8B/3.6%20%E6%AD%A3%E5%88%99%E4%B9%8B%E8%BE%B9%E7%95%8C.ipynb#X12sZmlsZQ%3D%3D?line=6'>7</a>\u001b[0m \n\u001b[0;32m      <a href='vscode-notebook-cell:/d%3A/Learning-Material/Python%E9%AB%98%E7%BA%A7%E7%BC%96%E7%A8%8B/3.6%20%E6%AD%A3%E5%88%99%E4%B9%8B%E8%BE%B9%E7%95%8C.ipynb#X12sZmlsZQ%3D%3D?line=7'>8</a>\u001b[0m \u001b[39m# bver开头结尾的单词，但是这里单词为 verabc 不符合筛选错误\u001b[39;00m\n\u001b[1;32m   (...)\u001b[0m\n\u001b[0;32m     <a href='vscode-notebook-cell:/d%3A/Learning-Material/Python%E9%AB%98%E7%BA%A7%E7%BC%96%E7%A8%8B/3.6%20%E6%AD%A3%E5%88%99%E4%B9%8B%E8%BE%B9%E7%95%8C.ipynb#X12sZmlsZQ%3D%3D?line=10'>11</a>\u001b[0m \n\u001b[0;32m     <a href='vscode-notebook-cell:/d%3A/Learning-Material/Python%E9%AB%98%E7%BA%A7%E7%BC%96%E7%A8%8B/3.6%20%E6%AD%A3%E5%88%99%E4%B9%8B%E8%BE%B9%E7%95%8C.ipynb#X12sZmlsZQ%3D%3D?line=11'>12</a>\u001b[0m \u001b[39m# bver开头结尾的单词，但是这里单词为 hover 不符合筛选错误\u001b[39;00m\n\u001b[1;32m---> <a href='vscode-notebook-cell:/d%3A/Learning-Material/Python%E9%AB%98%E7%BA%A7%E7%BC%96%E7%A8%8B/3.6%20%E6%AD%A3%E5%88%99%E4%B9%8B%E8%BE%B9%E7%95%8C.ipynb#X12sZmlsZQ%3D%3D?line=12'>13</a>\u001b[0m \u001b[39mprint\u001b[39m(re\u001b[39m.\u001b[39;49mmatch(\u001b[39mr\u001b[39;49m\u001b[39m\"\u001b[39;49m\u001b[39m.*\u001b[39;49m\u001b[39m\\\u001b[39;49m\u001b[39mbver\u001b[39;49m\u001b[39m\\\u001b[39;49m\u001b[39mb\u001b[39;49m\u001b[39m\"\u001b[39;49m, \u001b[39m\"\u001b[39;49m\u001b[39mhover abc\u001b[39;49m\u001b[39m\"\u001b[39;49m)\u001b[39m.\u001b[39;49mgroup())\n\u001b[0;32m     <a href='vscode-notebook-cell:/d%3A/Learning-Material/Python%E9%AB%98%E7%BA%A7%E7%BC%96%E7%A8%8B/3.6%20%E6%AD%A3%E5%88%99%E4%B9%8B%E8%BE%B9%E7%95%8C.ipynb#X12sZmlsZQ%3D%3D?line=13'>14</a>\u001b[0m \u001b[39m# 输出: \u001b[39;00m\n",
      "\u001b[1;31mAttributeError\u001b[0m: 'NoneType' object has no attribute 'group'"
     ]
    }
   ],
   "source": [
    "# 导入模块\n",
    "import re\n",
    "\n",
    "# 匹配 bver开头结尾的单词，当然这里面在字符前面还包含了 '.*'号  .*将任何字符（换行符除外）匹配零次或多次\n",
    "print(re.match(r\".*\\bver\\b\", \"ho ver abc\").group())\n",
    "# 输出: 'ho ver'\n",
    "\n",
    "# bver开头结尾的单词，但是这里单词为 verabc 不符合筛选错误\n",
    "print(re.match(r\".*\\bver\\b\", \"ho verabc\").group())\n",
    "# 输出:  AttributeError: 'NoneType' object has no attribute 'group'\n",
    "\n",
    "# bver开头结尾的单词，但是这里单词为 hover 不符合筛选错误\n",
    "print(re.match(r\".*\\bver\\b\", \"hover abc\").group())\n",
    "# 输出:  AttributeError: 'NoneType' object has no attribute 'group'"
   ]
  },
  {
   "cell_type": "code",
   "execution_count": 22,
   "metadata": {},
   "outputs": [
    {
     "name": "stdout",
     "output_type": "stream",
     "text": [
      "I love TiWaTe\n",
      "No match found\n"
     ]
    }
   ],
   "source": [
    "import re\n",
    "\n",
    "print(re.search(r'.*\\bTiWaTe\\b', 'I love TiWaTe too').group())\n",
    "# 输出: I love TiWaTe\n",
    "\n",
    "result = re.search(r'.*\\bTiWaTe\\b', 'I love TiWaTedalu too')\n",
    "\n",
    "if result:\n",
    "    print(result.group())\n",
    "else:\n",
    "    print(\"No match found\")\n"
   ]
  },
  {
   "cell_type": "markdown",
   "metadata": {},
   "source": [
    "### '\\B' 用法\n"
   ]
  },
  {
   "cell_type": "code",
   "execution_count": 27,
   "metadata": {},
   "outputs": [
    {
     "name": "stdout",
     "output_type": "stream",
     "text": [
      "hover\n"
     ]
    }
   ],
   "source": [
    "# '\\B' 用法\n",
    "# 导包\n",
    "import re\n",
    "\n",
    "# 相同的内容，使用\\B进行取反操作， 匹配 ver 非包含开头结尾的单词，当然这里面在字符前面还包含了 '.*'号\n",
    "# 如果未加'.*'号也会报错，注意思路取值是筛选单词与边界相关。\n",
    "print(re.match(r\".*\\Bver\\B\", \"hoverabc\").group())\n",
    "# 输出 : hover\n",
    "\n",
    "# print(re.match(r\".*\\Bver\\B\", \"ho verabc\").group())\n",
    "# 输出 : AttributeError: 'NoneType' object has no attribute 'group'\n",
    "\n",
    "# 相同的内容，使用\\B进行取反操作， 匹配 ver 开头结尾的单词\n",
    "# print( re.match(r\".*\\Bver\\B\", \"hover abc\").group())\n",
    "# 输出 : AttributeError: 'NoneType' object has no attribute 'group'\n",
    "\n",
    "# 相同的内容，使用\\B进行取反操作， 匹配 ver 开头结尾的单词\n",
    "# print(re.match(r\".*\\Bver\\B\", \"ho ver abc\").group())\n",
    "# 输出: AttributeError: 'NoneType' object has no attribute 'group'\n"
   ]
  },
  {
   "cell_type": "code",
   "execution_count": 28,
   "metadata": {},
   "outputs": [
    {
     "name": "stdout",
     "output_type": "stream",
     "text": [
      "['word']\n",
      "[]\n"
     ]
    }
   ],
   "source": [
    "import re\n",
    "\n",
    "text = \"password word wordsmith\"\n",
    "\n",
    "# Using \\b to match whole words\n",
    "print(re.findall(r'\\bword\\b', text))  # Output: ['word']\n",
    "\n",
    "# Using \\B to match 'word' within another word\n",
    "print(re.findall(r'\\Bword\\B', text))  # Output: []\n"
   ]
  }
 ],
 "metadata": {
  "kernelspec": {
   "display_name": "venv",
   "language": "python",
   "name": "python3"
  },
  "language_info": {
   "codemirror_mode": {
    "name": "ipython",
    "version": 3
   },
   "file_extension": ".py",
   "mimetype": "text/x-python",
   "name": "python",
   "nbconvert_exporter": "python",
   "pygments_lexer": "ipython3",
   "version": "3.9.13"
  }
 },
 "nbformat": 4,
 "nbformat_minor": 2
}
