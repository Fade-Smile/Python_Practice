{
 "cells": [
  {
   "cell_type": "markdown",
   "metadata": {},
   "source": [
    "### map() 函数: \n",
    "把一个可迭代对象中的每个元素转换成一个新的对象，最后返回一个新的可送代对象\n",
    "\n",
    "**map(function, iterable, ...)**\n",
    "\n",
    "    函数（Function）: 这是map()函数的第一个参数，用于指定对每个元素执行的操作。\n",
    "    这个函数可以是预定义的函数、匿名函数或函数引用。\n",
    "    在每次迭代时，map()都会将这个函数应用于迭代的当前元素，并将结果存储到新的迭代器中。\n",
    "\n",
    "    可迭代对象（Iterable）: 这是map()函数的第二个参数，代表要进行映射操作的可迭代对象，比如列表、数组、集合等。\n",
    "    map()会对这个可迭代对象中的每个元素依次应用指定的函数。\n"
   ]
  },
  {
   "cell_type": "code",
   "execution_count": 10,
   "metadata": {},
   "outputs": [
    {
     "name": "stdout",
     "output_type": "stream",
     "text": [
      "[1, 4, 9, 16, 25]\n"
     ]
    }
   ],
   "source": [
    "lst1 = [1, 2, 3, 4, 5]\n",
    "\n",
    "lst = map(lambda x:x**2, lst1)  # x 是列表中的每个元素\n",
    "# print(next(lst))\n",
    "# print(next(lst))\n",
    "# print(next(lst))\n",
    "# print(next(lst))\n",
    "\n",
    "print(list(lst))  # 把迭代器转换成新的列表"
   ]
  },
  {
   "cell_type": "markdown",
   "metadata": {},
   "source": [
    "### reduce() 函数\n",
    "\n",
    "<pre>\n",
    "把一个可迭代对象中每个元素做聚会处理, 最后返回一个聚合之后的值\n",
    "这个函数可以执行各种操作，比如求和、求乘积、查找最大/最小值等。\n",
    "\n",
    "<strong>\n",
    "from functools import reduce\n",
    "\n",
    "result = reduce(function, sequence[, initial])\n",
    "</strong>\n",
    "\n",
    "    function:一个有两个参数的函数\n",
    "    sequence:是一个序列，是一些数据的集合，或者是一组数据，可迭代对象\n",
    "    initial：可选，初始参数\n",
    "    返回值：返回函数计算的结果\n",
    "    \n",
    "reduce()函数,使用function函数（有两个参数）先对集合中的sequence第 1、2 个元素进行操作，如果存在\n",
    "initial参数，则将会以sequence中的第一个元素和initial作为参数，用作调用，\n",
    "得到的结果再与sequence中的下一个数据用 function 函数运算，最后得到一个结果。\n",
    "</pre>"
   ]
  },
  {
   "cell_type": "code",
   "execution_count": 13,
   "metadata": {},
   "outputs": [
    {
     "name": "stdout",
     "output_type": "stream",
     "text": [
      "402\n",
      "98\n"
     ]
    }
   ],
   "source": [
    "from functools import reduce\n",
    "\n",
    "lst2 = [1,2,3,4,5, 10, 50, 60, 30, 98, 66, 52, 10, 4, 7]\n",
    "print(reduce(lambda a,b : a+b, lst2)) # 累加的需求\n",
    "\n",
    "print(reduce(lambda a,b : a if a > b else b, lst2)) # 获取当前列表的最大值\n"
   ]
  },
  {
   "cell_type": "code",
   "execution_count": 14,
   "metadata": {},
   "outputs": [
    {
     "name": "stdout",
     "output_type": "stream",
     "text": [
      "98\n"
     ]
    }
   ],
   "source": [
    "def getMax(x,y):\n",
    "    if x>y:\n",
    "        return x\n",
    "    else:\n",
    "        return y\n",
    "\n",
    "print(reduce(getMax, lst2))"
   ]
  },
  {
   "cell_type": "markdown",
   "metadata": {},
   "source": [
    "### filter函数\n",
    "\n",
    "<pre>\n",
    "把一个可迭代对象中的元素做过滤操作，如果func返回值为rue 则留下。否则过滤掉\n",
    "<strong>\n",
    "filter(function, iterable)\n",
    "</strong>\n",
    "function：判断函数。\n",
    "iterable：序列，（可迭代对象）。\n",
    "返回值：返回列表\n",
    "\n",
    "filter函数，序列（可迭代对象）的每个元素作为参数传递给函数进行判断，然后返回 True 或 False，最后将返\n",
    "回 True 的元素放到新列表中\n",
    "\n",
    "</pre>"
   ]
  },
  {
   "cell_type": "code",
   "execution_count": 17,
   "metadata": {},
   "outputs": [
    {
     "name": "stdout",
     "output_type": "stream",
     "text": [
      "<filter object at 0x00000210E0B8B0D0>\n",
      "[{'name': 'Billy', 'age': 27, 'salary': 8000}, {'name': 'Frank', 'age': 20, 'salary': 7000}, {'name': 'Alex', 'age': 22, 'salary': 3600}]\n"
     ]
    }
   ],
   "source": [
    "emps = [\n",
    "    {'name': 'Todd', 'age': 19, 'salary': 3000},\n",
    "    {'name': 'Margo', 'age': 18, 'salary': 5000},\n",
    "    {'name': 'Billy', 'age': 27, 'salary': 8000},\n",
    "    {'name': 'Frank', 'age': 20, 'salary': 7000},\n",
    "    {'name': 'Ivan', 'age': 19, 'salary': 2500},\n",
    "    {'name': 'Alex', 'age': 22, 'salary': 3600},\n",
    "    {'name': 'Tom', 'age': 19, 'salary': 4800}\n",
    "]\n",
    "\n",
    "# 需求： 过滤留下大于20岁的员工， 返回一个迭代器\n",
    "print(filter(lambda x:x['age']>=20, emps))\n",
    "print(list(filter(lambda x:x['age']>=20, emps)))\n"
   ]
  },
  {
   "cell_type": "markdown",
   "metadata": {},
   "source": [
    "### max 和 min 函数\n",
    "\n",
    "\n",
    "在 Python 中，`max()` 和 `min()` 是两个内置函数，分别用于获取可迭代对象（如列表、元组等）中的最大值和最小值。\n",
    "<pre>\n",
    "<strong>\n",
    "max/min(iterable, *iterables[, key, default])\n",
    "</strong>\n",
    "\n",
    "- `iterable`：这是一个可迭代对象，可以是列表、元组、集合等。\n",
    "- `*iterables`：这是可选的，可以传递多个可迭代对象。\n",
    "- `key`：这是一个可选的参数，用于指定一个函数，用于生成比较所需的键值。\n",
    "- `default`：这也是一个可选的参数，用于指定在没有找到最大值时返回的默认值。如果不提供，默认情况下会抛出 `ValueError`。\n",
    "\n",
    "\n",
    "这两个函数对于在一个集合中查找最大值或最小值非常有用，可以帮助简化代码并找到所需的结果。在使用时，需要根据具体的需求来选择是对单个可迭代对象还是多个可迭代对象使用，同时也可以通过指定 `key` 函数来定制比较规则。\n",
    "</pre>"
   ]
  },
  {
   "cell_type": "code",
   "execution_count": 20,
   "metadata": {},
   "outputs": [
    {
     "name": "stdout",
     "output_type": "stream",
     "text": [
      "{'name': 'Billy', 'age': 27, 'salary': 8000}\n",
      "{'name': 'Ivan', 'age': 19, 'salary': 2500}\n"
     ]
    }
   ],
   "source": [
    "print(max(emps, key=lambda x: x['salary']))\n",
    "print(min(emps, key=lambda x: x['salary']))"
   ]
  },
  {
   "cell_type": "markdown",
   "metadata": {},
   "source": [
    "### sorted 函数\n",
    "\n",
    "把一个可送代对象里面的每个元素做排序，返回一个列表"
   ]
  },
  {
   "cell_type": "code",
   "execution_count": 22,
   "metadata": {},
   "outputs": [
    {
     "data": {
      "text/plain": [
       "[{'name': 'Billy', 'age': 27, 'salary': 8000},\n",
       " {'name': 'Alex', 'age': 22, 'salary': 3600},\n",
       " {'name': 'Frank', 'age': 20, 'salary': 7000},\n",
       " {'name': 'Todd', 'age': 19, 'salary': 3000},\n",
       " {'name': 'Ivan', 'age': 19, 'salary': 2500},\n",
       " {'name': 'Tom', 'age': 19, 'salary': 4800},\n",
       " {'name': 'Margo', 'age': 18, 'salary': 5000}]"
      ]
     },
     "execution_count": 22,
     "metadata": {},
     "output_type": "execute_result"
    }
   ],
   "source": [
    "# 根据员工的年龄降序排序\n",
    "emps = [\n",
    "    {'name': 'Todd', 'age': 19, 'salary': 3000},\n",
    "    {'name': 'Margo', 'age': 18, 'salary': 5000},\n",
    "    {'name': 'Billy', 'age': 27, 'salary': 8000},\n",
    "    {'name': 'Frank', 'age': 20, 'salary': 7000},\n",
    "    {'name': 'Ivan', 'age': 19, 'salary': 2500},\n",
    "    {'name': 'Alex', 'age': 22, 'salary': 3600},\n",
    "    {'name': 'Tom', 'age': 19, 'salary': 4800}\n",
    "]\n",
    "\n",
    "sorted(emps, key=lambda x: x['age'], reverse=True)"
   ]
  }
 ],
 "metadata": {
  "kernelspec": {
   "display_name": "venv",
   "language": "python",
   "name": "python3"
  },
  "language_info": {
   "codemirror_mode": {
    "name": "ipython",
    "version": 3
   },
   "file_extension": ".py",
   "mimetype": "text/x-python",
   "name": "python",
   "nbconvert_exporter": "python",
   "pygments_lexer": "ipython3",
   "version": "3.9.13"
  }
 },
 "nbformat": 4,
 "nbformat_minor": 2
}
