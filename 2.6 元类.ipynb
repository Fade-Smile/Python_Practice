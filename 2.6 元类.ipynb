{
 "cells": [
  {
   "cell_type": "markdown",
   "metadata": {},
   "source": [
    "### 元类(Meta Class)"
   ]
  },
  {
   "cell_type": "code",
   "execution_count": 1,
   "metadata": {},
   "outputs": [
    {
     "name": "stdout",
     "output_type": "stream",
     "text": [
      "10\n",
      "Hello\n"
     ]
    }
   ],
   "source": [
    "class PrefixMeta(type):\n",
    "    def __new__(cls, name, bases, dct):\n",
    "        # 遍历类的属性并添加前缀\n",
    "        prefixed_dict = {f\"prefixed_{key}\": value for key, value in dct.items() if not key.startswith('__')}\n",
    "        return super().__new__(cls, name, bases, prefixed_dict)\n",
    "\n",
    "class MyClass(metaclass=PrefixMeta):\n",
    "    var1 = 10\n",
    "    var2 = \"Hello\"\n",
    "\n",
    "# 创建 MyClass 类的实例\n",
    "obj = MyClass()\n",
    "print(obj.prefixed_var1)  # 输出: 10\n",
    "print(obj.prefixed_var2)  # 输出: Hello"
   ]
  },
  {
   "cell_type": "code",
   "execution_count": 3,
   "metadata": {},
   "outputs": [],
   "source": [
    "class Hello(object):\n",
    "    def hello(self, name='world'):\n",
    "        print(f'Hello, {name}')"
   ]
  }
 ],
 "metadata": {
  "kernelspec": {
   "display_name": "venv",
   "language": "python",
   "name": "python3"
  },
  "language_info": {
   "codemirror_mode": {
    "name": "ipython",
    "version": 3
   },
   "file_extension": ".py",
   "mimetype": "text/x-python",
   "name": "python",
   "nbconvert_exporter": "python",
   "pygments_lexer": "ipython3",
   "version": "3.9.13"
  }
 },
 "nbformat": 4,
 "nbformat_minor": 2
}
