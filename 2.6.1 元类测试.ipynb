{
 "cells": [
  {
   "cell_type": "markdown",
   "metadata": {},
   "source": [
    "### 获取当前文件路劲"
   ]
  },
  {
   "cell_type": "code",
   "execution_count": 1,
   "metadata": {},
   "outputs": [
    {
     "name": "stdout",
     "output_type": "stream",
     "text": [
      "d:\\Learning-Material\\Python高级编程\\2.6.1 元类测试.ipynb\n"
     ]
    }
   ],
   "source": [
    "import os\n",
    "\n",
    "notebook_filename = \"2.6.1 元类测试.ipynb\"  # 将文件名替换为实际的.ipynb文件名\n",
    "current_directory = os.getcwd()  # 获取当前工作目录\n",
    "notebook_path = os.path.join(current_directory, notebook_filename)\n",
    "\n",
    "print(notebook_path)\n"
   ]
  },
  {
   "cell_type": "code",
   "execution_count": 2,
   "metadata": {},
   "outputs": [
    {
     "name": "stdout",
     "output_type": "stream",
     "text": [
      "当前文件路径: d:\\Learning-Material\\pythonPractice\\venv\\lib\\site-packages\\ipykernel_launcher.py\n",
      "当前文件路径: C:\\Users\\Rainbow\\AppData\\Local\\Temp\\ipykernel_21332\\1583056250.py\n"
     ]
    }
   ],
   "source": [
    "import os\n",
    "import sys\n",
    "import inspect\n",
    "\n",
    "# 方法1：使用 sys.argv[0]\n",
    "current_file_path = os.path.abspath(sys.argv[0])\n",
    "print(\"当前文件路径:\", current_file_path)\n",
    "\n",
    "# 方法2：使用 inspect 模块\n",
    "current_file_path = os.path.abspath(inspect.getfile(inspect.currentframe()))\n",
    "print(\"当前文件路径:\", current_file_path)\n"
   ]
  },
  {
   "cell_type": "markdown",
   "metadata": {},
   "source": [
    "### 第一种: 正常的类导入"
   ]
  },
  {
   "cell_type": "code",
   "execution_count": 3,
   "metadata": {},
   "outputs": [
    {
     "name": "stdout",
     "output_type": "stream",
     "text": [
      "Hello, world\n",
      "<class '元类.Hello'>\n",
      "<class 'type'>\n"
     ]
    }
   ],
   "source": [
    "from 元类 import Hello\n",
    "# from 引入模块之后，则动态的创建了一个Hello类, 本质上 python解释器自动调用了 type() 来创建一个Person类\n",
    "\n",
    "h = Hello() # 创建一个Hello类的实例\n",
    "h.hello() # 调用实例方法\n",
    "\n",
    "print(type(h)) # 把实例 h 的类型打印出来\n",
    "\n",
    "print(type(Hello)) # Hello 类的类型打印\n",
    "\n",
    "# type()函数，使用用于创建关的函数\n"
   ]
  },
  {
   "cell_type": "code",
   "execution_count": 4,
   "metadata": {},
   "outputs": [
    {
     "name": "stdout",
     "output_type": "stream",
     "text": [
      "我说: hello\n",
      "<class '元类.Person'>\n",
      "<class 'type'>\n"
     ]
    }
   ],
   "source": [
    "from 元类 import Person\n",
    "# from 引入模块之后，则动态的创建了一个Person类\n",
    "\n",
    "p = Person() # 创建一个Person类的实例\n",
    "p.say('hello') # 调用实例方法\n",
    "\n",
    "print(type(p)) # 把实例 p 的类型打印出来\n",
    "\n",
    "print(type(Person)) # Person 类的类型打印\n",
    "\n",
    "# type()函数，使用用于创建关的函数\n"
   ]
  },
  {
   "cell_type": "markdown",
   "metadata": {},
   "source": [
    "### 第二种： 使用 type() 函数来创建 带有 say 函数的Person类"
   ]
  },
  {
   "cell_type": "code",
   "execution_count": 5,
   "metadata": {},
   "outputs": [
    {
     "name": "stdout",
     "output_type": "stream",
     "text": [
      "我说: hello\n",
      "<class '__main__.Person'>\n",
      "<class 'type'>\n"
     ]
    }
   ],
   "source": [
    "# 用 type()元类来创建 带有 say 函数的Person类\n",
    "def func(self, words='hello'):\n",
    "    print('我说: %s'%words)\n",
    "\n",
    "Person = type('Person', (object,), dict(say=func))\n",
    "\n",
    "p = Person() # 创建一个Person类的实例\n",
    "p.say('hello') # 调用实例方法\n",
    "\n",
    "print(type(p)) # 把实例 p 的类型打印出来\n",
    "\n",
    "print(type(Person)) # Person 类的类型打印\n",
    "\n",
    "# type()函数，使用用于创建关的函数\n"
   ]
  },
  {
   "cell_type": "markdown",
   "metadata": {},
   "source": [
    "### 第三种: 使用一个元类(metaclass) 来创建一个Person 类"
   ]
  },
  {
   "cell_type": "code",
   "execution_count": 6,
   "metadata": {},
   "outputs": [
    {
     "name": "stdout",
     "output_type": "stream",
     "text": [
      "我说: hello\n",
      "<class '__main__.Person'>\n",
      "<class '__main__.PersonMetaclass'>\n"
     ]
    }
   ],
   "source": [
    "\n",
    "class PersonMetaclass(type): # 所有的元类 都都继承自type\n",
    "    def __new__(cls, name, bases, attrs): # cls 当前元类\n",
    "        def func(self, words='hello'):\n",
    "            print('我说: %s'%words)\n",
    "        attrs['say'] = func\n",
    "        return type.__new__(cls, name, bases, attrs)\n",
    "    \n",
    "\n",
    "# 根据上面的元类， 创建一个Person类， (首先需要一个模具， 然后再生产产品)\n",
    "class Person(object, metaclass=PersonMetaclass): # 创建一个Person类的实例\n",
    "    pass\n",
    "\n",
    "\n",
    "\n",
    "p = Person() # 创建一个Person类的实例\n",
    "p.say('hello') # 调用实例方法\n",
    "\n",
    "print(type(p)) # 把实例 p 的类型打印出来\n",
    "\n",
    "print(type(Person)) # Person 类的类型打印， 本质上就是打印 创建了Person类的元类\n"
   ]
  },
  {
   "cell_type": "code",
   "execution_count": 17,
   "metadata": {},
   "outputs": [
    {
     "name": "stdout",
     "output_type": "stream",
     "text": [
      "<class 'type'>\n",
      "<class 'type'>\n",
      "<class 'type'>\n",
      "<class 'type'>\n",
      "\n",
      "<class 'int'>\n",
      "<class 'str'>\n",
      "<class 'float'>\n",
      "<class 'bool'>\n",
      "<class '__main__.bar'>\n"
     ]
    }
   ],
   "source": [
    "print(int.__class__)\n",
    "print(str.__class__)\n",
    "print(float.__class__)\n",
    "print(bool.__class__)\n",
    "\n",
    "\n",
    "print()\n",
    "\n",
    "a = 19\n",
    "print(a.__class__) # 打印 a 变量的类型\n",
    "\n",
    "b = 'hello'\n",
    "print(b.__class__) # 打印 b 变量的类型\n",
    "\n",
    "c = 3.14\n",
    "print(c.__class__) # 打印 c 变量的类型\n",
    "\n",
    "d = True\n",
    "print(d.__class__) # 打印 d 变量的类型\n",
    "\n",
    "\n",
    "class bar(object):\n",
    "    pass\n",
    "e =  bar()\n",
    "print(e.__class__) # 打印 e 变量的类型"
   ]
  }
 ],
 "metadata": {
  "kernelspec": {
   "display_name": "venv",
   "language": "python",
   "name": "python3"
  },
  "language_info": {
   "codemirror_mode": {
    "name": "ipython",
    "version": 3
   },
   "file_extension": ".py",
   "mimetype": "text/x-python",
   "name": "python",
   "nbconvert_exporter": "python",
   "pygments_lexer": "ipython3",
   "version": "3.9.13"
  }
 },
 "nbformat": 4,
 "nbformat_minor": 2
}
