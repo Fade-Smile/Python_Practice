{
 "cells": [
  {
   "cell_type": "markdown",
   "metadata": {},
   "source": [
    "### '*' 用法"
   ]
  },
  {
   "cell_type": "code",
   "execution_count": 5,
   "metadata": {},
   "outputs": [
    {
     "name": "stdout",
     "output_type": "stream",
     "text": [
      "Hello\n",
      "H\n",
      "G\n"
     ]
    }
   ],
   "source": [
    "#  '*' 用法\n",
    "import re \n",
    "\n",
    "# 需求 1: 匹配一个字符串第一个字母是大写，后面的字母必须是小写或者没有\n",
    "print(re.match('[A-Z][a-z]*', 'Hello').group())\n",
    "print(re.match('[A-Z][a-z]*', 'H').group())\n",
    "print(re.match('[A-Z][a-z]*', 'GHNji').group())\n",
    "\n"
   ]
  },
  {
   "cell_type": "markdown",
   "metadata": {},
   "source": [
    "### '+' 用法"
   ]
  },
  {
   "cell_type": "code",
   "execution_count": 11,
   "metadata": {},
   "outputs": [
    {
     "name": "stdout",
     "output_type": "stream",
     "text": [
      "<re.Match object; span=(0, 5), match='name1'>\n",
      "<re.Match object; span=(0, 6), match='_name1'>\n",
      "None\n"
     ]
    }
   ],
   "source": [
    "# '+' 用法\n",
    "import re\n",
    "\n",
    "# 需求 2: 匹配一个变量名\n",
    "\n",
    "# name1 合法的变量名\n",
    "print(re.match(r'[a-zA-Z]+[\\w]*', 'name1'))\n",
    "# 输出: <re.Match object; span=(0, 5), match='name1'>\n",
    "\n",
    "# _name1 合法的变量名\n",
    "print(re.match(r'[a-zA-Z_]+[\\w]*', '_name1'))\n",
    "# 输出: <re.Match object; span=(0, 6), match='_name1'>\n",
    "\n",
    "# 2_name1 不合法的变量名\n",
    "print(re.match(r'[a-zA-Z_]+[\\w]*', '2_name1'))\n",
    "# 输出: None"
   ]
  },
  {
   "cell_type": "markdown",
   "metadata": {},
   "source": [
    "### '?'的用法"
   ]
  },
  {
   "cell_type": "code",
   "execution_count": 13,
   "metadata": {},
   "outputs": [
    {
     "name": "stdout",
     "output_type": "stream",
     "text": [
      "<re.Match object; span=(0, 2), match='77'>\n",
      "<re.Match object; span=(0, 1), match='7'>\n",
      "<re.Match object; span=(0, 2), match='09'>\n",
      "<re.Match object; span=(0, 2), match='09'>\n"
     ]
    }
   ],
   "source": [
    "### '?'的用法\n",
    "\n",
    "import re \n",
    "\n",
    "# 需求 3； 匹配出0-99之间的任意数字, 可以 1 位， 也可以 2 位\n",
    "print(re.match('[0-9]?[0-9]', '77'))\n",
    "# 输出: <re.Match object; span=(0, 2), match='77'>\n",
    "\n",
    "print(re.match('[0-9]?[0-9]', '7'))\n",
    "# 输出: <re.Match object; span=(0, 1), match='7'>\n",
    "\n",
    "print(re.match('[0-9]?[0-9]', '09'))\n",
    "# 输出: <re.Match object; span=(0, 2), match='09'>\n",
    "\n",
    "print(re.match('[0-9]?[0-9]', '091'))\n",
    "# 输出: <re.Match object; span=(0, 2), match='09'>\n"
   ]
  },
  {
   "cell_type": "code",
   "execution_count": 35,
   "metadata": {},
   "outputs": [
    {
     "name": "stdout",
     "output_type": "stream",
     "text": [
      "['apple']\n",
      "pie, appple pie, apie\n",
      "pie\n"
     ]
    }
   ],
   "source": [
    "import re\n",
    "\n",
    "text = \"apple pie, appple pie, apie\"\n",
    "\n",
    "# 匹配 \"apple\" 后面的可选 \"s\"\n",
    "matches = re.findall(r'apples?', text)\n",
    "print(matches)  # Output: ['apple', 'apple']\n",
    "\n",
    "# 非贪婪匹配\n",
    "greedy_match = re.search(r'pi.*e', text)\n",
    "non_greedy_match = re.search(r'pi.*?e', text)\n",
    "\n",
    "print(greedy_match.group())  # Output: pie, appple pie, apie\n",
    "print(non_greedy_match.group())  # Output: pie\n"
   ]
  },
  {
   "cell_type": "markdown",
   "metadata": {},
   "source": [
    "### {m}, {m,}, {m,n} 的用法"
   ]
  },
  {
   "cell_type": "code",
   "execution_count": 21,
   "metadata": {},
   "outputs": [
    {
     "name": "stdout",
     "output_type": "stream",
     "text": [
      "<re.Match object; span=(0, 8), match='12345678'>\n",
      "None\n",
      "<re.Match object; span=(0, 9), match='_sd123489'>\n",
      "<re.Match object; span=(0, 6), match='123456'>\n"
     ]
    }
   ],
   "source": [
    "# {m}, {m,}, {m,n} 的用法\n",
    "\n",
    "import re\n",
    "\n",
    "# 需求 4: 匹配密码 (8-20位，可以是大小写的字母，数字，下划线)\n",
    "\n",
    "print(re.match(r'^[a-zA-Z0-9_]{8,20}', '12345678'))\n",
    "# 输出: <re.Match object; span=(0, 8), match='12345678'>\n",
    "\n",
    "print(re.match(r'^[a-zA-Z0-9_]{8,20}', '1234567'))\n",
    "# 输出: None\n",
    "\n",
    "print(re.match(r'^[a-zA-Z0-9_]{6,}', '_sd123489'))\n",
    "# 输出: <re.Match object; span=(0, 9), match='_sd123489'>\n",
    "\n",
    "print(re.match(r'^[a-zA-Z0-9_]{6}', '123456'))\n",
    "# 输出: <re.Match object; span=(0, 6), match='123456'>"
   ]
  },
  {
   "cell_type": "code",
   "execution_count": 36,
   "metadata": {},
   "outputs": [
    {
     "name": "stdout",
     "output_type": "stream",
     "text": [
      "Matches for {m}: ['abbbc']\n",
      "Matches for {m,}: ['abbbbc', 'abbc', 'abbbc']\n",
      "Matches for {m,n}: ['abbbbc', 'abbc', 'abbbc']\n"
     ]
    }
   ],
   "source": [
    "import re\n",
    "\n",
    "text = \"abbbbcd aabbccddd abc abbbc\"\n",
    "\n",
    "# 匹配连续出现 3 次 'b' 的字符串\n",
    "matches_m = re.findall(r'ab{3}c', text)\n",
    "print(\"Matches for {m}:\", matches_m)  # Output: ['abbbc']\n",
    "\n",
    "# 匹配至少出现 2 次 'b' 的字符串\n",
    "matches_m_1 = re.findall(r'ab{2,}c', text)\n",
    "print(\"Matches for {m,}:\", matches_m_1)  # Output: ['abbbbcd', 'abbbc']\n",
    "\n",
    "# 匹配出现 2 到 4 次 'b' 的字符串\n",
    "matches_m_n = re.findall(r'ab{2,4}c', text)\n",
    "print(\"Matches for {m,n}:\", matches_m_n)  # Output: ['abbbbcd', 'abbbc']\n"
   ]
  },
  {
   "cell_type": "markdown",
   "metadata": {},
   "source": [
    "### 练习: 邮箱匹配"
   ]
  },
  {
   "cell_type": "code",
   "execution_count": 34,
   "metadata": {},
   "outputs": [
    {
     "name": "stdout",
     "output_type": "stream",
     "text": [
      "<re.Match object; span=(1, 16), match='awhahlf@163.com'>\n",
      "awhahlf@163.com\n",
      "\n",
      "awhahlf@163.com\n",
      "afaaaaaaaaaaaaaaaa@163.com\n",
      "afafaf@163.com\n",
      "aaaa____@163.com\n"
     ]
    }
   ],
   "source": [
    "import re\n",
    "\n",
    "# 邮箱匹配: 匹配163的邮箱地址，用户名包含6~18 个字符，可以是宇母，数字，下划线，但是必须以字母开头\n",
    "\n",
    "tel = '''\n",
    "awhahlf@163.com\n",
    "affafafafaaaaaaaaaaaaaaaa@163.com\n",
    "afa_@163.com\n",
    "225afafaf@163.com\n",
    "aaaa____@qq.com\n",
    "aaaa____@163.com\n",
    "'''\n",
    "\n",
    "print(re.search('[a-zA-Z][\\w]{5,17}@163\\.com', tel))\n",
    "# 输出: <re.Match object; span=(1, 16), match='awhahlf@163.com'>\n",
    "\n",
    "print(re.search('[a-zA-Z][\\w]{5,17}@163\\.com', tel).group())\n",
    "print()\n",
    "\n",
    "pattern1 = r'\\b[A-Za-z0-9._%+-]+@[A-Za-z0-9.-]+\\.[A-Z|a-z]{2,}\\b'\n",
    "pattern2 = r'[a-zA-Z][\\w]{5,17}@163\\.com'\n",
    "matches = re.findall(pattern2, tel)\n",
    "for match in matches:\n",
    "    print(match)"
   ]
  }
 ],
 "metadata": {
  "kernelspec": {
   "display_name": "venv",
   "language": "python",
   "name": "python3"
  },
  "language_info": {
   "codemirror_mode": {
    "name": "ipython",
    "version": 3
   },
   "file_extension": ".py",
   "mimetype": "text/x-python",
   "name": "python",
   "nbconvert_exporter": "python",
   "pygments_lexer": "ipython3",
   "version": "3.9.13"
  }
 },
 "nbformat": 4,
 "nbformat_minor": 2
}
