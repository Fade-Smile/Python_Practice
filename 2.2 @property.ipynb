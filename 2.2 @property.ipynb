{
 "cells": [
  {
   "cell_type": "markdown",
   "metadata": {},
   "source": [
    "### @property"
   ]
  },
  {
   "cell_type": "code",
   "execution_count": 7,
   "metadata": {},
   "outputs": [
    {
     "name": "stdout",
     "output_type": "stream",
     "text": [
      "5\n",
      "10\n",
      "314.159\n"
     ]
    }
   ],
   "source": [
    "class Circle:\n",
    "    def __init__(self, radius):\n",
    "        self._radius = radius\n",
    "\n",
    "    @property\n",
    "    def radius(self):\n",
    "        return self._radius\n",
    "\n",
    "    @radius.setter\n",
    "    def radius(self, value):\n",
    "        if value <= 0:\n",
    "            raise ValueError(\"Radius must be positive\")\n",
    "        self._radius = value\n",
    "\n",
    "    @property\n",
    "    def area(self):\n",
    "        return 3.14159 * self._radius ** 2\n",
    "\n",
    "# 使用@property进行属性访问控制和计算\n",
    "circle = Circle(5)\n",
    "print(circle.radius)  # 访问属性\n",
    "# circle.area = 20  # 这会引发 AttributeError，因为 area 是只读属性\n",
    "circle.radius = 10  # 赋值属性\n",
    "print(circle.radius)  # 访问更新后的属性值\n",
    "print(circle.area)  # 计算新属性值"
   ]
  },
  {
   "cell_type": "code",
   "execution_count": 8,
   "metadata": {},
   "outputs": [
    {
     "name": "stdout",
     "output_type": "stream",
     "text": [
      "18\n",
      "张三\n"
     ]
    }
   ],
   "source": [
    "class Person_Property():\n",
    "    # age属性的值限制范围是0-88\n",
    "    @property # age 属性暴露出去\n",
    "    def age(self):\n",
    "        return self._age\n",
    "\n",
    "    @age.setter  # 当前age属性可以允许赋值\n",
    "    def age(self,age):\n",
    "        if (age>=0) & (age<=88):\n",
    "            self._age = age\n",
    "        else:\n",
    "            # print('age值在（0-88）')\n",
    "            self._age = 0  # 0 为初始值\n",
    "            raise ValueError('age值在(0-88)之间')\n",
    "        \n",
    "    @property # name属性暴露出去\n",
    "    def name(self):\n",
    "        self._name = '张三'\n",
    "        return self._name\n",
    "    \n",
    "           \n",
    "\n",
    "if __name__ == '__main__':\n",
    "    p = Person_Property()\n",
    "    p.age = 18\n",
    "    print(p.age)  # age 属性可读可赋值\n",
    "\n",
    "    # p.name = '李四'\n",
    "    print(p.name)  # name 属性是只读的"
   ]
  }
 ],
 "metadata": {
  "kernelspec": {
   "display_name": "venv",
   "language": "python",
   "name": "python3"
  },
  "language_info": {
   "codemirror_mode": {
    "name": "ipython",
    "version": 3
   },
   "file_extension": ".py",
   "mimetype": "text/x-python",
   "name": "python",
   "nbconvert_exporter": "python",
   "pygments_lexer": "ipython3",
   "version": "3.9.13"
  }
 },
 "nbformat": 4,
 "nbformat_minor": 2
}
