{
 "cells": [
  {
   "cell_type": "markdown",
   "metadata": {},
   "source": [
    "### 对象池\n",
    "\n",
    "概述 整数在程序中的使用非常广泛，Python为了优化速度，使用了<strong> 小整数 </strong> 对象池,避免为整数频繁申请和销毁内存空间。Python 对小整数的定义是[-5,256],这些整数对象是提前建立好的，不会被垃圾回收。在一个 Python 的程序中，无论这个整数处于LEGB(局部变量，闭包，全局，内建模块)中的哪个位置，所有位于这个范围内的整数使用的都是同一个对象。"
   ]
  },
  {
   "cell_type": "code",
   "execution_count": 2,
   "metadata": {},
   "outputs": [
    {
     "name": "stdout",
     "output_type": "stream",
     "text": [
      "2885884273296\n",
      "2885884273296\n",
      "2885967269008\n",
      "2885967269040\n"
     ]
    }
   ],
   "source": [
    "a = 200\n",
    "b = 200\n",
    "\n",
    "print(id(a))\n",
    "print(id(b))\n",
    "\n",
    "\n",
    "c = 257\n",
    "d = 257\n",
    "print(id(c))\n",
    "print(id(d))    "
   ]
  },
  {
   "cell_type": "markdown",
   "metadata": {},
   "source": [
    "### intern 机制\n",
    "\n",
    "每个单词(字符串)，不夹杂空格或者其他符号，默认开启intern机制，共享内存，靠引用计数决定是否销毁"
   ]
  },
  {
   "cell_type": "code",
   "execution_count": 6,
   "metadata": {},
   "outputs": [
    {
     "name": "stdout",
     "output_type": "stream",
     "text": [
      "2885967218160\n",
      "2885967218160\n",
      "True\n",
      "2885967454960\n",
      "2885967455536\n",
      "False\n"
     ]
    }
   ],
   "source": [
    "a = 'HelloWorld'\n",
    "b = 'HelloWorld'\n",
    "print(id(a))\n",
    "print(id(b))\n",
    "print(a is b)\n",
    "\n",
    "a = 'Hello World'\n",
    "b = 'Hello World'\n",
    "print(id(a))\n",
    "print(id(b))\n",
    "print(a is b)\n",
    "\n"
   ]
  }
 ],
 "metadata": {
  "kernelspec": {
   "display_name": "venv",
   "language": "python",
   "name": "python3"
  },
  "language_info": {
   "codemirror_mode": {
    "name": "ipython",
    "version": 3
   },
   "file_extension": ".py",
   "mimetype": "text/x-python",
   "name": "python",
   "nbconvert_exporter": "python",
   "pygments_lexer": "ipython3",
   "version": "3.9.13"
  }
 },
 "nbformat": 4,
 "nbformat_minor": 2
}
