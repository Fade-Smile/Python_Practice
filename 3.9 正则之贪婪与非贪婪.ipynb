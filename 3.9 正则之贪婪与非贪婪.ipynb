{
 "cells": [
  {
   "cell_type": "markdown",
   "metadata": {},
   "source": [
    "### 正则之贪婪与非贪婪模式"
   ]
  },
  {
   "cell_type": "code",
   "execution_count": 1,
   "metadata": {},
   "outputs": [
    {
     "name": "stdout",
     "output_type": "stream",
     "text": [
      "贪婪模式匹配结果: <html><title>My Title</title></html>\n",
      "非贪婪模式匹配结果: <html>\n"
     ]
    }
   ],
   "source": [
    "import re\n",
    "\n",
    "text = \"<html><title>My Title</title></html>\"\n",
    "\n",
    "# 贪婪匹配\n",
    "pattern_greedy = re.compile(r'<.*>')\n",
    "result_greedy = pattern_greedy.search(text)\n",
    "print(\"贪婪模式匹配结果:\", result_greedy.group())  # 输出: \"<html><title>My Title</title></html>\"\n",
    "\n",
    "# 非贪婪匹配\n",
    "pattern_non_greedy = re.compile(r'<.*?>')\n",
    "result_non_greedy = pattern_non_greedy.search(text)\n",
    "print(\"非贪婪模式匹配结果:\", result_non_greedy.group())  # 输出: \"<html>\"\n"
   ]
  },
  {
   "cell_type": "code",
   "execution_count": 2,
   "metadata": {},
   "outputs": [
    {
     "name": "stdout",
     "output_type": "stream",
     "text": [
      "This is my tel:13, 3-1234-1234\n",
      "This is my tel:, 133-1234-1234\n"
     ]
    }
   ],
   "source": [
    "# 贪婪模式，.+中的'.'会尽量多的匹配\n",
    "import re\n",
    "# 我们需要的结果中相比，符合规范，在限定类型数据是，我们会将特定需要的一些字符做一些匹配，\n",
    "\n",
    "# 例如下面的更好的是将电话与描述之间进行分割筛选，我们存在使用（）进行了两组分组，但实际匹配没变，知识理清规则\n",
    "ret = re.match(r'(.+)(\\d+-\\d+-\\d+)','This is my tel:133-1234-1234')\n",
    "print(f'{ret.group(1)}, {ret.group(2)}')\n",
    "# 输出： This is my tel:13, 3-1234-1234\n",
    "\n",
    "\n",
    "# 这里我们通过？进行将贪婪转换成非贪婪模式\n",
    "ret = re.match(r'(.+?)(\\d+-\\d+-\\d+)','This is my tel:133-1234-1234')\n",
    "print(f'{ret.group(1)}, {ret.group(2)}')\n",
    "# 输出： This is my tel, 133-1234-1234\n",
    "\n"
   ]
  }
 ],
 "metadata": {
  "kernelspec": {
   "display_name": "venv",
   "language": "python",
   "name": "python3"
  },
  "language_info": {
   "codemirror_mode": {
    "name": "ipython",
    "version": 3
   },
   "file_extension": ".py",
   "mimetype": "text/x-python",
   "name": "python",
   "nbconvert_exporter": "python",
   "pygments_lexer": "ipython3",
   "version": "3.9.13"
  }
 },
 "nbformat": 4,
 "nbformat_minor": 2
}
