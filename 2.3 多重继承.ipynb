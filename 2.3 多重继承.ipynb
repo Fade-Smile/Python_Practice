{
 "cells": [
  {
   "cell_type": "markdown",
   "metadata": {},
   "source": [
    "### 多重继承"
   ]
  },
  {
   "cell_type": "code",
   "execution_count": 1,
   "metadata": {},
   "outputs": [
    {
     "name": "stdout",
     "output_type": "stream",
     "text": [
      "(<class '__main__.D'>, <class '__main__.B'>, <class '__main__.C'>, <class '__main__.A'>, <class 'object'>)\n"
     ]
    }
   ],
   "source": [
    "class A:\n",
    "    pass\n",
    "\n",
    "class B(A):\n",
    "    pass\n",
    "\n",
    "class C(A):\n",
    "    pass\n",
    "\n",
    "class D(B, C):\n",
    "    pass\n",
    "\n",
    "print(D.__mro__)  # 或者 print(D.mro())"
   ]
  },
  {
   "cell_type": "code",
   "execution_count": 3,
   "metadata": {},
   "outputs": [
    {
     "name": "stdout",
     "output_type": "stream",
     "text": [
      "父亲在工作\n",
      "(<class '__main__.Son'>, <class '__main__.Father'>, <class '__main__.Mother'>, <class 'object'>)\n",
      "[<class '__main__.Son'>, <class '__main__.Father'>, <class '__main__.Mother'>, <class 'object'>]\n"
     ]
    }
   ],
   "source": [
    "class Father(object):\n",
    "    def work(self):\n",
    "        print(\"父亲在工作\")\n",
    "\n",
    "class Mother(object):\n",
    "    def work(self):\n",
    "        print(\"母亲在工作\")\n",
    "\n",
    "\n",
    "class Son(Father, Mother):  # 多继承\n",
    "    def __init__(self, xname):\n",
    "        self.name = xname\n",
    "\n",
    "if __name__ == '__main__':\n",
    "    s = Son('Bob')\n",
    "    s.work()  # 继承优先级:  如果多个父类中都有同样的函数，按照优先级来调用\n",
    "    print(Son.__mro__)  # 查看类的继承关系\n",
    "    print(Son.mro())  # 查看类的继承关系\n",
    "\n",
    "   "
   ]
  }
 ],
 "metadata": {
  "kernelspec": {
   "display_name": "venv",
   "language": "python",
   "name": "python3"
  },
  "language_info": {
   "codemirror_mode": {
    "name": "ipython",
    "version": 3
   },
   "file_extension": ".py",
   "mimetype": "text/x-python",
   "name": "python",
   "nbconvert_exporter": "python",
   "pygments_lexer": "ipython3",
   "version": "3.9.13"
  }
 },
 "nbformat": 4,
 "nbformat_minor": 2
}
