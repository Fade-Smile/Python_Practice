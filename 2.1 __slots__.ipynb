{
 "cells": [
  {
   "cell_type": "markdown",
   "metadata": {},
   "source": [
    "### 限制类动态增加属性"
   ]
  },
  {
   "cell_type": "code",
   "execution_count": 1,
   "metadata": {},
   "outputs": [
    {
     "ename": "AttributeError",
     "evalue": "'Student' object has no attribute 'age'",
     "output_type": "error",
     "traceback": [
      "\u001b[1;31m---------------------------------------------------------------------------\u001b[0m",
      "\u001b[1;31mAttributeError\u001b[0m                            Traceback (most recent call last)",
      "\u001b[1;32md:\\Learning-Material\\Python高级编程\\2.2 __slots__.ipynb 单元格 2\u001b[0m line \u001b[0;36m1\n\u001b[0;32m      <a href='vscode-notebook-cell:/d%3A/Learning-Material/Python%E9%AB%98%E7%BA%A7%E7%BC%96%E7%A8%8B/2.2%20__slots__.ipynb#W0sZmlsZQ%3D%3D?line=7'>8</a>\u001b[0m s\u001b[39m.\u001b[39mname \u001b[39m=\u001b[39m \u001b[39m'\u001b[39m\u001b[39mLiam\u001b[39m\u001b[39m'\u001b[39m\n\u001b[0;32m      <a href='vscode-notebook-cell:/d%3A/Learning-Material/Python%E9%AB%98%E7%BA%A7%E7%BC%96%E7%A8%8B/2.2%20__slots__.ipynb#W0sZmlsZQ%3D%3D?line=8'>9</a>\u001b[0m s\u001b[39m.\u001b[39msex \u001b[39m=\u001b[39m \u001b[39m'\u001b[39m\u001b[39mFemale\u001b[39m\u001b[39m'\u001b[39m\n\u001b[1;32m---> <a href='vscode-notebook-cell:/d%3A/Learning-Material/Python%E9%AB%98%E7%BA%A7%E7%BC%96%E7%A8%8B/2.2%20__slots__.ipynb#W0sZmlsZQ%3D%3D?line=9'>10</a>\u001b[0m s\u001b[39m.\u001b[39;49mage \u001b[39m=\u001b[39m \u001b[39m23\u001b[39m\n\u001b[0;32m     <a href='vscode-notebook-cell:/d%3A/Learning-Material/Python%E9%AB%98%E7%BA%A7%E7%BC%96%E7%A8%8B/2.2%20__slots__.ipynb#W0sZmlsZQ%3D%3D?line=11'>12</a>\u001b[0m \u001b[39mprint\u001b[39m(s\u001b[39m.\u001b[39mname)\n\u001b[0;32m     <a href='vscode-notebook-cell:/d%3A/Learning-Material/Python%E9%AB%98%E7%BA%A7%E7%BC%96%E7%A8%8B/2.2%20__slots__.ipynb#W0sZmlsZQ%3D%3D?line=12'>13</a>\u001b[0m \u001b[39mprint\u001b[39m(s\u001b[39m.\u001b[39msex)\n",
      "\u001b[1;31mAttributeError\u001b[0m: 'Student' object has no attribute 'age'"
     ]
    }
   ],
   "source": [
    "#  限制类动态增加属性\n",
    "class Student(object):\n",
    "    # 限制当前这个类， 只允许有name 和 sex 这两个属性 \n",
    "    __slots__ = ('name','sex')\n",
    "\n",
    "# 验证 __slots__ \n",
    "s = Student()\n",
    "s.name = 'Liam'\n",
    "s.sex = 'Female'\n",
    "s.age = 23\n",
    "\n",
    "print(s.name)\n",
    "print(s.sex)\n",
    "print(s.age)"
   ]
  },
  {
   "cell_type": "markdown",
   "metadata": {},
   "source": [
    "### 属性值的限制"
   ]
  },
  {
   "cell_type": "code",
   "execution_count": 4,
   "metadata": {},
   "outputs": [
    {
     "ename": "ValueError",
     "evalue": "age值在(0-88)之间",
     "output_type": "error",
     "traceback": [
      "\u001b[1;31m---------------------------------------------------------------------------\u001b[0m",
      "\u001b[1;31mValueError\u001b[0m                                Traceback (most recent call last)",
      "\u001b[1;32md:\\Learning-Material\\Python高级编程\\2.2 __slots__.ipynb 单元格 4\u001b[0m line \u001b[0;36m2\n\u001b[0;32m     <a href='vscode-notebook-cell:/d%3A/Learning-Material/Python%E9%AB%98%E7%BA%A7%E7%BC%96%E7%A8%8B/2.2%20__slots__.ipynb#W3sZmlsZQ%3D%3D?line=16'>17</a>\u001b[0m p \u001b[39m=\u001b[39m Person()\n\u001b[0;32m     <a href='vscode-notebook-cell:/d%3A/Learning-Material/Python%E9%AB%98%E7%BA%A7%E7%BC%96%E7%A8%8B/2.2%20__slots__.ipynb#W3sZmlsZQ%3D%3D?line=18'>19</a>\u001b[0m \u001b[39m# p.set_age = 18\u001b[39;00m\n\u001b[1;32m---> <a href='vscode-notebook-cell:/d%3A/Learning-Material/Python%E9%AB%98%E7%BA%A7%E7%BC%96%E7%A8%8B/2.2%20__slots__.ipynb#W3sZmlsZQ%3D%3D?line=19'>20</a>\u001b[0m p\u001b[39m.\u001b[39;49mset_age(\u001b[39m100\u001b[39;49m)\n\u001b[0;32m     <a href='vscode-notebook-cell:/d%3A/Learning-Material/Python%E9%AB%98%E7%BA%A7%E7%BC%96%E7%A8%8B/2.2%20__slots__.ipynb#W3sZmlsZQ%3D%3D?line=20'>21</a>\u001b[0m \u001b[39mprint\u001b[39m(p\u001b[39m.\u001b[39mget_age())\n",
      "\u001b[1;32md:\\Learning-Material\\Python高级编程\\2.2 __slots__.ipynb 单元格 4\u001b[0m line \u001b[0;36m1\n\u001b[0;32m      <a href='vscode-notebook-cell:/d%3A/Learning-Material/Python%E9%AB%98%E7%BA%A7%E7%BC%96%E7%A8%8B/2.2%20__slots__.ipynb#W3sZmlsZQ%3D%3D?line=8'>9</a>\u001b[0m \u001b[39melse\u001b[39;00m:\n\u001b[0;32m     <a href='vscode-notebook-cell:/d%3A/Learning-Material/Python%E9%AB%98%E7%BA%A7%E7%BC%96%E7%A8%8B/2.2%20__slots__.ipynb#W3sZmlsZQ%3D%3D?line=9'>10</a>\u001b[0m     \u001b[39m# print('age值在（0-88）')\u001b[39;00m\n\u001b[0;32m     <a href='vscode-notebook-cell:/d%3A/Learning-Material/Python%E9%AB%98%E7%BA%A7%E7%BC%96%E7%A8%8B/2.2%20__slots__.ipynb#W3sZmlsZQ%3D%3D?line=10'>11</a>\u001b[0m     \u001b[39mself\u001b[39m\u001b[39m.\u001b[39m_age \u001b[39m=\u001b[39m \u001b[39m0\u001b[39m  \u001b[39m# 0 为初始值\u001b[39;00m\n\u001b[1;32m---> <a href='vscode-notebook-cell:/d%3A/Learning-Material/Python%E9%AB%98%E7%BA%A7%E7%BC%96%E7%A8%8B/2.2%20__slots__.ipynb#W3sZmlsZQ%3D%3D?line=11'>12</a>\u001b[0m     \u001b[39mraise\u001b[39;00m \u001b[39mValueError\u001b[39;00m(\u001b[39m'\u001b[39m\u001b[39mage值在(0-88)之间\u001b[39m\u001b[39m'\u001b[39m)\n",
      "\u001b[1;31mValueError\u001b[0m: age值在(0-88)之间"
     ]
    }
   ],
   "source": [
    "class Person():\n",
    "    # age属性的值限制范围是0-88\n",
    "    def get_age(self):\n",
    "        return self._age\n",
    "\n",
    "    def set_age(self,age):\n",
    "        if (age>=0) & (age<=88):\n",
    "            self._age = age\n",
    "        else:\n",
    "            # print('age值在（0-88）')\n",
    "            self._age = 0  # 0 为初始值\n",
    "            raise ValueError('age值在(0-88)之间')\n",
    "            \n",
    "           \n",
    "\n",
    "if __name__ == '__main__':\n",
    "    p = Person()\n",
    "\n",
    "    # p.set_age = 18\n",
    "    p.set_age(100)\n",
    "    print(p.get_age())\n",
    "   "
   ]
  }
 ],
 "metadata": {
  "kernelspec": {
   "display_name": "venv",
   "language": "python",
   "name": "python3"
  },
  "language_info": {
   "codemirror_mode": {
    "name": "ipython",
    "version": 3
   },
   "file_extension": ".py",
   "mimetype": "text/x-python",
   "name": "python",
   "nbconvert_exporter": "python",
   "pygments_lexer": "ipython3",
   "version": "3.9.13"
  }
 },
 "nbformat": 4,
 "nbformat_minor": 2
}
