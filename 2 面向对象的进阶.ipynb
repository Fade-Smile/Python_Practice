{
 "cells": [
  {
   "cell_type": "markdown",
   "metadata": {},
   "source": [
    "1. 可以动态的给对象p赋予一个新的对象属性\n",
    "2. 可以给当前对象p 动态的赋于一个新的对象函数"
   ]
  },
  {
   "cell_type": "code",
   "execution_count": 4,
   "metadata": {},
   "outputs": [
    {
     "ename": "AttributeError",
     "evalue": "'Person' object has no attribute 'run'",
     "output_type": "error",
     "traceback": [
      "\u001b[1;31m---------------------------------------------------------------------------\u001b[0m",
      "\u001b[1;31mAttributeError\u001b[0m                            Traceback (most recent call last)",
      "\u001b[1;32md:\\Learning-Material\\Python高级编程\\2.1 面向对象的进阶.ipynb 单元格 1\u001b[0m line \u001b[0;36m1\n\u001b[0;32m     <a href='vscode-notebook-cell:/d%3A/Learning-Material/Python%E9%AB%98%E7%BA%A7%E7%BC%96%E7%A8%8B/2.1%20%E9%9D%A2%E5%90%91%E5%AF%B9%E8%B1%A1%E7%9A%84%E8%BF%9B%E9%98%B6.ipynb#W0sZmlsZQ%3D%3D?line=13'>14</a>\u001b[0m \u001b[39mdef\u001b[39;00m \u001b[39mrun\u001b[39m(\u001b[39mself\u001b[39m, work):\n\u001b[0;32m     <a href='vscode-notebook-cell:/d%3A/Learning-Material/Python%E9%AB%98%E7%BA%A7%E7%BC%96%E7%A8%8B/2.1%20%E9%9D%A2%E5%90%91%E5%AF%B9%E8%B1%A1%E7%9A%84%E8%BF%9B%E9%98%B6.ipynb#W0sZmlsZQ%3D%3D?line=14'>15</a>\u001b[0m     \u001b[39mprint\u001b[39m(\u001b[39m'\u001b[39m\u001b[39m%s\u001b[39;00m\u001b[39m 正在完成的工作是: \u001b[39m\u001b[39m%s\u001b[39;00m\u001b[39m'\u001b[39m \u001b[39m%\u001b[39m(\u001b[39mself\u001b[39m\u001b[39m.\u001b[39mname, work))\n\u001b[1;32m---> <a href='vscode-notebook-cell:/d%3A/Learning-Material/Python%E9%AB%98%E7%BA%A7%E7%BC%96%E7%A8%8B/2.1%20%E9%9D%A2%E5%90%91%E5%AF%B9%E8%B1%A1%E7%9A%84%E8%BF%9B%E9%98%B6.ipynb#W0sZmlsZQ%3D%3D?line=16'>17</a>\u001b[0m p\u001b[39m.\u001b[39;49mrun()\n",
      "\u001b[1;31mAttributeError\u001b[0m: 'Person' object has no attribute 'run'"
     ]
    }
   ],
   "source": [
    "class Person(object):\n",
    "\n",
    "    def __init__(self, name, age):\n",
    "        self.name = name\n",
    "        self.age = age\n",
    "\n",
    "if __name__ == '__main__':\n",
    "\n",
    "    p = Person('Bob', 20)\n",
    "    # 1. 可以动态的给对象p赋予一个新的对象属性\n",
    "    p.sex = 'Male'\n",
    "    # 2.可以给当前对象p 动态的赋于一个新的对象函数吗\n",
    "\n",
    "    def run(self, work):\n",
    "        print('%s 正在完成的工作是: %s' %(self.name, work))\n",
    "    \n",
    "    p.run()"
   ]
  },
  {
   "cell_type": "markdown",
   "metadata": {},
   "source": [
    "### types.MethodType"
   ]
  },
  {
   "cell_type": "code",
   "execution_count": 5,
   "metadata": {},
   "outputs": [
    {
     "name": "stdout",
     "output_type": "stream",
     "text": [
      "Bob 正在完成的工作是: 学习\n"
     ]
    }
   ],
   "source": [
    "import types\n",
    "\n",
    "class Person(object):\n",
    "\n",
    "    def __init__(self, name, age):\n",
    "        self.name = name\n",
    "        self.age = age\n",
    "\n",
    "if __name__ == '__main__':\n",
    "\n",
    "    p = Person('Bob', 20)\n",
    "    # 1. 可以动态的给对象p赋予一个新的对象属性\n",
    "    Person.sex = 'Female'   # 类属性\n",
    "    Person.address = 'UK'   # 类属性\n",
    "    p.sex = 'Male'          # 实例属性\n",
    "    # 2.可以给当前对象p 动态的赋于一个新的对象函数吗\n",
    "\n",
    "    def run(self, work):\n",
    "        print('%s 正在完成的工作是: %s' %(self.name, work))\n",
    "    \n",
    "    p.run = types.MethodType(run, p)  # 将函数run绑定到对象p上， 给对象p添加一个实例《成员，对象)数\n",
    "    p.run('学习')\n"
   ]
  },
  {
   "cell_type": "markdown",
   "metadata": {},
   "source": [
    "3. 给Person类动态赋于一个类函数"
   ]
  },
  {
   "cell_type": "code",
   "execution_count": 8,
   "metadata": {},
   "outputs": [
    {
     "name": "stdout",
     "output_type": "stream",
     "text": [
      "Bob 正在完成的工作是: 学习\n",
      "类函数中的work是:学习python\n"
     ]
    }
   ],
   "source": [
    "import types\n",
    "\n",
    "class Person(object):\n",
    "\n",
    "    def __init__(self, name, age):\n",
    "        self.name = name\n",
    "        self.age = age\n",
    "\n",
    "if __name__ == '__main__':\n",
    "\n",
    "    p = Person('Bob', 20)\n",
    "    # 1. 可以动态的给对象p赋予一个新的对象属性\n",
    "    Person.sex = 'Female'   # 类属性\n",
    "    Person.address = 'UK'   # 类属性\n",
    "    p.sex = 'Male'          # 实例属性\n",
    "    # 2.可以给当前对象p 动态的赋于一个新的对象函数吗\n",
    "\n",
    "    def run(self, work):\n",
    "        print('%s 正在完成的工作是: %s' %(self.name, work))\n",
    "    \n",
    "    p.run = types.MethodType(run, p)  # 将函数run绑定到对象p上， 给对象p添加一个实例《成员，对象)数\n",
    "    p.run('学习')\n",
    "\n",
    "\n",
    "    # 3. 给Person类动态赋于一个类丽数\n",
    "    @ classmethod\n",
    "    def class_run(cls, work):\n",
    "        print(\"类函数中的work是:%s\"%work)\n",
    "    Person.work = class_run   #将 class_run 类方法动态绑定到 Person 类上\n",
    "    # 通过实例 p 调用类方法 class_run，即通过实例调用绑定到类上的类方法\n",
    "    p.work('学习python')"
   ]
  },
  {
   "cell_type": "markdown",
   "metadata": {},
   "source": [
    "4. 给Person类动态赋于一个静态函数"
   ]
  },
  {
   "cell_type": "code",
   "execution_count": 9,
   "metadata": {},
   "outputs": [
    {
     "name": "stdout",
     "output_type": "stream",
     "text": [
      "Bob 正在完成的工作是: 学习\n",
      "类函数中的work是:学习python\n",
      "静态函数中的work是:学习python\n",
      "静态函数中的work是:学习全栈\n"
     ]
    }
   ],
   "source": [
    "import types\n",
    "\n",
    "class Person(object):\n",
    "\n",
    "    def __init__(self, name, age):\n",
    "        self.name = name\n",
    "        self.age = age\n",
    "\n",
    "if __name__ == '__main__':\n",
    "\n",
    "    p = Person('Bob', 20)\n",
    "    # 1. 可以动态的给对象p赋予一个新的对象属性\n",
    "    Person.sex = 'Female'   # 类属性\n",
    "    Person.address = 'UK'   # 类属性\n",
    "    p.sex = 'Male'          # 实例属性\n",
    "    # 2.可以给当前对象p 动态的赋于一个新的对象函数吗\n",
    "\n",
    "    def run(self, work):\n",
    "        print('%s 正在完成的工作是: %s' %(self.name, work))\n",
    "    \n",
    "    p.run = types.MethodType(run, p)  # 将函数run绑定到对象p上， 给对象p添加一个实例《成员，对象)数\n",
    "    p.run('学习')\n",
    "\n",
    "\n",
    "    # 3. 给Person类动态赋于一个类丽数\n",
    "    @ classmethod\n",
    "    def class_run(cls, work):\n",
    "        print(\"类函数中的work是:%s\"%work)\n",
    "    Person.work = class_run   #将 class_run 类方法动态绑定到 Person 类上\n",
    "    # 通过实例 p 调用类方法 class_run，即通过实例调用绑定到类上的类方法\n",
    "    p.work('学习python')\n",
    "\n",
    "    # 4. 给Person类动态赋于一个静态函数\n",
    "    @staticmethod\n",
    "    def static_run(work):\n",
    "        print(\"静态函数中的work是:%s\"%work)\n",
    "    \n",
    "    # 将 static_run 静态方法动态绑定到 Person 类上\n",
    "    Person.staticRun = static_run\n",
    "\n",
    "    # 通过实例 p 调用静态方法 staticRun，实际上是通过类或实例访问静态方法\n",
    "    p.staticRun('学习python')\n",
    "\n",
    "    # 直接通过类名 Person 调用静态方法 staticRun\n",
    "    Person.staticRun('学习全栈')\n"
   ]
  }
 ],
 "metadata": {
  "kernelspec": {
   "display_name": "venv",
   "language": "python",
   "name": "python3"
  },
  "language_info": {
   "codemirror_mode": {
    "name": "ipython",
    "version": 3
   },
   "file_extension": ".py",
   "mimetype": "text/x-python",
   "name": "python",
   "nbconvert_exporter": "python",
   "pygments_lexer": "ipython3",
   "version": "3.9.13"
  }
 },
 "nbformat": 4,
 "nbformat_minor": 2
}
