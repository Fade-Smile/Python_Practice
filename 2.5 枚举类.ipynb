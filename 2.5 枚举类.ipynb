{
 "cells": [
  {
   "cell_type": "markdown",
   "metadata": {},
   "source": [
    "### 枚举类"
   ]
  },
  {
   "cell_type": "code",
   "execution_count": 1,
   "metadata": {},
   "outputs": [
    {
     "name": "stdout",
     "output_type": "stream",
     "text": [
      "Weekday.MONDAY\n",
      "1\n",
      "Weekday.MONDAY\n",
      "Weekday.TUESDAY\n",
      "Weekday.WEDNESDAY\n",
      "Weekday.THURSDAY\n",
      "Weekday.FRIDAY\n",
      "Weekday.SATURDAY\n",
      "Weekday.SUNDAY\n",
      "These two are not equal.\n"
     ]
    }
   ],
   "source": [
    "from enum import Enum\n",
    "\n",
    "class Weekday(Enum):\n",
    "    MONDAY = 1\n",
    "    TUESDAY = 2\n",
    "    WEDNESDAY = 3\n",
    "    THURSDAY = 4\n",
    "    FRIDAY = 5\n",
    "    SATURDAY = 6\n",
    "    SUNDAY = 7\n",
    "\n",
    "# 访问枚举常量\n",
    "print(Weekday.MONDAY)  # 输出 Weekday.MONDAY\n",
    "print(Weekday.MONDAY.value)  # 输出 1，获取枚举常量的值\n",
    "\n",
    "# 遍历枚举\n",
    "for day in Weekday:\n",
    "    print(day)  # 输出每个枚举常量\n",
    "\n",
    "# 比较枚举常量\n",
    "if Weekday.MONDAY == Weekday.TUESDAY:\n",
    "    print(\"These two are equal.\")\n",
    "else:\n",
    "    print(\"These two are not equal.\")"
   ]
  },
  {
   "cell_type": "code",
   "execution_count": 10,
   "metadata": {},
   "outputs": [
    {
     "name": "stdout",
     "output_type": "stream",
     "text": [
      "{'Jan': <默认- Month.Jan: 1>, 'Feb': <默认- Month.Feb: 2>, 'Mar': <默认- Month.Mar: 3>, 'Apr': <默认- Month.Apr: 4>, 'May': <默认- Month.May: 5>, 'Jun': <默认- Month.Jun: 6>, 'Jul': <默认- Month.Jul: 7>, 'Aug': <默认- Month.Aug: 8>, 'Sep': <默认- Month.Sep: 9>, 'Oct': <默认- Month.Oct: 10>, 'Nov': <默认- Month.Nov: 11>, 'Dec': <默认- Month.Dec: 12>}\n",
      "\n",
      "2\n",
      "\n",
      "默认- Month.Feb\n",
      "Feb\n",
      "\n",
      "Jan => 默认- Month.Jan , 1\n",
      "Feb => 默认- Month.Feb , 2\n",
      "Mar => 默认- Month.Mar , 3\n",
      "Apr => 默认- Month.Apr , 4\n",
      "May => 默认- Month.May , 5\n",
      "Jun => 默认- Month.Jun , 6\n",
      "Jul => 默认- Month.Jul , 7\n",
      "Aug => 默认- Month.Aug , 8\n",
      "Sep => 默认- Month.Sep , 9\n",
      "Oct => 默认- Month.Oct , 10\n",
      "Nov => 默认- Month.Nov , 11\n",
      "Dec => 默认- Month.Dec , 12\n"
     ]
    }
   ],
   "source": [
    "from enum import Enum\n",
    "\n",
    "# 第一种: 定义一个枚举\n",
    "# 枚举中: 一个名字， 对应一个值  \n",
    "Month = Enum('默认- Month', ('Jan', 'Feb', 'Mar', 'Apr', 'May', 'Jun', 'Jul', 'Aug', 'Sep', 'Oct', 'Nov', 'Dec'))\n",
    "\n",
    "#把整个枚举中的所有值遍历出来\n",
    "print(Month.__members__)  #枚举中的值自动从1开始，不会重复\n",
    "print()\n",
    "\n",
    "# 获取二月份的值\n",
    "print(Month['Feb'].value)\n",
    "print()\n",
    "\n",
    "# 根据值(2)来得到月份的名字\n",
    "print(Month(2))\n",
    "print(Month(2).name)\n",
    "print()\n",
    "\n",
    "for name, member in Month.__members__.items():\n",
    "    print(name, '=>', member, ',', member.value)"
   ]
  },
  {
   "cell_type": "code",
   "execution_count": 13,
   "metadata": {},
   "outputs": [
    {
     "name": "stdout",
     "output_type": "stream",
     "text": [
      "Color.GREEN\n",
      "Color.RED\n"
     ]
    }
   ],
   "source": [
    "# 定义一个颜色的常量枚举\n",
    "\n",
    "class Color(Enum):  # 第二种: 自定义一个枚举类\n",
    "    RED = 100\n",
    "    GREEN = 200   \n",
    "    BLUE = 300\n",
    "    YELLOW = 200  # 不允许key相同或者value。如 value 重复了根据value取name只能取第一个\n",
    "\n",
    "\n",
    "# 根据值返回颜色\n",
    "print(Color(200))\n",
    "\n",
    "\n",
    "    "
   ]
  }
 ],
 "metadata": {
  "kernelspec": {
   "display_name": "venv",
   "language": "python",
   "name": "python3"
  },
  "language_info": {
   "codemirror_mode": {
    "name": "ipython",
    "version": 3
   },
   "file_extension": ".py",
   "mimetype": "text/x-python",
   "name": "python",
   "nbconvert_exporter": "python",
   "pygments_lexer": "ipython3",
   "version": "3.9.13"
  }
 },
 "nbformat": 4,
 "nbformat_minor": 2
}
