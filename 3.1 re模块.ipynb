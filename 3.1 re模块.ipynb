{
 "cells": [
  {
   "cell_type": "markdown",
   "metadata": {},
   "source": [
    "## re 模块"
   ]
  },
  {
   "cell_type": "markdown",
   "metadata": {},
   "source": [
    "### compile 方法"
   ]
  },
  {
   "cell_type": "code",
   "execution_count": 8,
   "metadata": {},
   "outputs": [
    {
     "name": "stdout",
     "output_type": "stream",
     "text": [
      "<re.Match object; span=(7, 18), match='13811011234'>\n",
      "13811011234\n",
      "(7, 18)\n",
      "None\n",
      "<re.Match object; span=(0, 11), match='13812345678'>\n",
      "13812345678\n"
     ]
    }
   ],
   "source": [
    "import re\n",
    "tel_1 = '''\n",
    "aesdf\n",
    "13811011234\n",
    "18659152369\n",
    "aa1a3hi233rhi3\n",
    "87156340\n",
    "affa124564531346546\n",
    "afa19454132135\n",
    "'''\n",
    "\n",
    "pattern = re.compile(r'1[3,9]\\d{9}')\n",
    "                    # r 前缀用于表示一个原始字符串(raw string)。当你在字符串前面加上 r 前缀时，它告诉 Python 解释器这是一个原始字符串，\n",
    "                    # 不对字符串中的反斜杠 '\\'进行转义处理。\n",
    "                        # 1: 匹配手机号码的第一个数字为 1。\n",
    "                        # [3,9]: 表示在第一个数字 1 后可以是数字 3 或 9。这个写法其实等同于 [139]，表示匹配数字 1、3 或 9。\n",
    "                        # \\d: 匹配一个数字。\n",
    "                        # {9}: 表示匹配前面的 \\d 准确匹配 9 次，即匹配 9 个数字。 \n",
    "\n",
    "result = pattern.search(tel_1) # search 只会返回第一个匹配的结果， 若没有匹配成功就返回 None  \n",
    "print(result)\n",
    "# 输出: <re.Match object; span=(7, 18), match='13811011234'>\n",
    "print(result.group(0))  # group 方法返回匹配的结果，这里是手机号码\n",
    "# 输出: 13811011234\n",
    "print(result.span()) # span 方法返回匹配结果的起始位置和结束位置)\n",
    "# 输出: (7, 18)\n",
    "\n",
    "result_1 = pattern.match(tel_1)  # match 方法会从开头开始匹配，若没有匹配成功就返回 None\n",
    "print(result_1)    \n",
    "# 输出: None\n",
    "\n",
    "tel_2 = '13812345678abc'\n",
    "result_2 = pattern.match(tel_2)\n",
    "print(result_2)\n",
    "# 输出: <re.Match object; span=(0, 11), match='13812345678'>\n",
    "print(result_2.group(0))\n",
    "# 输出: 13812345678\n"
   ]
  }
 ],
 "metadata": {
  "kernelspec": {
   "display_name": "venv",
   "language": "python",
   "name": "python3"
  },
  "language_info": {
   "codemirror_mode": {
    "name": "ipython",
    "version": 3
   },
   "file_extension": ".py",
   "mimetype": "text/x-python",
   "name": "python",
   "nbconvert_exporter": "python",
   "pygments_lexer": "ipython3",
   "version": "3.9.13"
  }
 },
 "nbformat": 4,
 "nbformat_minor": 2
}
