{
 "cells": [
  {
   "cell_type": "markdown",
   "metadata": {},
   "source": [
    "### 02-迭代器"
   ]
  },
  {
   "cell_type": "markdown",
   "metadata": {},
   "source": [
    "**Iterable 可迭代对象， 能够通过for循环来遍历里面的元素的对象**\n"
   ]
  },
  {
   "cell_type": "code",
   "execution_count": 5,
   "metadata": {},
   "outputs": [
    {
     "name": "stdout",
     "output_type": "stream",
     "text": [
      "arg对象是可迭代对象\n",
      "arg对象是可迭代对象\n",
      "arg对象是可迭代对象\n",
      "True\n",
      "True\n",
      "False\n"
     ]
    }
   ],
   "source": [
    "from collections.abc import Iterable\n",
    "\n",
    "\n",
    "a = (1, )\n",
    "b = [1,2]\n",
    "c = {}\n",
    "\n",
    "def test(arg):\n",
    "    if isinstance(arg, Iterable):\n",
    "        # isinstance() 是 Python 中的一个内置函数，用于检查一个对象是否是指定类（或指定类型）的实例，或者是指定类（或类型）的子类的实例。\n",
    "        print(\"arg对象是可迭代对象\")\n",
    "    else:\n",
    "        print('arg对象不是可迭代对象')\n",
    "\n",
    "test(a)\n",
    "test(b)\n",
    "test(c)\n",
    "\n",
    "print(isinstance(\"Hello World\", Iterable))\n",
    "print(isinstance((x for x in range(10) if x % 2 == 0), Iterable))\n",
    "print(isinstance(10, Iterable))"
   ]
  },
  {
   "cell_type": "code",
   "execution_count": 9,
   "metadata": {},
   "outputs": [
    {
     "name": "stdout",
     "output_type": "stream",
     "text": [
      "arg对象不是可迭代器\n",
      "arg对象不是可迭代器\n",
      "arg对象不是可迭代器\n",
      "True\n"
     ]
    }
   ],
   "source": [
    "from collections.abc import Iterator\n",
    "\n",
    "a = (1, )\n",
    "b = [1,2]\n",
    "c = {}\n",
    "\n",
    "def test1(args):\n",
    "    if isinstance(args, Iterator):\n",
    "        print(\"arg对象是可迭代器\")\n",
    "    else:\n",
    "        print('arg对象不是可迭代器')\n",
    "\n",
    "test1(a)\n",
    "test1(b)\n",
    "test1(c)\n",
    "print(isinstance((x for x in range(10) if x % 2 == 0), Iterator))"
   ]
  },
  {
   "cell_type": "code",
   "execution_count": 11,
   "metadata": {},
   "outputs": [
    {
     "name": "stdout",
     "output_type": "stream",
     "text": [
      "arg对象是可迭代器\n",
      "arg对象是可迭代器\n",
      "arg对象是可迭代器\n"
     ]
    }
   ],
   "source": [
    "# 把 list, dict, str 变成迭代器\n",
    "test1(iter(a))\n",
    "test1(iter(b))\n",
    "test1(iter(c))"
   ]
  },
  {
   "cell_type": "code",
   "execution_count": 12,
   "metadata": {},
   "outputs": [
    {
     "name": "stdout",
     "output_type": "stream",
     "text": [
      "0\n",
      "1\n",
      "2\n",
      "3\n",
      "4\n"
     ]
    }
   ],
   "source": [
    "# 生成器表达式\n",
    "my_generator = (x for x in range(10))  # 生成一个惰性计算的序列\n",
    "# 生成器函数\n",
    "def my_generator_function(n):\n",
    "    for i in range(n):\n",
    "        yield i\n",
    "gen = my_generator_function(5)  # 生成一个惰性计算的序列\n",
    "for value in gen:\n",
    "    print(value)  # 在需要时逐个获取生成器的值"
   ]
  }
 ],
 "metadata": {
  "kernelspec": {
   "display_name": "venv",
   "language": "python",
   "name": "python3"
  },
  "language_info": {
   "codemirror_mode": {
    "name": "ipython",
    "version": 3
   },
   "file_extension": ".py",
   "mimetype": "text/x-python",
   "name": "python",
   "nbconvert_exporter": "python",
   "pygments_lexer": "ipython3",
   "version": "3.9.13"
  }
 },
 "nbformat": 4,
 "nbformat_minor": 2
}
