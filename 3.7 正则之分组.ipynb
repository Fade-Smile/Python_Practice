{
 "cells": [
  {
   "cell_type": "markdown",
   "metadata": {},
   "source": [
    "### '|' 用法"
   ]
  },
  {
   "cell_type": "code",
   "execution_count": 1,
   "metadata": {},
   "outputs": [
    {
     "name": "stdout",
     "output_type": "stream",
     "text": [
      "Match found: cat\n"
     ]
    }
   ],
   "source": [
    "import re\n",
    "\n",
    "text = \"The cat jumped over the moon\"\n",
    "\n",
    "# 匹配 \"cat\" 或 \"dog\"\n",
    "match = re.search(r'cat|dog', text)\n",
    "\n",
    "if match:\n",
    "    print(\"Match found:\", match.group())\n",
    "else:\n",
    "    print(\"No match found\")\n"
   ]
  },
  {
   "cell_type": "code",
   "execution_count": 18,
   "metadata": {},
   "outputs": [
    {
     "name": "stdout",
     "output_type": "stream",
     "text": [
      "8\n",
      "0\n",
      "78\n",
      "100\n"
     ]
    }
   ],
   "source": [
    "import re\n",
    "\n",
    "#需求 1: 匹配从0到100的数字(包括100)\n",
    "\n",
    "# 我们通过中括号，[限定十位上为1到9之间的正整数]，使用？号限定前面的数是0或1个，\\d表示0到9之间任意的数字\n",
    "\n",
    "# 通过判断筛选数字为'8'\n",
    "ret = re.match(\"[1-9]?\\d\",\"8\")\n",
    "print(ret.group())\n",
    "# 输出: 8\n",
    "\n",
    "# 通过判断筛选数字为'0'，这里我们十位上的判断失效，使用\\d判断值为'0'\n",
    "ret = re.match(\"[1-9]?\\d\",\"08\")\n",
    "print(ret.group())\n",
    "# 输出: 0\n",
    "\n",
    "# ? 匹配零次或一次前面的字符 \n",
    "# \\d 匹配的是任意一个十进制数字 0 到 9\n",
    "# [1-9] 匹配任意一个十进制数字 1 到 9\n",
    "\n",
    "\n",
    "ret = re.match(\"[1-9]?\\d\",\"78\")\n",
    "print(ret.group())\n",
    "# 输出: 78\n",
    "\n",
    "ret = re.match(\"[1-9]?\\d$\",\"08\")\n",
    "# print(ret.group())\n",
    "# AttributeError: 'NoneType' object has no attribute 'group'\n",
    "\n",
    "\n",
    "\n",
    "ret = re.match(\"[1-9]?\\d$|100\",\"100\")\n",
    "print(ret.group())\n",
    "\n",
    "ret = re.match(\"[1-9]?\\d$|100\",\"08\")\n",
    "# print(ret.group())\n",
    "# 输出: AttributeError: 'NoneType' object has no attribute 'group'\n",
    "\n",
    "# 遇到错误的原因是，如果在输入字符串中找不到匹配项，则“re.match”函数将返回“None”。\n",
    "# 当您尝试在“None”上调用“.group（）”时，它会引发“AttributeError”，因为“None”类型没有“group（）”方法。\n",
    "\n"
   ]
  },
  {
   "cell_type": "markdown",
   "metadata": {},
   "source": [
    "### '()'的用法"
   ]
  },
  {
   "cell_type": "code",
   "execution_count": 19,
   "metadata": {},
   "outputs": [
    {
     "name": "stdout",
     "output_type": "stream",
     "text": [
      "整个匹配: apple orange banana\n",
      "第一个分组: apple\n",
      "第二个分组: orange\n",
      "第三个分组: banana\n"
     ]
    }
   ],
   "source": [
    "# 分组捕获\n",
    "import re\n",
    "\n",
    "text = \"apple orange banana\"\n",
    "pattern = r\"(apple) (orange) (banana)\"\n",
    "\n",
    "match = re.search(pattern, text)\n",
    "if match:\n",
    "    # 获取整个匹配的字符串\n",
    "    print(\"整个匹配:\", match.group(0))\n",
    "    # 获取第一个分组（圆括号内的第一个表达式）\n",
    "    print(\"第一个分组:\", match.group(1))\n",
    "    # 获取第二个分组\n",
    "    print(\"第二个分组:\", match.group(2))\n",
    "    # 获取第三个分组\n",
    "    print(\"第三个分组:\", match.group(3))\n"
   ]
  },
  {
   "cell_type": "code",
   "execution_count": 20,
   "metadata": {},
   "outputs": [
    {
     "name": "stdout",
     "output_type": "stream",
     "text": [
      "整个匹配: catdog\n",
      "第一个分组: dog\n"
     ]
    }
   ],
   "source": [
    "# 优先级控制\n",
    "\n",
    "import re\n",
    "\n",
    "text = \"catdog\"\n",
    "pattern = r\"cat(dog|fish)\"\n",
    "\n",
    "match = re.search(pattern, text)\n",
    "if match:\n",
    "    # 匹配整个字符串\n",
    "    print(\"整个匹配:\", match.group(0))\n",
    "    # 获取第一个分组（圆括号内的内容）\n",
    "    print(\"第一个分组:\", match.group(1))\n"
   ]
  },
  {
   "cell_type": "code",
   "execution_count": 21,
   "metadata": {},
   "outputs": [
    {
     "name": "stdout",
     "output_type": "stream",
     "text": [
      "整个匹配: repeat repeat\n",
      "第一个分组: repeat\n"
     ]
    }
   ],
   "source": [
    "# 后向引用\n",
    "\n",
    "import re\n",
    "\n",
    "text = \"repeat repeat\"\n",
    "pattern = r\"(\\b\\w+\\b) \\1\"\n",
    "\n",
    "match = re.search(pattern, text)\n",
    "if match:\n",
    "    # 获取整个匹配的字符串\n",
    "    print(\"整个匹配:\", match.group(0))\n",
    "    # 获取第一个分组，即 (\\b\\w+\\b)\n",
    "    print(\"第一个分组:\", match.group(1))\n"
   ]
  },
  {
   "cell_type": "code",
   "execution_count": 29,
   "metadata": {},
   "outputs": [
    {
     "name": "stdout",
     "output_type": "stream",
     "text": [
      "aaaa____@163.com\n",
      "aaaa____@126.com\n",
      "test10086@qq.com\n"
     ]
    }
   ],
   "source": [
    "import re\n",
    "# 需求2: 匹配网易邮箱,163.com也可以是126.com\n",
    "\n",
    "emails = '''\n",
    "    awhahlf@163.com\n",
    "affafafafaaaaaaaaaaaaaaaa@163.com\n",
    "afa_@163.com\n",
    "225afafaf@163.com\n",
    "test10086@qq.com\n",
    "aaaa____@126.com\n",
    "aaaa____@163.com\n",
    "'''\n",
    "\n",
    "# 这里常规测试邮箱，无边界限定，匹配正常\n",
    "print(re.search('^[a-zA-Z][\\w]{5,17}@163\\.com$', emails, re.MULTILINE).group())\n",
    "# 输出: aaaa____@163.com\n",
    "\n",
    "# 在括弧中加入了分支进行判断，根据结果判断，也匹配到结果，\n",
    "print(re.search('^[a-zA-Z][\\w]{5,17}@(163|126)\\.com$', emails, re.MULTILINE).group())\n",
    "# 输出: aaaa____@126.com\n",
    "\n",
    "# 如法炮制在匹配对应的分支判断下，在小括号中的分支，留下对应的其中一组结果。\n",
    "print(re.search('^[a-zA-Z][\\w]{5,17}@(163|126|qq)\\.com$', emails, re.MULTILINE).group())\n",
    "# 输出: test10086@qq.com"
   ]
  },
  {
   "cell_type": "markdown",
   "metadata": {},
   "source": [
    "###  '\\number' 用法"
   ]
  },
  {
   "cell_type": "code",
   "execution_count": 46,
   "metadata": {},
   "outputs": [
    {
     "name": "stdout",
     "output_type": "stream",
     "text": [
      "整个匹配: orange orange\n",
      "第一个单词: orange\n",
      "第二个单词: orange\n"
     ]
    }
   ],
   "source": [
    "import re\n",
    "\n",
    "text = \"apple orange orange apple\"\n",
    "\n",
    "# 正则表达式模式，捕获重复的单词\n",
    "pattern = r\"(\\b\\w+\\b) (\\1)\"\n",
    "\n",
    "'''\n",
    "1. (\\b\\w+\\b): 这是第一个捕获组。\n",
    "\n",
    "\\b 表示单词的边界，确保匹配的是完整的单词。\n",
    "\\w+ 匹配一个或多个单词字符。\n",
    "\\b 再次表示单词的边界。\n",
    "这个部分的整体含义是捕获一个完整的单词。\\b\\w+\\b 模式用于匹配单词。\n",
    "\n",
    "2. (\\1): 这是第二个捕获组，是对第一个捕获组的引用。\n",
    "\n",
    "\\1 表示引用先前捕获的第一个组（即 (\\b\\w+\\b)）。\n",
    "它在模式中寻找与第一个捕获组所捕获内容相同的文本。\n",
    "这个部分的含义是匹配之前捕获的单词，因为它引用了第一个捕获组。\n",
    "'''\n",
    "\n",
    "match = re.search(pattern, text)\n",
    "if match:\n",
    "    # 获取整个匹配的字符串\n",
    "    print(\"整个匹配:\", match.group(0))\n",
    "    # 获取第一个分组，即第一个捕获的单词\n",
    "    print(\"第一个单词:\", match.group(1))\n",
    "    # 获取第二个分组，即对第一个单词的引用，应该与第一个单词相同\n",
    "    print(\"第二个单词:\", match.group(2))\n",
    "\n"
   ]
  },
  {
   "cell_type": "code",
   "execution_count": 41,
   "metadata": {},
   "outputs": [
    {
     "name": "stdout",
     "output_type": "stream",
     "text": [
      "<re.Match object; span=(0, 18), match='<HTML>hello</HTML>'>\n",
      "<re.Match object; span=(0, 12), match='<p>hello</p>'>\n",
      "<re.Match object; span=(0, 16), match='<div>hello</div>'>\n",
      "None\n",
      "<p>hello</div>\n",
      "None\n"
     ]
    }
   ],
   "source": [
    "# 需求3: 匹配 <h1> xxxx </h1>\n",
    "\n",
    "import re\n",
    "\n",
    "# 进行匹配，首先是首位的标签，头部 <[a-zA-Z]*> 中间 \\w* 尾部 <[a-zA-Z]*>，完成匹配\n",
    "print(re.match('<[a-zA-Z]+>\\w*</[a-zA-Z]+>','<HTML>hello</HTML>'))\n",
    "# 输出: <re.Match object; span=(0, 12), match='<HTML>hello</HTML>'>\n",
    "\n",
    "print(re.match('<[a-zA-Z]+>\\w*</[a-zA-Z]+>','<p>hello</p>'))\n",
    "# 输出: <re.Match object; span=(0, 12), match='<p>hello</p>'>\n",
    "\n",
    "print(re.match('<[a-zA-Z]+>\\w*</[a-zA-Z]+>','<div>hello</div>'))\n",
    "# 输出: <re.Match object; span=(0, 16), match='<div>hello</div>'>\n",
    "\n",
    "print(re.match('<[a-zA-Z]+>\\w*</[a-zA-Z]+>','<h5>hello</h5>'))\n",
    "# 输出: None\n",
    "\n",
    "# -------------------------------------------------------------------------------------------------------------------------------------------\n",
    "\n",
    "# 进行匹配，首先是首位的标签，头部 <[a-zA-Z]*> 中间 \\w* 尾部 <[a-zA-Z]*>，\n",
    "# 但是匹配中我们发现，最后一个标签存在一定的问题，无法满足前后一致\n",
    "\n",
    "# 注意: <p>  </div> 属于不合法配对\n",
    "print(re.match('<[a-zA-Z]+>\\w*</[a-zA-Z]+>','<p>hello</div>').group())\n",
    "# 输出: <p>hello</div>\n",
    "\n",
    "# 那此时我们明白，无论你的前面是何种类型的标签，后方结束标签理论上是需要一致的匹配结构\n",
    "# 那这里就引出一个分组的概念，每个括号是一个组合，组合从1开始编号，那我们将操作范围限定我们的头部标签，尾部进行选择编号\n",
    "# <([a-zA-Z]*)>\\w*</\\1> 这里面的\\1 既是对应标签的一种\n",
    "\n",
    "print(re.match(r'<([a-zA-Z]+)>\\w*</\\1>','<p>hello</div>'))\n",
    "# 输出: none\n",
    "\n",
    "# 可以看到经过组合编号进行同步的操作，完全避免了标签不同的情况\n"
   ]
  },
  {
   "cell_type": "markdown",
   "metadata": {},
   "source": [
    "### ( ? P < name > ) 用法"
   ]
  },
  {
   "cell_type": "code",
   "execution_count": 42,
   "metadata": {},
   "outputs": [
    {
     "name": "stdout",
     "output_type": "stream",
     "text": [
      "整个匹配: John has 10 apples\n",
      "名称为 'name' 的分组: John\n",
      "名称为 'number' 的分组: 10\n",
      "名称为 'fruit' 的分组: apples\n",
      "整个匹配: Jane has 15 oranges\n",
      "名称为 'name' 的分组: Jane\n",
      "名称为 'number' 的分组: 15\n",
      "名称为 'fruit' 的分组: oranges\n"
     ]
    }
   ],
   "source": [
    "import re\n",
    "\n",
    "text = \"John has 10 apples, Jane has 15 oranges.\"\n",
    "\n",
    "pattern = r\"(?P<name>\\b\\w+\\b) has (?P<number>\\d+) (?P<fruit>\\w+)\"\n",
    "matches = re.finditer(pattern, text)\n",
    "\n",
    "for match in matches:\n",
    "    # 获取整个匹配的字符串\n",
    "    print(\"整个匹配:\", match.group(0))\n",
    "    # 获取命名为 'name' 的分组\n",
    "    print(\"名称为 'name' 的分组:\", match.group('name'))\n",
    "    # 获取命名为 'number' 的分组\n",
    "    print(\"名称为 'number' 的分组:\", match.group('number'))\n",
    "    # 获取命名为 'fruit' 的分组\n",
    "    print(\"名称为 'fruit' 的分组:\", match.group('fruit'))\n",
    "\n"
   ]
  },
  {
   "cell_type": "code",
   "execution_count": 55,
   "metadata": {},
   "outputs": [
    {
     "name": "stdout",
     "output_type": "stream",
     "text": [
      "<div><p> hellp</p></div>\n",
      "\n",
      "<re.Match object; span=(0, 28), match='<html><h1>我是一号字体</h1></html>'>\n",
      "<html><h1>我是一号字体</h1></html>\n",
      "\n",
      "<html><h1> www.google.com </h1></html>\n"
     ]
    }
   ],
   "source": [
    "import re \n",
    "\n",
    "# 第二种写法, 匹配一个网页的嵌套标签\n",
    "line = '<div><p> hellp</p></div>'\n",
    "\n",
    "print(re.match(r'<(?P<outer>\\w*)><(?P<inner>\\w*)>.*</(?P=inner)></(?P=outer)>', line).group())\n",
    "# 输出: <div><p> hellp</p></div>\n",
    "print()\n",
    "\n",
    "s = '<html><h1>我是一号字体</h1></html>'\n",
    "# pattern = r'<(.+)><(.+)>.+</\\2></\\1>'\n",
    "#如果分组比较多的话，数起来比较麻烦，可以使用起别名的方法?P<要起的名字> 以及使用别名(?P=之前起的别名)\n",
    "pattern = r'<(?P<key1>.+)><(?P<key2>.+)>.+</(?P=key2)></(?P=key1)>'\n",
    "v = re.match(pattern,s)\n",
    "print(v)\n",
    "# 输出: <re.Match object; span=(0, 28), match='<html><h1>我是一号字体</h1></html>'>\n",
    "print(v.group())\n",
    "# 输出: <html><h1>我是一号字体</h1></html>\n",
    "print()\n",
    "\n",
    "\n",
    "# 进行通过别名的方法解决问题\n",
    "ret = re.match(r\"<(?P<name1>\\w*)><(?P<name2>\\w*)>.*</(?P=name2)></(?P=name1)>\", \"<html><h1> www.google.com </h1></html>\")\n",
    "print(ret.group())\n",
    "# 输出:  <html><h1> www.mashibin.com </h1></html>\n",
    "\n",
    "\n",
    "# 这里起了别名，但是针对匹配的对应的字符串并没有对应的内容，无法完成匹配，所以错误\n",
    "ret = re.match(r\"<(?P<name1>\\w*)><(?P<name2>\\w*)>.*</(?P=name2)></(?P=name1)>\", \"<html><h1> www.google.com </h2></html>\")\n",
    "# print(ret.group())\n",
    "# 输出:  AttributeError: 'NoneType' object has no attribute 'group'"
   ]
  }
 ],
 "metadata": {
  "kernelspec": {
   "display_name": "venv",
   "language": "python",
   "name": "python3"
  },
  "language_info": {
   "codemirror_mode": {
    "name": "ipython",
    "version": 3
   },
   "file_extension": ".py",
   "mimetype": "text/x-python",
   "name": "python",
   "nbconvert_exporter": "python",
   "pygments_lexer": "ipython3",
   "version": "3.9.13"
  }
 },
 "nbformat": 4,
 "nbformat_minor": 2
}
