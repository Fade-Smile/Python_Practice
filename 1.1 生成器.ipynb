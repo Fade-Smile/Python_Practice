{
 "cells": [
  {
   "cell_type": "code",
   "execution_count": 1,
   "metadata": {},
   "outputs": [],
   "source": [
    "import time"
   ]
  },
  {
   "cell_type": "markdown",
   "metadata": {},
   "source": [
    "### 01 - 生成器"
   ]
  },
  {
   "cell_type": "markdown",
   "metadata": {},
   "source": [
    "- 一般建立列表的方法"
   ]
  },
  {
   "cell_type": "code",
   "execution_count": 2,
   "metadata": {},
   "outputs": [
    {
     "name": "stdout",
     "output_type": "stream",
     "text": [
      "[1, 2, 3, 4, 5, 6, 7, 8, 9, 10]\n"
     ]
    }
   ],
   "source": [
    "list1 = [1, 2, 3, 4, 5, 6, 7, 8, 9, 10]\n",
    "print(list1)"
   ]
  },
  {
   "cell_type": "markdown",
   "metadata": {},
   "source": [
    "- 列表推导式"
   ]
  },
  {
   "cell_type": "code",
   "execution_count": 3,
   "metadata": {},
   "outputs": [
    {
     "name": "stdout",
     "output_type": "stream",
     "text": [
      "[1, 2, 3, 4, 5, 6, 7, 8, 9, 10]\n"
     ]
    }
   ],
   "source": [
    "lst1 = [x for x in range(1, 11)]\n",
    "print(lst1)"
   ]
  },
  {
   "cell_type": "markdown",
   "metadata": {},
   "source": [
    "<pre>\n",
    "引出生成器: 对象， 保存了产生元素的算法， 同时会记录游标的位置\n",
    "创建一个生成器: 1、通过列表推导式来创建\n",
    "               2、通过函数来创建生成器 【yield】\n",
    "\n",
    "遍历生成器中的元素内容：\n",
    "       1、 通过next(), 当生成器中没有数据时，继续调用next() 会抛异常：StopIteratio\n",
    "       2、 通过for循环\n",
    "       3、 object的内置函数 __next__ : 当已经遍历到生成器的结尾抛异常：StopIteratio\n",
    "       4、 send函数  但是生成器的第一个值必须使用send(None)，后面的值就没有限制了。\n",
    "</pre>"
   ]
  },
  {
   "cell_type": "code",
   "execution_count": 4,
   "metadata": {},
   "outputs": [
    {
     "name": "stdout",
     "output_type": "stream",
     "text": [
      "<generator object <genexpr> at 0x000001F545C2DD60>\n"
     ]
    }
   ],
   "source": [
    "g = (x for x in range(1, 11))\n",
    "print(g)"
   ]
  },
  {
   "cell_type": "code",
   "execution_count": 5,
   "metadata": {},
   "outputs": [
    {
     "name": "stdout",
     "output_type": "stream",
     "text": [
      "1\n",
      "2\n",
      "3\n"
     ]
    },
    {
     "name": "stdout",
     "output_type": "stream",
     "text": [
      "4\n",
      "5\n"
     ]
    }
   ],
   "source": [
    "# 1、 通过next()\n",
    "print(next(g))\n",
    "print(next(g))\n",
    "print(next(g))\n",
    "time.sleep(5)\n",
    "print(next(g))\n",
    "print(next(g))"
   ]
  },
  {
   "cell_type": "code",
   "execution_count": 6,
   "metadata": {},
   "outputs": [
    {
     "name": "stdout",
     "output_type": "stream",
     "text": [
      "1\n",
      "2\n",
      "3\n",
      "4\n",
      "5\n",
      "6\n",
      "7\n",
      "8\n",
      "9\n",
      "10\n"
     ]
    }
   ],
   "source": [
    "# 2、 通过for循环\n",
    "g2 = (x for x in range(1, 11))\n",
    "\n",
    "for i in g2:\n",
    "    print(i)"
   ]
  },
  {
   "cell_type": "code",
   "execution_count": 7,
   "metadata": {},
   "outputs": [
    {
     "name": "stdout",
     "output_type": "stream",
     "text": [
      "0\n",
      "2\n",
      "4\n",
      "6\n",
      "8\n"
     ]
    },
    {
     "ename": "StopIteration",
     "evalue": "",
     "output_type": "error",
     "traceback": [
      "\u001b[1;31m---------------------------------------------------------------------------\u001b[0m",
      "\u001b[1;31mStopIteration\u001b[0m                             Traceback (most recent call last)",
      "\u001b[1;32md:\\Learning-Material\\Python高级编程\\01-生成器.ipynb 单元格 11\u001b[0m line \u001b[0;36m8\n\u001b[0;32m      <a href='vscode-notebook-cell:/d%3A/Learning-Material/Python%E9%AB%98%E7%BA%A7%E7%BC%96%E7%A8%8B/01-%E7%94%9F%E6%88%90%E5%99%A8.ipynb#X13sZmlsZQ%3D%3D?line=5'>6</a>\u001b[0m \u001b[39mprint\u001b[39m(\u001b[39mnext\u001b[39m(g3))\n\u001b[0;32m      <a href='vscode-notebook-cell:/d%3A/Learning-Material/Python%E9%AB%98%E7%BA%A7%E7%BC%96%E7%A8%8B/01-%E7%94%9F%E6%88%90%E5%99%A8.ipynb#X13sZmlsZQ%3D%3D?line=6'>7</a>\u001b[0m \u001b[39mprint\u001b[39m(\u001b[39mnext\u001b[39m(g3))\n\u001b[1;32m----> <a href='vscode-notebook-cell:/d%3A/Learning-Material/Python%E9%AB%98%E7%BA%A7%E7%BC%96%E7%A8%8B/01-%E7%94%9F%E6%88%90%E5%99%A8.ipynb#X13sZmlsZQ%3D%3D?line=7'>8</a>\u001b[0m \u001b[39mprint\u001b[39m(\u001b[39mnext\u001b[39;49m(g3))  \u001b[39m# 第6次next是时候， 生成器中已经没有数据了\u001b[39;00m\n",
      "\u001b[1;31mStopIteration\u001b[0m: "
     ]
    }
   ],
   "source": [
    "g3 = (x for x in range(10) if x % 2 == 0)\n",
    "\n",
    "print(next(g3))\n",
    "print(next(g3))\n",
    "print(next(g3))\n",
    "print(next(g3))\n",
    "print(next(g3))\n",
    "print(next(g3))  # 第6次next是时候， 生成器中已经没有数据了"
   ]
  },
  {
   "cell_type": "markdown",
   "metadata": {},
   "source": [
    "### 斐波拉契数列"
   ]
  },
  {
   "cell_type": "code",
   "execution_count": 8,
   "metadata": {},
   "outputs": [
    {
     "name": "stdout",
     "output_type": "stream",
     "text": [
      "<generator object fib_a at 0x000001F545CEF120>\n",
      "1\n"
     ]
    }
   ],
   "source": [
    "def fib_a(times):\n",
    "    # 初始化\n",
    "    n = 0\n",
    "    a, b = 0, 1\n",
    "    while n < times:\n",
    "        # print(b)\n",
    "        yield b # b 就是斐波拉契数列中的一个元素\n",
    "        # yield一般用于创建生成器: 工作返回后面交量值给生成器\n",
    "        a, b = b, a + b\n",
    "        n += 1\n",
    "    return 'done'\n",
    "\n",
    "g4 = fib_a(10)\n",
    "print(g4)\n",
    "print(next(g4))"
   ]
  },
  {
   "cell_type": "code",
   "execution_count": 9,
   "metadata": {},
   "outputs": [
    {
     "name": "stdout",
     "output_type": "stream",
     "text": [
      "<generator object fib_a_1 at 0x000001F545C2DF90>\n"
     ]
    }
   ],
   "source": [
    "def fib_a_1():\n",
    "    # 初始化\n",
    "    a, b = 0, 1\n",
    "    while True:\n",
    "        yield b # b 就是斐波拉契数列中的一个元素\n",
    "        # yield一般用于创建生成器: 工作返回后面交量值给生成器\n",
    "        a, b = b, a + b\n",
    "    return 'done'\n",
    "\n",
    "g4 = fib_a_1()\n",
    "print(g4)"
   ]
  },
  {
   "cell_type": "code",
   "execution_count": 10,
   "metadata": {},
   "outputs": [
    {
     "name": "stdout",
     "output_type": "stream",
     "text": [
      "Hello World\n",
      "None\n"
     ]
    }
   ],
   "source": [
    "def test():\n",
    "    print('Hello World')\n",
    "\n",
    "t = test()\n",
    "print(t)"
   ]
  },
  {
   "cell_type": "code",
   "execution_count": 11,
   "metadata": {},
   "outputs": [
    {
     "name": "stdout",
     "output_type": "stream",
     "text": [
      "<generator object fib_a_2 at 0x000001F5470AAF90>\n",
      "1\n",
      "None\n",
      "1\n",
      "None\n",
      "2\n",
      "None\n",
      "3\n",
      "None\n",
      "5\n"
     ]
    }
   ],
   "source": [
    "def fib_a_2():\n",
    "    # 初始化\n",
    "    a, b = 0, 1\n",
    "    while True:\n",
    "        temp = yield b # b 就是斐波拉契数列中的一个元素\n",
    "        # yield一般用于创建生成器: 工作返回后面交量值给生成器\n",
    "        a, b = b, a + b\n",
    "        print(temp)  # 输出None\n",
    "    return 'done'\n",
    "\n",
    "g5 = fib_a_2()\n",
    "print(g5)\n",
    "print(next(g5))\n",
    "print(next(g5))\n",
    "print(next(g5))\n",
    "print(next(g5))\n",
    "print(next(g5))"
   ]
  },
  {
   "cell_type": "code",
   "execution_count": 12,
   "metadata": {},
   "outputs": [
    {
     "name": "stdout",
     "output_type": "stream",
     "text": [
      "None\n",
      "8\n",
      "None\n",
      "13\n",
      "None\n",
      "21\n",
      "None\n",
      "34\n",
      "None\n",
      "55\n"
     ]
    }
   ],
   "source": [
    "# 3. 通过object的内置函数__next__()\n",
    "print(g5.__next__())\n",
    "print(g5.__next__())\n",
    "print(g5.__next__())\n",
    "print(g5.__next__())\n",
    "print(g5.__next__())"
   ]
  },
  {
   "cell_type": "code",
   "execution_count": 22,
   "metadata": {},
   "outputs": [
    {
     "name": "stdout",
     "output_type": "stream",
     "text": [
      "1\n",
      "None\n",
      "1\n",
      "\n",
      "2\n",
      "\n",
      "3\n",
      "\n",
      "5\n"
     ]
    }
   ],
   "source": [
    "#  4、 send函数\n",
    "g6 = fib_a_2()\n",
    "print(g6.send(None))\n",
    "print(g6.send(None))\n",
    "print(g6.send(''))\n",
    "print(g6.send(''))\n",
    "print(g6.send(''))"
   ]
  }
 ],
 "metadata": {
  "kernelspec": {
   "display_name": "venv",
   "language": "python",
   "name": "python3"
  },
  "language_info": {
   "codemirror_mode": {
    "name": "ipython",
    "version": 3
   },
   "file_extension": ".py",
   "mimetype": "text/x-python",
   "name": "python",
   "nbconvert_exporter": "python",
   "pygments_lexer": "ipython3",
   "version": "3.9.13"
  }
 },
 "nbformat": 4,
 "nbformat_minor": 2
}
